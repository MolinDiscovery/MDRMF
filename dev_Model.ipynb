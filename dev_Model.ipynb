{
 "cells": [
  {
   "cell_type": "code",
   "execution_count": 1,
   "metadata": {},
   "outputs": [],
   "source": [
    "import MDRMF as mf\n",
    "import numpy as np"
   ]
  },
  {
   "cell_type": "code",
   "execution_count": 2,
   "metadata": {},
   "outputs": [],
   "source": [
    "data = mf.MoleculeLoader(\"10K.csv\", \"SMILES\", \"r_i_docking_score\").df"
   ]
  },
  {
   "cell_type": "code",
   "execution_count": 3,
   "metadata": {},
   "outputs": [],
   "source": [
    "feat = mf.Featurizer(data)\n",
    "features = feat.featurize(\"morgan\", radius=2, nBits=1024)"
   ]
  },
  {
   "cell_type": "code",
   "execution_count": 4,
   "metadata": {},
   "outputs": [
    {
     "data": {
      "text/plain": [
       "<Dataset X.shape: (9898, 1024), y.shape: (9898,), w.shape: (9898,), ids: ['C[C@@H](NC(=O)N1C[C@H](c2ccccc2)[C@H]2COCC[C@H]21)c1ccc(NC(=O)NC2CC2)cc1'\n",
       " 'O=C(Nc1cccc(C(=O)N2CCC(c3c[nH]c4ncccc34)CC2)c1)[C@@H]1Cc2ccccc2O1'\n",
       " 'Cc1nn(-c2ccccc2)c2nc(C(=O)N3CCC([C@H]4C(=O)Nc5ccccc54)CC3)ccc12' ...\n",
       " 'Cn1cccc(C(=O)N2CCN(C3CC3)c3ccc(Cl)cc32)c1=O'\n",
       " 'O=C([O-])[C@H]1CC[C@@H](C(=O)N2CCCc3ccccc32)CC1'\n",
       " 'CCNS(=O)(=O)c1cc(NCCOC)ccn1']>"
      ]
     },
     "execution_count": 4,
     "metadata": {},
     "output_type": "execute_result"
    }
   ],
   "source": [
    "X = features\n",
    "y = data['scores']\n",
    "ids = data['SMILES']\n",
    "\n",
    "dataset = mf.Dataset(X=X, y=y, ids=ids)\n",
    "dataset"
   ]
  },
  {
   "cell_type": "code",
   "execution_count": 5,
   "metadata": {},
   "outputs": [
    {
     "data": {
      "text/plain": [
       "(9898,)"
      ]
     },
     "execution_count": 5,
     "metadata": {},
     "output_type": "execute_result"
    }
   ],
   "source": [
    "dataset.ids.shape"
   ]
  },
  {
   "cell_type": "code",
   "execution_count": 6,
   "metadata": {},
   "outputs": [],
   "source": [
    "from MDRMF.dataset import Dataset\n",
    "\n",
    "class Modeller:\n",
    "\n",
    "    def __init__(self, dataset, iterations=10, initial_sample_size=10, acquisition_size=10, acquisition_method=\"greedy\") -> None:\n",
    "        \n",
    "        self.dataset = dataset\n",
    "        self.iterations = iterations\n",
    "        self.initial_sample_size = initial_sample_size\n",
    "        self.acquisition_size = acquisition_size\n",
    "        self.acquisition_method = acquisition_method\n",
    "\n",
    "    def initial_sampler(self):\n",
    "        # Select random points in the dataset\n",
    "        random_indices = np.random.choice(len(self.dataset.X), size=self.initial_sample_size, replace=False)\n",
    "\n",
    "        # Select random points\n",
    "        X_samples = self.dataset.X[random_indices]\n",
    "        y_samples = self.dataset.y[random_indices]\n",
    "        ids_samples = self.dataset.ids[random_indices]\n",
    "        w_samples = self.dataset.w[random_indices]\n",
    "\n",
    "        random_points = Dataset(X=X_samples, y=y_samples, ids=ids_samples, w=w_samples)\n",
    "\n",
    "        # Delete selected points from dataset\n",
    "        mask = np.ones(len(self.dataset.X), dtype=bool)\n",
    "        mask[random_indices] = False\n",
    "        self.dataset.X = self.dataset.X[mask]\n",
    "        self.dataset.y = self.dataset.y[mask]\n",
    "        self.dataset.ids = self.dataset.ids[mask]\n",
    "        self.dataset.w = self.dataset.w[mask]\n",
    "\n",
    "        return random_points\n",
    "\n",
    "    def acquisition():\n",
    "        pass\n",
    "    \n",
    "    def fit():\n",
    "        pass\n",
    "\n",
    "    def predict():\n",
    "        pass"
   ]
  },
  {
   "cell_type": "code",
   "execution_count": 11,
   "metadata": {},
   "outputs": [
    {
     "data": {
      "text/plain": [
       "<Dataset X.shape: (10, 1024), y.shape: (10,), w.shape: (10,), ids: ['Cc1noc2ncnc(N[C@H](CO)c3ccccc3OC(F)(F)F)c12'\n",
       " 'COCC1CCN(C(=O)c2ccc3ccc(OC)cc3c2)CC1'\n",
       " 'CC1(C)OCC[C@@H]1NC(=O)NCc1ccc(C(F)F)cc1'\n",
       " 'Cc1ccc([C@@H]2COCCN2C(=O)c2c[nH]c(=O)c3ccccc23)o1'\n",
       " 'COc1cccc(CCC(=O)N2CCNC(=O)C[C@@H]2c2ccccc2)c1OC'\n",
       " 'O=C(NCCc1cn2ccccc2n1)N[C@]12C[C@H]3C[C@H](C[C@H](C3)C1)C2'\n",
       " 'O=C(CCC1CCCCCC1)N1CCC(c2cnco2)CC1'\n",
       " 'O=C(Nc1[nH]ncc1-c1ccccc1)[C@H]1C[C@@H]2C=C[C@H]1CC2'\n",
       " 'COc1c(C)cnc(Cn2nnc(C(C)(C)S(C)(=O)=O)n2)c1C'\n",
       " 'COc1ccc(-c2nnc3n2CCCCCC3)c(OC)c1']>"
      ]
     },
     "execution_count": 11,
     "metadata": {},
     "output_type": "execute_result"
    }
   ],
   "source": [
    "model = Modeller(dataset)\n",
    "sample_dataset = model.initial_sampler()\n",
    "sample_dataset"
   ]
  },
  {
   "cell_type": "code",
   "execution_count": 12,
   "metadata": {},
   "outputs": [
    {
     "data": {
      "text/plain": [
       "<Dataset X.shape: (9868, 1024), y.shape: (9868,), w.shape: (9868,), ids: ['C[C@@H](NC(=O)N1C[C@H](c2ccccc2)[C@H]2COCC[C@H]21)c1ccc(NC(=O)NC2CC2)cc1'\n",
       " 'O=C(Nc1cccc(C(=O)N2CCC(c3c[nH]c4ncccc34)CC2)c1)[C@@H]1Cc2ccccc2O1'\n",
       " 'Cc1nn(-c2ccccc2)c2nc(C(=O)N3CCC([C@H]4C(=O)Nc5ccccc54)CC3)ccc12' ...\n",
       " 'Cn1cccc(C(=O)N2CCN(C3CC3)c3ccc(Cl)cc32)c1=O'\n",
       " 'O=C([O-])[C@H]1CC[C@@H](C(=O)N2CCCc3ccccc32)CC1'\n",
       " 'CCNS(=O)(=O)c1cc(NCCOC)ccn1']>"
      ]
     },
     "execution_count": 12,
     "metadata": {},
     "output_type": "execute_result"
    }
   ],
   "source": [
    "model.dataset"
   ]
  },
  {
   "cell_type": "code",
   "execution_count": 20,
   "metadata": {},
   "outputs": [
    {
     "data": {
      "text/plain": [
       "array([[0, 0, 0, ..., 0, 0, 0],\n",
       "       [0, 0, 0, ..., 0, 0, 0],\n",
       "       [0, 0, 0, ..., 0, 0, 0],\n",
       "       ...,\n",
       "       [0, 0, 0, ..., 0, 0, 0],\n",
       "       [0, 0, 0, ..., 0, 0, 0],\n",
       "       [0, 0, 0, ..., 0, 0, 0]], dtype=int8)"
      ]
     },
     "execution_count": 20,
     "metadata": {},
     "output_type": "execute_result"
    }
   ],
   "source": [
    "model = Modeller(dataset)\n",
    "x, y, ids, w = model.initial_sampler()\n",
    "x"
   ]
  },
  {
   "cell_type": "code",
   "execution_count": 7,
   "metadata": {},
   "outputs": [],
   "source": [
    "class RFModeller(Modeller):\n",
    "\n",
    "    pass\n",
    "\n"
   ]
  },
  {
   "cell_type": "code",
   "execution_count": 8,
   "metadata": {},
   "outputs": [
    {
     "ename": "TypeError",
     "evalue": "fit() takes 0 positional arguments but 1 was given",
     "output_type": "error",
     "traceback": [
      "\u001b[1;31m---------------------------------------------------------------------------\u001b[0m",
      "\u001b[1;31mTypeError\u001b[0m                                 Traceback (most recent call last)",
      "Cell \u001b[1;32mIn[8], line 3\u001b[0m\n\u001b[0;32m      1\u001b[0m model \u001b[39m=\u001b[39m RFModeller(dataset\u001b[39m=\u001b[39mdataset)\n\u001b[1;32m----> 3\u001b[0m model\u001b[39m.\u001b[39;49mfit()\n",
      "\u001b[1;31mTypeError\u001b[0m: fit() takes 0 positional arguments but 1 was given"
     ]
    }
   ],
   "source": [
    "model = RFModeller(dataset=dataset)\n",
    "\n",
    "model.fit()"
   ]
  },
  {
   "cell_type": "code",
   "execution_count": null,
   "metadata": {},
   "outputs": [],
   "source": []
  }
 ],
 "metadata": {
  "kernelspec": {
   "display_name": "Python 3",
   "language": "python",
   "name": "python3"
  },
  "language_info": {
   "codemirror_mode": {
    "name": "ipython",
    "version": 3
   },
   "file_extension": ".py",
   "mimetype": "text/x-python",
   "name": "python",
   "nbconvert_exporter": "python",
   "pygments_lexer": "ipython3",
   "version": "3.8.10"
  },
  "orig_nbformat": 4
 },
 "nbformat": 4,
 "nbformat_minor": 2
}

{
 "cells": [
  {
   "cell_type": "code",
   "execution_count": 1,
   "metadata": {},
   "outputs": [],
   "source": [
    "import MDRMF as mf\n",
    "import numpy as np"
   ]
  },
  {
   "cell_type": "code",
   "execution_count": 2,
   "metadata": {},
   "outputs": [],
   "source": [
    "data = mf.MoleculeLoader(\"10K.csv\", \"SMILES\", \"r_i_docking_score\").df"
   ]
  },
  {
   "cell_type": "code",
   "execution_count": 3,
   "metadata": {},
   "outputs": [],
   "source": [
    "feat = mf.Featurizer(data)\n",
    "features = feat.featurize(\"morgan\", radius=2, nBits=1024)"
   ]
  },
  {
   "cell_type": "code",
   "execution_count": 4,
   "metadata": {},
   "outputs": [
    {
     "data": {
      "text/plain": [
       "<Dataset X.shape: (9898, 1024), y.shape: (9898,), w.shape: (9898,), ids: ['C[C@@H](NC(=O)N1C[C@H](c2ccccc2)[C@H]2COCC[C@H]21)c1ccc(NC(=O)NC2CC2)cc1'\n",
       " 'O=C(Nc1cccc(C(=O)N2CCC(c3c[nH]c4ncccc34)CC2)c1)[C@@H]1Cc2ccccc2O1'\n",
       " 'Cc1nn(-c2ccccc2)c2nc(C(=O)N3CCC([C@H]4C(=O)Nc5ccccc54)CC3)ccc12' ...\n",
       " 'Cn1cccc(C(=O)N2CCN(C3CC3)c3ccc(Cl)cc32)c1=O'\n",
       " 'O=C([O-])[C@H]1CC[C@@H](C(=O)N2CCCc3ccccc32)CC1'\n",
       " 'CCNS(=O)(=O)c1cc(NCCOC)ccn1']>"
      ]
     },
     "execution_count": 4,
     "metadata": {},
     "output_type": "execute_result"
    }
   ],
   "source": [
    "X = features\n",
    "y = data['scores']\n",
    "ids = data['SMILES']\n",
    "\n",
    "dataset = mf.Dataset(X=X, y=y, ids=ids)\n",
    "dataset"
   ]
  },
  {
   "cell_type": "code",
   "execution_count": 6,
   "metadata": {},
   "outputs": [
    {
     "data": {
      "text/plain": [
       "numpy.ndarray"
      ]
     },
     "execution_count": 6,
     "metadata": {},
     "output_type": "execute_result"
    }
   ],
   "source": [
    "type(dataset.y)"
   ]
  },
  {
   "cell_type": "code",
   "execution_count": 7,
   "metadata": {},
   "outputs": [],
   "source": [
    "from MDRMF.dataset import Dataset\n",
    "\n",
    "class Modeller:\n",
    "\n",
    "    def __init__(self, dataset, iterations=10, initial_sample_size=10, acquisition_size=10, acquisition_method=\"greedy\") -> None:\n",
    "        \n",
    "        self.dataset = dataset\n",
    "        self.iterations = iterations\n",
    "        self.initial_sample_size = initial_sample_size\n",
    "        self.acquisition_size = acquisition_size\n",
    "        self.acquisition_method = acquisition_method\n",
    "\n",
    "    def _initial_sampler(self):\n",
    "        # Select random points in the dataset\n",
    "        random_indices = np.random.choice(len(self.dataset.X), size=self.initial_sample_size, replace=False)\n",
    "\n",
    "        # Select random points\n",
    "        X_samples = self.dataset.X[random_indices]\n",
    "        y_samples = self.dataset.y[random_indices]\n",
    "        ids_samples = self.dataset.ids[random_indices]\n",
    "        w_samples = self.dataset.w[random_indices]\n",
    "\n",
    "        random_points = Dataset(X=X_samples, y=y_samples, ids=ids_samples, w=w_samples)\n",
    "\n",
    "        # Delete selected points from dataset\n",
    "        mask = np.ones(len(self.dataset.X), dtype=bool)\n",
    "        mask[random_indices] = False\n",
    "        self.dataset.X = self.dataset.X[mask]\n",
    "        self.dataset.y = self.dataset.y[mask]\n",
    "        self.dataset.ids = self.dataset.ids[mask]\n",
    "        self.dataset.w = self.dataset.w[mask]\n",
    "\n",
    "        return random_points\n",
    "\n",
    "    def _acquisition(self, model):\n",
    "        if self.acquisition_method == \"greedy\":\n",
    "            \n",
    "            # Predict on the full dataset\n",
    "            preds = model.predict(self.dataset.X)\n",
    "\n",
    "            # Find indices of the x-number of smallest values\n",
    "            indices = np.argpartition(preds, self.acquisition_size)[:self.acquisition_size]\n",
    "\n",
    "            # Get the best docked molecules from the dataset\n",
    "            acq_dataset = self.dataset.get_points(indices)\n",
    "\n",
    "            # Remove these datapoints from the dataset\n",
    "            self.dataset.remove_points(indices)\n",
    "\n",
    "\n",
    "            return acq_dataset\n",
    "    \n",
    "    def fit():\n",
    "        pass # Must be defined in child classes\n",
    "\n",
    "    def predict():\n",
    "        pass # Must be defined in child classes"
   ]
  },
  {
   "cell_type": "code",
   "execution_count": 8,
   "metadata": {},
   "outputs": [],
   "source": [
    "# model = Modeller(dataset)\n",
    "# sample_dataset = model._initial_sampler()\n",
    "# sample_dataset"
   ]
  },
  {
   "cell_type": "code",
   "execution_count": 9,
   "metadata": {},
   "outputs": [],
   "source": [
    "# model.dataset"
   ]
  },
  {
   "cell_type": "code",
   "execution_count": 10,
   "metadata": {},
   "outputs": [],
   "source": [
    "from sklearn.ensemble import RandomForestRegressor\n",
    "\n",
    "class RFModeller(Modeller):\n",
    "\n",
    "    def __init__(self, dataset, iterations=10, initial_sample_size=10, acquisition_size=10, acquisition_method=\"greedy\", **kwargs) -> None:\n",
    "        super().__init__(dataset, iterations, initial_sample_size, acquisition_size, acquisition_method)\n",
    "        self.kwargs = kwargs\n",
    "        self.model = RandomForestRegressor(**self.kwargs)\n",
    "\n",
    "    def fit(self):\n",
    "        \n",
    "        # Get random points\n",
    "        random_pts = self._initial_sampler()\n",
    "\n",
    "        # Fit initial model\n",
    "        #for i in range(self.iterations):\n",
    "            \n",
    "        self.model.fit(random_pts.X, random_pts.y)\n",
    "\n",
    "        for i in range(self.iterations):\n",
    "        # Acquire new points\n",
    "            acquired_pts = self._acquisition(self.model)\n",
    "\n",
    "            # Merge old and new points\n",
    "            if i == 0:\n",
    "                model_dataset = self.dataset.merge_datasets([random_pts, acquired_pts])\n",
    "            else:\n",
    "                model_dataset = self.dataset.merge_datasets([model_dataset, acquired_pts])\n",
    "\n",
    "            # Retrain with new model_dataset\n",
    "            self.model = RandomForestRegressor(**self.kwargs)\n",
    "            self.model.fit(model_dataset.X, model_dataset.y)\n",
    "\n",
    "\n",
    "        return self.model #model_dataset\n",
    "        "
   ]
  },
  {
   "cell_type": "code",
   "execution_count": 11,
   "metadata": {},
   "outputs": [
    {
     "data": {
      "text/html": [
       "<style>#sk-container-id-1 {color: black;background-color: white;}#sk-container-id-1 pre{padding: 0;}#sk-container-id-1 div.sk-toggleable {background-color: white;}#sk-container-id-1 label.sk-toggleable__label {cursor: pointer;display: block;width: 100%;margin-bottom: 0;padding: 0.3em;box-sizing: border-box;text-align: center;}#sk-container-id-1 label.sk-toggleable__label-arrow:before {content: \"▸\";float: left;margin-right: 0.25em;color: #696969;}#sk-container-id-1 label.sk-toggleable__label-arrow:hover:before {color: black;}#sk-container-id-1 div.sk-estimator:hover label.sk-toggleable__label-arrow:before {color: black;}#sk-container-id-1 div.sk-toggleable__content {max-height: 0;max-width: 0;overflow: hidden;text-align: left;background-color: #f0f8ff;}#sk-container-id-1 div.sk-toggleable__content pre {margin: 0.2em;color: black;border-radius: 0.25em;background-color: #f0f8ff;}#sk-container-id-1 input.sk-toggleable__control:checked~div.sk-toggleable__content {max-height: 200px;max-width: 100%;overflow: auto;}#sk-container-id-1 input.sk-toggleable__control:checked~label.sk-toggleable__label-arrow:before {content: \"▾\";}#sk-container-id-1 div.sk-estimator input.sk-toggleable__control:checked~label.sk-toggleable__label {background-color: #d4ebff;}#sk-container-id-1 div.sk-label input.sk-toggleable__control:checked~label.sk-toggleable__label {background-color: #d4ebff;}#sk-container-id-1 input.sk-hidden--visually {border: 0;clip: rect(1px 1px 1px 1px);clip: rect(1px, 1px, 1px, 1px);height: 1px;margin: -1px;overflow: hidden;padding: 0;position: absolute;width: 1px;}#sk-container-id-1 div.sk-estimator {font-family: monospace;background-color: #f0f8ff;border: 1px dotted black;border-radius: 0.25em;box-sizing: border-box;margin-bottom: 0.5em;}#sk-container-id-1 div.sk-estimator:hover {background-color: #d4ebff;}#sk-container-id-1 div.sk-parallel-item::after {content: \"\";width: 100%;border-bottom: 1px solid gray;flex-grow: 1;}#sk-container-id-1 div.sk-label:hover label.sk-toggleable__label {background-color: #d4ebff;}#sk-container-id-1 div.sk-serial::before {content: \"\";position: absolute;border-left: 1px solid gray;box-sizing: border-box;top: 0;bottom: 0;left: 50%;z-index: 0;}#sk-container-id-1 div.sk-serial {display: flex;flex-direction: column;align-items: center;background-color: white;padding-right: 0.2em;padding-left: 0.2em;position: relative;}#sk-container-id-1 div.sk-item {position: relative;z-index: 1;}#sk-container-id-1 div.sk-parallel {display: flex;align-items: stretch;justify-content: center;background-color: white;position: relative;}#sk-container-id-1 div.sk-item::before, #sk-container-id-1 div.sk-parallel-item::before {content: \"\";position: absolute;border-left: 1px solid gray;box-sizing: border-box;top: 0;bottom: 0;left: 50%;z-index: -1;}#sk-container-id-1 div.sk-parallel-item {display: flex;flex-direction: column;z-index: 1;position: relative;background-color: white;}#sk-container-id-1 div.sk-parallel-item:first-child::after {align-self: flex-end;width: 50%;}#sk-container-id-1 div.sk-parallel-item:last-child::after {align-self: flex-start;width: 50%;}#sk-container-id-1 div.sk-parallel-item:only-child::after {width: 0;}#sk-container-id-1 div.sk-dashed-wrapped {border: 1px dashed gray;margin: 0 0.4em 0.5em 0.4em;box-sizing: border-box;padding-bottom: 0.4em;background-color: white;}#sk-container-id-1 div.sk-label label {font-family: monospace;font-weight: bold;display: inline-block;line-height: 1.2em;}#sk-container-id-1 div.sk-label-container {text-align: center;}#sk-container-id-1 div.sk-container {/* jupyter's `normalize.less` sets `[hidden] { display: none; }` but bootstrap.min.css set `[hidden] { display: none !important; }` so we also need the `!important` here to be able to override the default hidden behavior on the sphinx rendered scikit-learn.org. See: https://github.com/scikit-learn/scikit-learn/issues/21755 */display: inline-block !important;position: relative;}#sk-container-id-1 div.sk-text-repr-fallback {display: none;}</style><div id=\"sk-container-id-1\" class=\"sk-top-container\"><div class=\"sk-text-repr-fallback\"><pre>RandomForestRegressor()</pre><b>In a Jupyter environment, please rerun this cell to show the HTML representation or trust the notebook. <br />On GitHub, the HTML representation is unable to render, please try loading this page with nbviewer.org.</b></div><div class=\"sk-container\" hidden><div class=\"sk-item\"><div class=\"sk-estimator sk-toggleable\"><input class=\"sk-toggleable__control sk-hidden--visually\" id=\"sk-estimator-id-1\" type=\"checkbox\" checked><label for=\"sk-estimator-id-1\" class=\"sk-toggleable__label sk-toggleable__label-arrow\">RandomForestRegressor</label><div class=\"sk-toggleable__content\"><pre>RandomForestRegressor()</pre></div></div></div></div></div>"
      ],
      "text/plain": [
       "RandomForestRegressor()"
      ]
     },
     "execution_count": 11,
     "metadata": {},
     "output_type": "execute_result"
    }
   ],
   "source": [
    "RF_mod = RFModeller(dataset)\n",
    "RF_mod.fit()"
   ]
  },
  {
   "cell_type": "code",
   "execution_count": 12,
   "metadata": {},
   "outputs": [
    {
     "data": {
      "text/plain": [
       "<Dataset X.shape: (9788, 1024), y.shape: (9788,), w.shape: (9788,), ids: ['C[C@@H](NC(=O)N1C[C@H](c2ccccc2)[C@H]2COCC[C@H]21)c1ccc(NC(=O)NC2CC2)cc1'\n",
       " 'O=C(Nc1cccc(C(=O)N2CCC(c3c[nH]c4ncccc34)CC2)c1)[C@@H]1Cc2ccccc2O1'\n",
       " 'Cc1nn(-c2ccccc2)c2nc(C(=O)N3CCC([C@H]4C(=O)Nc5ccccc54)CC3)ccc12' ...\n",
       " 'Cn1cccc(C(=O)N2CCN(C3CC3)c3ccc(Cl)cc32)c1=O'\n",
       " 'O=C([O-])[C@H]1CC[C@@H](C(=O)N2CCCc3ccccc32)CC1'\n",
       " 'CCNS(=O)(=O)c1cc(NCCOC)ccn1']>"
      ]
     },
     "execution_count": 12,
     "metadata": {},
     "output_type": "execute_result"
    }
   ],
   "source": [
    "RF_mod.dataset"
   ]
  },
  {
   "cell_type": "code",
   "execution_count": 13,
   "metadata": {},
   "outputs": [],
   "source": [
    "# m_model = RandomForestRegressor()\n",
    "\n",
    "# m_model.fit(sample_dataset.X, sample_dataset.y)"
   ]
  },
  {
   "cell_type": "code",
   "execution_count": 14,
   "metadata": {},
   "outputs": [],
   "source": [
    "# m_preds= m_model.predict(sample_dataset.X)"
   ]
  }
 ],
 "metadata": {
  "kernelspec": {
   "display_name": "Python 3",
   "language": "python",
   "name": "python3"
  },
  "language_info": {
   "codemirror_mode": {
    "name": "ipython",
    "version": 3
   },
   "file_extension": ".py",
   "mimetype": "text/x-python",
   "name": "python",
   "nbconvert_exporter": "python",
   "pygments_lexer": "ipython3",
   "version": "3.8.10"
  },
  "orig_nbformat": 4
 },
 "nbformat": 4,
 "nbformat_minor": 2
}

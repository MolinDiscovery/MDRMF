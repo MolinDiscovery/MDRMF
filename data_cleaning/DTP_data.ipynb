{
 "cells": [
  {
   "cell_type": "code",
   "execution_count": 1,
   "metadata": {},
   "outputs": [],
   "source": [
    "import pandas as pd"
   ]
  },
  {
   "cell_type": "code",
   "execution_count": 3,
   "metadata": {},
   "outputs": [],
   "source": [
    "data = pd.read_csv('../DTP_data.csv')"
   ]
  },
  {
   "cell_type": "code",
   "execution_count": 4,
   "metadata": {},
   "outputs": [
    {
     "data": {
      "text/html": [
       "<div>\n",
       "<style scoped>\n",
       "    .dataframe tbody tr th:only-of-type {\n",
       "        vertical-align: middle;\n",
       "    }\n",
       "\n",
       "    .dataframe tbody tr th {\n",
       "        vertical-align: top;\n",
       "    }\n",
       "\n",
       "    .dataframe thead th {\n",
       "        text-align: right;\n",
       "    }\n",
       "</style>\n",
       "<table border=\"1\" class=\"dataframe\">\n",
       "  <thead>\n",
       "    <tr style=\"text-align: right;\">\n",
       "      <th></th>\n",
       "      <th>title</th>\n",
       "      <th>r_i_docking_score</th>\n",
       "      <th>smiles</th>\n",
       "    </tr>\n",
       "  </thead>\n",
       "  <tbody>\n",
       "    <tr>\n",
       "      <th>0</th>\n",
       "      <td>1</td>\n",
       "      <td>-3.86041</td>\n",
       "      <td>CC1=CC(=O)C=CC1=O</td>\n",
       "    </tr>\n",
       "    <tr>\n",
       "      <th>1</th>\n",
       "      <td>4</td>\n",
       "      <td>-3.00878</td>\n",
       "      <td>Nc1ncc([N+](=O)[O-])s1</td>\n",
       "    </tr>\n",
       "    <tr>\n",
       "      <th>2</th>\n",
       "      <td>5</td>\n",
       "      <td>-8.66915</td>\n",
       "      <td>Nc1ccc2c(c1)C(=O)c1ccccc1C2=O</td>\n",
       "    </tr>\n",
       "    <tr>\n",
       "      <th>3</th>\n",
       "      <td>7</td>\n",
       "      <td>-5.88500</td>\n",
       "      <td>C[NH+](C)C1=C(Cl)C(=O)c2ccccc2C1=O</td>\n",
       "    </tr>\n",
       "    <tr>\n",
       "      <th>4</th>\n",
       "      <td>8</td>\n",
       "      <td>-7.77890</td>\n",
       "      <td>Cc1ccc2c(c1[N+](=O)[O-])C(=O)c1ccccc1C2=O</td>\n",
       "    </tr>\n",
       "    <tr>\n",
       "      <th>...</th>\n",
       "      <td>...</td>\n",
       "      <td>...</td>\n",
       "      <td>...</td>\n",
       "    </tr>\n",
       "    <tr>\n",
       "      <th>132462</th>\n",
       "      <td>785181</td>\n",
       "      <td>-7.24382</td>\n",
       "      <td>COc1c(O)ccc2c1-c1c3c(cc4c1[C@H](C2)[NH+](C)CC4...</td>\n",
       "    </tr>\n",
       "    <tr>\n",
       "      <th>132463</th>\n",
       "      <td>785185</td>\n",
       "      <td>-6.68290</td>\n",
       "      <td>CCOc1cc2c(cc1OC)CC[NH2+][C@H]2Cc1ccc(O)cc1</td>\n",
       "    </tr>\n",
       "    <tr>\n",
       "      <th>132464</th>\n",
       "      <td>785187</td>\n",
       "      <td>-6.41699</td>\n",
       "      <td>COc1ccc2c(c1OC)-c1c(OC)c(OC)cc3c1[C@H](C2)[NH2...</td>\n",
       "    </tr>\n",
       "    <tr>\n",
       "      <th>132465</th>\n",
       "      <td>785188</td>\n",
       "      <td>-7.07859</td>\n",
       "      <td>COc1ccc2c(c1O)-c1c3c(cc4c1[C@H](C2)[NH+](C)CC4...</td>\n",
       "    </tr>\n",
       "    <tr>\n",
       "      <th>132466</th>\n",
       "      <td>788948</td>\n",
       "      <td>-6.82520</td>\n",
       "      <td>CC(=O)OC[C@H]1O[C@@H](n2ccc(=O)[nH]c2=O)[C@H](...</td>\n",
       "    </tr>\n",
       "  </tbody>\n",
       "</table>\n",
       "<p>132467 rows × 3 columns</p>\n",
       "</div>"
      ],
      "text/plain": [
       "         title  r_i_docking_score  \\\n",
       "0            1           -3.86041   \n",
       "1            4           -3.00878   \n",
       "2            5           -8.66915   \n",
       "3            7           -5.88500   \n",
       "4            8           -7.77890   \n",
       "...        ...                ...   \n",
       "132462  785181           -7.24382   \n",
       "132463  785185           -6.68290   \n",
       "132464  785187           -6.41699   \n",
       "132465  785188           -7.07859   \n",
       "132466  788948           -6.82520   \n",
       "\n",
       "                                                   smiles  \n",
       "0                                       CC1=CC(=O)C=CC1=O  \n",
       "1                                  Nc1ncc([N+](=O)[O-])s1  \n",
       "2                           Nc1ccc2c(c1)C(=O)c1ccccc1C2=O  \n",
       "3                      C[NH+](C)C1=C(Cl)C(=O)c2ccccc2C1=O  \n",
       "4               Cc1ccc2c(c1[N+](=O)[O-])C(=O)c1ccccc1C2=O  \n",
       "...                                                   ...  \n",
       "132462  COc1c(O)ccc2c1-c1c3c(cc4c1[C@H](C2)[NH+](C)CC4...  \n",
       "132463         CCOc1cc2c(cc1OC)CC[NH2+][C@H]2Cc1ccc(O)cc1  \n",
       "132464  COc1ccc2c(c1OC)-c1c(OC)c(OC)cc3c1[C@H](C2)[NH2...  \n",
       "132465  COc1ccc2c(c1O)-c1c3c(cc4c1[C@H](C2)[NH+](C)CC4...  \n",
       "132466  CC(=O)OC[C@H]1O[C@@H](n2ccc(=O)[nH]c2=O)[C@H](...  \n",
       "\n",
       "[132467 rows x 3 columns]"
      ]
     },
     "execution_count": 4,
     "metadata": {},
     "output_type": "execute_result"
    }
   ],
   "source": [
    "data"
   ]
  },
  {
   "cell_type": "code",
   "execution_count": 5,
   "metadata": {},
   "outputs": [],
   "source": [
    "empty_values_per_column = data.isnull().sum()"
   ]
  },
  {
   "cell_type": "code",
   "execution_count": 6,
   "metadata": {},
   "outputs": [
    {
     "data": {
      "text/plain": [
       "title                  0\n",
       "r_i_docking_score    497\n",
       "smiles                 0\n",
       "dtype: int64"
      ]
     },
     "execution_count": 6,
     "metadata": {},
     "output_type": "execute_result"
    }
   ],
   "source": [
    "empty_values_per_column"
   ]
  },
  {
   "cell_type": "code",
   "execution_count": 7,
   "metadata": {},
   "outputs": [
    {
     "data": {
      "text/html": [
       "<div>\n",
       "<style scoped>\n",
       "    .dataframe tbody tr th:only-of-type {\n",
       "        vertical-align: middle;\n",
       "    }\n",
       "\n",
       "    .dataframe tbody tr th {\n",
       "        vertical-align: top;\n",
       "    }\n",
       "\n",
       "    .dataframe thead th {\n",
       "        text-align: right;\n",
       "    }\n",
       "</style>\n",
       "<table border=\"1\" class=\"dataframe\">\n",
       "  <thead>\n",
       "    <tr style=\"text-align: right;\">\n",
       "      <th></th>\n",
       "      <th>title</th>\n",
       "      <th>r_i_docking_score</th>\n",
       "      <th>smiles</th>\n",
       "    </tr>\n",
       "  </thead>\n",
       "  <tbody>\n",
       "    <tr>\n",
       "      <th>0</th>\n",
       "      <td>1</td>\n",
       "      <td>-3.86041</td>\n",
       "      <td>CC1=CC(=O)C=CC1=O</td>\n",
       "    </tr>\n",
       "    <tr>\n",
       "      <th>1</th>\n",
       "      <td>4</td>\n",
       "      <td>-3.00878</td>\n",
       "      <td>Nc1ncc([N+](=O)[O-])s1</td>\n",
       "    </tr>\n",
       "    <tr>\n",
       "      <th>2</th>\n",
       "      <td>5</td>\n",
       "      <td>-8.66915</td>\n",
       "      <td>Nc1ccc2c(c1)C(=O)c1ccccc1C2=O</td>\n",
       "    </tr>\n",
       "    <tr>\n",
       "      <th>3</th>\n",
       "      <td>7</td>\n",
       "      <td>-5.88500</td>\n",
       "      <td>C[NH+](C)C1=C(Cl)C(=O)c2ccccc2C1=O</td>\n",
       "    </tr>\n",
       "    <tr>\n",
       "      <th>4</th>\n",
       "      <td>8</td>\n",
       "      <td>-7.77890</td>\n",
       "      <td>Cc1ccc2c(c1[N+](=O)[O-])C(=O)c1ccccc1C2=O</td>\n",
       "    </tr>\n",
       "    <tr>\n",
       "      <th>...</th>\n",
       "      <td>...</td>\n",
       "      <td>...</td>\n",
       "      <td>...</td>\n",
       "    </tr>\n",
       "    <tr>\n",
       "      <th>132462</th>\n",
       "      <td>785181</td>\n",
       "      <td>-7.24382</td>\n",
       "      <td>COc1c(O)ccc2c1-c1c3c(cc4c1[C@H](C2)[NH+](C)CC4...</td>\n",
       "    </tr>\n",
       "    <tr>\n",
       "      <th>132463</th>\n",
       "      <td>785185</td>\n",
       "      <td>-6.68290</td>\n",
       "      <td>CCOc1cc2c(cc1OC)CC[NH2+][C@H]2Cc1ccc(O)cc1</td>\n",
       "    </tr>\n",
       "    <tr>\n",
       "      <th>132464</th>\n",
       "      <td>785187</td>\n",
       "      <td>-6.41699</td>\n",
       "      <td>COc1ccc2c(c1OC)-c1c(OC)c(OC)cc3c1[C@H](C2)[NH2...</td>\n",
       "    </tr>\n",
       "    <tr>\n",
       "      <th>132465</th>\n",
       "      <td>785188</td>\n",
       "      <td>-7.07859</td>\n",
       "      <td>COc1ccc2c(c1O)-c1c3c(cc4c1[C@H](C2)[NH+](C)CC4...</td>\n",
       "    </tr>\n",
       "    <tr>\n",
       "      <th>132466</th>\n",
       "      <td>788948</td>\n",
       "      <td>-6.82520</td>\n",
       "      <td>CC(=O)OC[C@H]1O[C@@H](n2ccc(=O)[nH]c2=O)[C@H](...</td>\n",
       "    </tr>\n",
       "  </tbody>\n",
       "</table>\n",
       "<p>131970 rows × 3 columns</p>\n",
       "</div>"
      ],
      "text/plain": [
       "         title  r_i_docking_score  \\\n",
       "0            1           -3.86041   \n",
       "1            4           -3.00878   \n",
       "2            5           -8.66915   \n",
       "3            7           -5.88500   \n",
       "4            8           -7.77890   \n",
       "...        ...                ...   \n",
       "132462  785181           -7.24382   \n",
       "132463  785185           -6.68290   \n",
       "132464  785187           -6.41699   \n",
       "132465  785188           -7.07859   \n",
       "132466  788948           -6.82520   \n",
       "\n",
       "                                                   smiles  \n",
       "0                                       CC1=CC(=O)C=CC1=O  \n",
       "1                                  Nc1ncc([N+](=O)[O-])s1  \n",
       "2                           Nc1ccc2c(c1)C(=O)c1ccccc1C2=O  \n",
       "3                      C[NH+](C)C1=C(Cl)C(=O)c2ccccc2C1=O  \n",
       "4               Cc1ccc2c(c1[N+](=O)[O-])C(=O)c1ccccc1C2=O  \n",
       "...                                                   ...  \n",
       "132462  COc1c(O)ccc2c1-c1c3c(cc4c1[C@H](C2)[NH+](C)CC4...  \n",
       "132463         CCOc1cc2c(cc1OC)CC[NH2+][C@H]2Cc1ccc(O)cc1  \n",
       "132464  COc1ccc2c(c1OC)-c1c(OC)c(OC)cc3c1[C@H](C2)[NH2...  \n",
       "132465  COc1ccc2c(c1O)-c1c3c(cc4c1[C@H](C2)[NH+](C)CC4...  \n",
       "132466  CC(=O)OC[C@H]1O[C@@H](n2ccc(=O)[nH]c2=O)[C@H](...  \n",
       "\n",
       "[131970 rows x 3 columns]"
      ]
     },
     "execution_count": 7,
     "metadata": {},
     "output_type": "execute_result"
    }
   ],
   "source": [
    "data_cleaned = data.dropna(subset=['r_i_docking_score'])\n",
    "data_cleaned"
   ]
  },
  {
   "cell_type": "code",
   "execution_count": 9,
   "metadata": {},
   "outputs": [
    {
     "data": {
      "text/plain": [
       "title                0\n",
       "r_i_docking_score    0\n",
       "smiles               0\n",
       "dtype: int64"
      ]
     },
     "execution_count": 9,
     "metadata": {},
     "output_type": "execute_result"
    }
   ],
   "source": [
    "data_cleaned.isnull().sum()"
   ]
  },
  {
   "cell_type": "code",
   "execution_count": 10,
   "metadata": {},
   "outputs": [],
   "source": [
    "data_cleaned.to_csv('DTP_data_final.csv')"
   ]
  }
 ],
 "metadata": {
  "kernelspec": {
   "display_name": "Python 3",
   "language": "python",
   "name": "python3"
  },
  "language_info": {
   "codemirror_mode": {
    "name": "ipython",
    "version": 3
   },
   "file_extension": ".py",
   "mimetype": "text/x-python",
   "name": "python",
   "nbconvert_exporter": "python",
   "pygments_lexer": "ipython3",
   "version": "3.8.10"
  }
 },
 "nbformat": 4,
 "nbformat_minor": 2
}

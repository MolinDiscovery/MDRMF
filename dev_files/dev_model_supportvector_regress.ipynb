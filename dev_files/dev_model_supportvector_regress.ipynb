{
 "cells": [
  {
   "cell_type": "code",
   "execution_count": 16,
   "metadata": {},
   "outputs": [],
   "source": [
    "import logging\n",
    "import pickle\n",
    "import os\n",
    "import numpy as np\n",
    "from sklearn.svm import SVR\n",
    "from MDRMF.models.modeller import Modeller\n",
    "from MDRMF.dataset import Dataset"
   ]
  },
  {
   "cell_type": "code",
   "execution_count": 17,
   "metadata": {},
   "outputs": [],
   "source": [
    "class SVRModeller(Modeller):\n",
    "\n",
    "    def __init__(\n",
    "        self, \n",
    "        dataset,\n",
    "        evaluator=None, \n",
    "        iterations=10, \n",
    "        initial_sample_size=10, \n",
    "        acquisition_size=10, \n",
    "        acquisition_method=\"greedy\", \n",
    "        retrain=True,\n",
    "        seeds=[],\n",
    "        kernel='rbf',\n",
    "        C=1.0,\n",
    "        epsilon=0.1,\n",
    "        **kwargs) -> None:\n",
    "\n",
    "        super().__init__(\n",
    "            dataset, \n",
    "            evaluator,\n",
    "            iterations, \n",
    "            initial_sample_size, \n",
    "            acquisition_size, \n",
    "            acquisition_method, \n",
    "            retrain,\n",
    "            seeds\n",
    "            )\n",
    "\n",
    "        self.model = SVR(kernel=kernel, C=C, epsilon=epsilon, **kwargs)\n",
    "\n",
    "    def fit(self):\n",
    "        if self.seeds is None or len(self.seeds) == 0:\n",
    "            initial_pts = self._initial_sampler(initial_sample_size=self.initial_sample_size)\n",
    "        elif isinstance(self.seeds, (list, np.ndarray)) and all(isinstance(i, int) for i in self.seeds):\n",
    "            self.seeds = list(self.seeds)  # Ensure seeds is a list\n",
    "            initial_pts = self.dataset.get_points(self.seeds, remove_points=True)\n",
    "        else:\n",
    "            logging.error(\"Invalid seeds. Must be a list or ndarray of integers, or None.\")\n",
    "            return\n",
    "        \n",
    "        print(f\"y values of starting points {initial_pts.y}\")\n",
    "        self.model.fit(initial_pts.X, initial_pts.y)        \n",
    "        \n",
    "        # First evaluation, using only the initial points\n",
    "        if self.evaluator is not None:\n",
    "            self.call_evaluator(i=-1, model_dataset=initial_pts) # -1 because ´call_evaluator´ starts at 1, and this iteration should be 0.\n",
    "\n",
    "        for i in range(self.iterations):\n",
    "            # Acquire new points\n",
    "            acquired_pts = self._acquisition(self.model)\n",
    "\n",
    "            # Merge old and new points\n",
    "            if i == 0:\n",
    "                model_dataset = self.dataset.merge_datasets([initial_pts, acquired_pts])\n",
    "            else:\n",
    "                model_dataset = self.dataset.merge_datasets([model_dataset, acquired_pts])\n",
    "\n",
    "            if self.retrain:\n",
    "                # Reset model and train\n",
    "                self.model = SVR(kernel=self.model.kernel, C=self.model.C, epsilon=self.model.epsilon)\n",
    "                self.model.fit(model_dataset.X, model_dataset.y)\n",
    "            else:\n",
    "                # Train on existing model\n",
    "                self.model.fit(model_dataset.X, model_dataset.y)\n",
    "\n",
    "            if self.evaluator is not None:\n",
    "                self.call_evaluator(i=i, model_dataset=model_dataset)\n",
    "\n",
    "        return self.model\n",
    "    \n",
    "    def predict(self, dataset: Dataset):\n",
    "        if isinstance(dataset, Dataset):\n",
    "            return self.model.predict(dataset.X)\n",
    "        else:\n",
    "            logging.error(\"Wrong object type. Must be of type `Dataset`\")\n",
    "\n",
    "    def save(self, filename: str):\n",
    "        \"\"\"\n",
    "        Save the RFModeller to a pickle file\n",
    "        \"\"\"\n",
    "        # Check if filename is a string.\n",
    "        if not isinstance(filename, str):\n",
    "            raise ValueError(\"filename must be a string\")\n",
    "        \n",
    "        try:\n",
    "            with open(filename, \"wb\") as f:\n",
    "                pickle.dump(self, f)\n",
    "        except FileNotFoundError:\n",
    "            logging.error(f\"File not found: {filename}\")\n",
    "            raise\n",
    "        except IOError as e:\n",
    "            logging.error(f\"IOError: {str(e)}\")\n",
    "            raise\n",
    "        except pickle.PicklingError as e:\n",
    "            logging.error(f\"Failed to pickle model: {str(e)}\")\n",
    "            raise\n",
    "        except Exception as e:\n",
    "            logging.error(f\"Unexpected error: {str(e)}\")\n",
    "            raise\n",
    "\n",
    "    @staticmethod\n",
    "    def load(filename: str):\n",
    "        \n",
    "        # Check if filename is a string.\n",
    "        if not isinstance(filename, str):\n",
    "            raise ValueError(\"filename must be a string\")\n",
    "        \n",
    "        # Check if file exists.\n",
    "        if not os.path.isfile(filename):\n",
    "            raise FileNotFoundError(f\"No such file or directory: '{filename}'\")\n",
    "        \n",
    "        try:\n",
    "            with open(filename, \"rb\") as f:\n",
    "                return pickle.load(f)\n",
    "        except FileNotFoundError:\n",
    "            logging.error(f\"File not found: {filename}\")\n",
    "            raise\n",
    "        except IOError as e:\n",
    "            logging.error(f\"IOError: {str(e)}\")\n",
    "            raise\n",
    "        except pickle.UnpicklingError as e:\n",
    "            logging.error(f\"Failed to unpickle model: {str(e)}\")\n",
    "            raise\n",
    "        except Exception as e:\n",
    "            logging.error(f\"Unexpected error: {str(e)}\")\n",
    "            raise"
   ]
  },
  {
   "cell_type": "code",
   "execution_count": 18,
   "metadata": {},
   "outputs": [],
   "source": [
    "from MDRMF import MoleculeLoader, Featurizer, Evaluator\n",
    "from MDRMF.models import RFModeller\n",
    "\n",
    "data = MoleculeLoader('10K.csv', 'SMILES', 'r_i_docking_score').df"
   ]
  },
  {
   "cell_type": "code",
   "execution_count": 19,
   "metadata": {},
   "outputs": [
    {
     "name": "stdout",
     "output_type": "stream",
     "text": [
      "Computing features...\n",
      "Progress: [------------------------------------------------->] 100% (9898/9898)\n",
      "Feature computation completed.\n"
     ]
    }
   ],
   "source": [
    "feat = Featurizer(data)\n",
    "features = feat.featurize(\"morgan\", radius=2, nBits=1024)"
   ]
  },
  {
   "cell_type": "code",
   "execution_count": 20,
   "metadata": {},
   "outputs": [
    {
     "data": {
      "text/plain": [
       "<Dataset X.shape: (9898, 1024), y.shape: (9898,), w.shape: (9898,), ids: ['C[C@@H](NC(=O)N1C[C@H](c2ccccc2)[C@H]2COCC[C@H]21)c1ccc(NC(=O)NC2CC2)cc1'\n",
       " 'O=C(Nc1cccc(C(=O)N2CCC(c3c[nH]c4ncccc34)CC2)c1)[C@@H]1Cc2ccccc2O1'\n",
       " 'Cc1nn(-c2ccccc2)c2nc(C(=O)N3CCC([C@H]4C(=O)Nc5ccccc54)CC3)ccc12' ...\n",
       " 'Cn1cccc(C(=O)N2CCN(C3CC3)c3ccc(Cl)cc32)c1=O'\n",
       " 'O=C([O-])[C@H]1CC[C@@H](C(=O)N2CCCc3ccccc32)CC1'\n",
       " 'CCNS(=O)(=O)c1cc(NCCOC)ccn1']>"
      ]
     },
     "execution_count": 20,
     "metadata": {},
     "output_type": "execute_result"
    }
   ],
   "source": [
    "X = features\n",
    "y = data['r_i_docking_score']\n",
    "ids = data['SMILES']\n",
    "\n",
    "dataset = Dataset(X=X, y=y, ids=ids)\n",
    "dataset"
   ]
  },
  {
   "cell_type": "code",
   "execution_count": 21,
   "metadata": {},
   "outputs": [],
   "source": [
    "metrics = ['top-k']\n",
    "k_values = ['100']\n",
    "eval = Evaluator(dataset, metrics, k_values)"
   ]
  },
  {
   "cell_type": "code",
   "execution_count": 22,
   "metadata": {},
   "outputs": [
    {
     "name": "stdout",
     "output_type": "stream",
     "text": [
      "y values of starting points [-9.68028 -5.89022 -9.37531 -7.89715 -8.81536 -8.99042 -9.64678 -9.16665\n",
      " -8.86113 -7.64715]\n",
      "Iteration 0, Results: {'top-100 model': 0.05}\n",
      "Iteration 1, Results: {'top-100 model': 0.06}\n",
      "Iteration 2, Results: {'top-100 model': 0.07}\n",
      "Iteration 3, Results: {'top-100 model': 0.06}\n",
      "Iteration 4, Results: {'top-100 model': 0.05}\n",
      "Iteration 5, Results: {'top-100 model': 0.06}\n",
      "Iteration 6, Results: {'top-100 model': 0.07}\n",
      "Iteration 7, Results: {'top-100 model': 0.07}\n",
      "Iteration 8, Results: {'top-100 model': 0.08}\n",
      "Iteration 9, Results: {'top-100 model': 0.1}\n",
      "Iteration 10, Results: {'top-100 model': 0.09}\n",
      "Iteration 11, Results: {'top-100 model': 0.11}\n",
      "Iteration 12, Results: {'top-100 model': 0.14}\n",
      "Iteration 13, Results: {'top-100 model': 0.17}\n",
      "Iteration 14, Results: {'top-100 model': 0.18}\n",
      "Iteration 15, Results: {'top-100 model': 0.22}\n",
      "Iteration 16, Results: {'top-100 model': 0.2}\n",
      "Iteration 17, Results: {'top-100 model': 0.2}\n",
      "Iteration 18, Results: {'top-100 model': 0.23}\n",
      "Iteration 19, Results: {'top-100 model': 0.23}\n",
      "Iteration 20, Results: {'top-100 model': 0.24}\n"
     ]
    },
    {
     "data": {
      "text/html": [
       "<style>#sk-container-id-4 {color: black;background-color: white;}#sk-container-id-4 pre{padding: 0;}#sk-container-id-4 div.sk-toggleable {background-color: white;}#sk-container-id-4 label.sk-toggleable__label {cursor: pointer;display: block;width: 100%;margin-bottom: 0;padding: 0.3em;box-sizing: border-box;text-align: center;}#sk-container-id-4 label.sk-toggleable__label-arrow:before {content: \"▸\";float: left;margin-right: 0.25em;color: #696969;}#sk-container-id-4 label.sk-toggleable__label-arrow:hover:before {color: black;}#sk-container-id-4 div.sk-estimator:hover label.sk-toggleable__label-arrow:before {color: black;}#sk-container-id-4 div.sk-toggleable__content {max-height: 0;max-width: 0;overflow: hidden;text-align: left;background-color: #f0f8ff;}#sk-container-id-4 div.sk-toggleable__content pre {margin: 0.2em;color: black;border-radius: 0.25em;background-color: #f0f8ff;}#sk-container-id-4 input.sk-toggleable__control:checked~div.sk-toggleable__content {max-height: 200px;max-width: 100%;overflow: auto;}#sk-container-id-4 input.sk-toggleable__control:checked~label.sk-toggleable__label-arrow:before {content: \"▾\";}#sk-container-id-4 div.sk-estimator input.sk-toggleable__control:checked~label.sk-toggleable__label {background-color: #d4ebff;}#sk-container-id-4 div.sk-label input.sk-toggleable__control:checked~label.sk-toggleable__label {background-color: #d4ebff;}#sk-container-id-4 input.sk-hidden--visually {border: 0;clip: rect(1px 1px 1px 1px);clip: rect(1px, 1px, 1px, 1px);height: 1px;margin: -1px;overflow: hidden;padding: 0;position: absolute;width: 1px;}#sk-container-id-4 div.sk-estimator {font-family: monospace;background-color: #f0f8ff;border: 1px dotted black;border-radius: 0.25em;box-sizing: border-box;margin-bottom: 0.5em;}#sk-container-id-4 div.sk-estimator:hover {background-color: #d4ebff;}#sk-container-id-4 div.sk-parallel-item::after {content: \"\";width: 100%;border-bottom: 1px solid gray;flex-grow: 1;}#sk-container-id-4 div.sk-label:hover label.sk-toggleable__label {background-color: #d4ebff;}#sk-container-id-4 div.sk-serial::before {content: \"\";position: absolute;border-left: 1px solid gray;box-sizing: border-box;top: 0;bottom: 0;left: 50%;z-index: 0;}#sk-container-id-4 div.sk-serial {display: flex;flex-direction: column;align-items: center;background-color: white;padding-right: 0.2em;padding-left: 0.2em;position: relative;}#sk-container-id-4 div.sk-item {position: relative;z-index: 1;}#sk-container-id-4 div.sk-parallel {display: flex;align-items: stretch;justify-content: center;background-color: white;position: relative;}#sk-container-id-4 div.sk-item::before, #sk-container-id-4 div.sk-parallel-item::before {content: \"\";position: absolute;border-left: 1px solid gray;box-sizing: border-box;top: 0;bottom: 0;left: 50%;z-index: -1;}#sk-container-id-4 div.sk-parallel-item {display: flex;flex-direction: column;z-index: 1;position: relative;background-color: white;}#sk-container-id-4 div.sk-parallel-item:first-child::after {align-self: flex-end;width: 50%;}#sk-container-id-4 div.sk-parallel-item:last-child::after {align-self: flex-start;width: 50%;}#sk-container-id-4 div.sk-parallel-item:only-child::after {width: 0;}#sk-container-id-4 div.sk-dashed-wrapped {border: 1px dashed gray;margin: 0 0.4em 0.5em 0.4em;box-sizing: border-box;padding-bottom: 0.4em;background-color: white;}#sk-container-id-4 div.sk-label label {font-family: monospace;font-weight: bold;display: inline-block;line-height: 1.2em;}#sk-container-id-4 div.sk-label-container {text-align: center;}#sk-container-id-4 div.sk-container {/* jupyter's `normalize.less` sets `[hidden] { display: none; }` but bootstrap.min.css set `[hidden] { display: none !important; }` so we also need the `!important` here to be able to override the default hidden behavior on the sphinx rendered scikit-learn.org. See: https://github.com/scikit-learn/scikit-learn/issues/21755 */display: inline-block !important;position: relative;}#sk-container-id-4 div.sk-text-repr-fallback {display: none;}</style><div id=\"sk-container-id-4\" class=\"sk-top-container\"><div class=\"sk-text-repr-fallback\"><pre>SVR()</pre><b>In a Jupyter environment, please rerun this cell to show the HTML representation or trust the notebook. <br />On GitHub, the HTML representation is unable to render, please try loading this page with nbviewer.org.</b></div><div class=\"sk-container\" hidden><div class=\"sk-item\"><div class=\"sk-estimator sk-toggleable\"><input class=\"sk-toggleable__control sk-hidden--visually\" id=\"sk-estimator-id-4\" type=\"checkbox\" checked><label for=\"sk-estimator-id-4\" class=\"sk-toggleable__label sk-toggleable__label-arrow\">SVR</label><div class=\"sk-toggleable__content\"><pre>SVR()</pre></div></div></div></div></div>"
      ],
      "text/plain": [
       "SVR()"
      ]
     },
     "execution_count": 22,
     "metadata": {},
     "output_type": "execute_result"
    }
   ],
   "source": [
    "LR_model = SVRModeller(dataset=dataset, evaluator=eval, iterations=20)\n",
    "LR_model.fit()"
   ]
  },
  {
   "cell_type": "code",
   "execution_count": 23,
   "metadata": {},
   "outputs": [
    {
     "name": "stdout",
     "output_type": "stream",
     "text": [
      "y values of starting points [ -8.91736  -7.80342  -5.92242  -8.83814 -10.892    -7.99502  -8.58359\n",
      "  -8.32301  -8.19585  -7.3219 ]\n",
      "Iteration 0, Results: {'top-100 model': 0.01}\n",
      "Iteration 1, Results: {'top-100 model': 0.03}\n",
      "Iteration 2, Results: {'top-100 model': 0.03}\n",
      "Iteration 3, Results: {'top-100 model': 0.01}\n",
      "Iteration 4, Results: {'top-100 model': 0.03}\n",
      "Iteration 5, Results: {'top-100 model': 0.07}\n",
      "Iteration 6, Results: {'top-100 model': 0.05}\n",
      "Iteration 7, Results: {'top-100 model': 0.05}\n",
      "Iteration 8, Results: {'top-100 model': 0.06}\n",
      "Iteration 9, Results: {'top-100 model': 0.07}\n",
      "Iteration 10, Results: {'top-100 model': 0.06}\n",
      "Iteration 11, Results: {'top-100 model': 0.05}\n",
      "Iteration 12, Results: {'top-100 model': 0.09}\n",
      "Iteration 13, Results: {'top-100 model': 0.12}\n",
      "Iteration 14, Results: {'top-100 model': 0.21}\n",
      "Iteration 15, Results: {'top-100 model': 0.19}\n",
      "Iteration 16, Results: {'top-100 model': 0.22}\n",
      "Iteration 17, Results: {'top-100 model': 0.22}\n",
      "Iteration 18, Results: {'top-100 model': 0.21}\n",
      "Iteration 19, Results: {'top-100 model': 0.23}\n",
      "Iteration 20, Results: {'top-100 model': 0.22}\n",
      "Iteration 21, Results: {'top-100 model': 0.25}\n",
      "Iteration 22, Results: {'top-100 model': 0.27}\n",
      "Iteration 23, Results: {'top-100 model': 0.27}\n",
      "Iteration 24, Results: {'top-100 model': 0.28}\n",
      "Iteration 25, Results: {'top-100 model': 0.3}\n",
      "Iteration 26, Results: {'top-100 model': 0.3}\n",
      "Iteration 27, Results: {'top-100 model': 0.31}\n",
      "Iteration 28, Results: {'top-100 model': 0.32}\n",
      "Iteration 29, Results: {'top-100 model': 0.32}\n",
      "Iteration 30, Results: {'top-100 model': 0.35}\n"
     ]
    },
    {
     "data": {
      "text/html": [
       "<style>#sk-container-id-5 {color: black;background-color: white;}#sk-container-id-5 pre{padding: 0;}#sk-container-id-5 div.sk-toggleable {background-color: white;}#sk-container-id-5 label.sk-toggleable__label {cursor: pointer;display: block;width: 100%;margin-bottom: 0;padding: 0.3em;box-sizing: border-box;text-align: center;}#sk-container-id-5 label.sk-toggleable__label-arrow:before {content: \"▸\";float: left;margin-right: 0.25em;color: #696969;}#sk-container-id-5 label.sk-toggleable__label-arrow:hover:before {color: black;}#sk-container-id-5 div.sk-estimator:hover label.sk-toggleable__label-arrow:before {color: black;}#sk-container-id-5 div.sk-toggleable__content {max-height: 0;max-width: 0;overflow: hidden;text-align: left;background-color: #f0f8ff;}#sk-container-id-5 div.sk-toggleable__content pre {margin: 0.2em;color: black;border-radius: 0.25em;background-color: #f0f8ff;}#sk-container-id-5 input.sk-toggleable__control:checked~div.sk-toggleable__content {max-height: 200px;max-width: 100%;overflow: auto;}#sk-container-id-5 input.sk-toggleable__control:checked~label.sk-toggleable__label-arrow:before {content: \"▾\";}#sk-container-id-5 div.sk-estimator input.sk-toggleable__control:checked~label.sk-toggleable__label {background-color: #d4ebff;}#sk-container-id-5 div.sk-label input.sk-toggleable__control:checked~label.sk-toggleable__label {background-color: #d4ebff;}#sk-container-id-5 input.sk-hidden--visually {border: 0;clip: rect(1px 1px 1px 1px);clip: rect(1px, 1px, 1px, 1px);height: 1px;margin: -1px;overflow: hidden;padding: 0;position: absolute;width: 1px;}#sk-container-id-5 div.sk-estimator {font-family: monospace;background-color: #f0f8ff;border: 1px dotted black;border-radius: 0.25em;box-sizing: border-box;margin-bottom: 0.5em;}#sk-container-id-5 div.sk-estimator:hover {background-color: #d4ebff;}#sk-container-id-5 div.sk-parallel-item::after {content: \"\";width: 100%;border-bottom: 1px solid gray;flex-grow: 1;}#sk-container-id-5 div.sk-label:hover label.sk-toggleable__label {background-color: #d4ebff;}#sk-container-id-5 div.sk-serial::before {content: \"\";position: absolute;border-left: 1px solid gray;box-sizing: border-box;top: 0;bottom: 0;left: 50%;z-index: 0;}#sk-container-id-5 div.sk-serial {display: flex;flex-direction: column;align-items: center;background-color: white;padding-right: 0.2em;padding-left: 0.2em;position: relative;}#sk-container-id-5 div.sk-item {position: relative;z-index: 1;}#sk-container-id-5 div.sk-parallel {display: flex;align-items: stretch;justify-content: center;background-color: white;position: relative;}#sk-container-id-5 div.sk-item::before, #sk-container-id-5 div.sk-parallel-item::before {content: \"\";position: absolute;border-left: 1px solid gray;box-sizing: border-box;top: 0;bottom: 0;left: 50%;z-index: -1;}#sk-container-id-5 div.sk-parallel-item {display: flex;flex-direction: column;z-index: 1;position: relative;background-color: white;}#sk-container-id-5 div.sk-parallel-item:first-child::after {align-self: flex-end;width: 50%;}#sk-container-id-5 div.sk-parallel-item:last-child::after {align-self: flex-start;width: 50%;}#sk-container-id-5 div.sk-parallel-item:only-child::after {width: 0;}#sk-container-id-5 div.sk-dashed-wrapped {border: 1px dashed gray;margin: 0 0.4em 0.5em 0.4em;box-sizing: border-box;padding-bottom: 0.4em;background-color: white;}#sk-container-id-5 div.sk-label label {font-family: monospace;font-weight: bold;display: inline-block;line-height: 1.2em;}#sk-container-id-5 div.sk-label-container {text-align: center;}#sk-container-id-5 div.sk-container {/* jupyter's `normalize.less` sets `[hidden] { display: none; }` but bootstrap.min.css set `[hidden] { display: none !important; }` so we also need the `!important` here to be able to override the default hidden behavior on the sphinx rendered scikit-learn.org. See: https://github.com/scikit-learn/scikit-learn/issues/21755 */display: inline-block !important;position: relative;}#sk-container-id-5 div.sk-text-repr-fallback {display: none;}</style><div id=\"sk-container-id-5\" class=\"sk-top-container\"><div class=\"sk-text-repr-fallback\"><pre>RandomForestRegressor()</pre><b>In a Jupyter environment, please rerun this cell to show the HTML representation or trust the notebook. <br />On GitHub, the HTML representation is unable to render, please try loading this page with nbviewer.org.</b></div><div class=\"sk-container\" hidden><div class=\"sk-item\"><div class=\"sk-estimator sk-toggleable\"><input class=\"sk-toggleable__control sk-hidden--visually\" id=\"sk-estimator-id-5\" type=\"checkbox\" checked><label for=\"sk-estimator-id-5\" class=\"sk-toggleable__label sk-toggleable__label-arrow\">RandomForestRegressor</label><div class=\"sk-toggleable__content\"><pre>RandomForestRegressor()</pre></div></div></div></div></div>"
      ],
      "text/plain": [
       "RandomForestRegressor()"
      ]
     },
     "execution_count": 23,
     "metadata": {},
     "output_type": "execute_result"
    }
   ],
   "source": [
    "RF_model = RFModeller(dataset=dataset, evaluator=eval, iterations=30)\n",
    "RF_model.fit()"
   ]
  }
 ],
 "metadata": {
  "kernelspec": {
   "display_name": "Python 3",
   "language": "python",
   "name": "python3"
  },
  "language_info": {
   "codemirror_mode": {
    "name": "ipython",
    "version": 3
   },
   "file_extension": ".py",
   "mimetype": "text/x-python",
   "name": "python",
   "nbconvert_exporter": "python",
   "pygments_lexer": "ipython3",
   "version": "3.8.10"
  }
 },
 "nbformat": 4,
 "nbformat_minor": 2
}

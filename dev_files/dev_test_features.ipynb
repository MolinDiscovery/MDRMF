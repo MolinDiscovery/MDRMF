{
 "cells": [
  {
   "cell_type": "code",
   "execution_count": 1,
   "metadata": {},
   "outputs": [],
   "source": [
    "from MDRMF.moleculeloader import MoleculeLoader\n",
    "from MDRMF.featurizer import Featurizer"
   ]
  },
  {
   "cell_type": "code",
   "execution_count": 2,
   "metadata": {},
   "outputs": [],
   "source": [
    "df = MoleculeLoader(\"10K.csv\",\"SMILES\",\"r_i_docking_score\").df"
   ]
  },
  {
   "cell_type": "code",
   "execution_count": 3,
   "metadata": {},
   "outputs": [],
   "source": [
    "featurizer = Featurizer(df, mol_col=\"molecules\")"
   ]
  },
  {
   "cell_type": "code",
   "execution_count": 20,
   "metadata": {},
   "outputs": [
    {
     "name": "stdout",
     "output_type": "stream",
     "text": [
      "Computing features...\n",
      "Progress: [------------------------------------------------->] 100% (9898/9898)\n",
      "Feature computation completed.\n"
     ]
    }
   ],
   "source": [
    "feats = featurizer.featurize(\"mqn\")"
   ]
  },
  {
   "cell_type": "code",
   "execution_count": 23,
   "metadata": {},
   "outputs": [
    {
     "data": {
      "text/plain": [
       "array([26,  0,  0,  0,  0,  0,  0,  3,  1,  2,  1, 33, 10,  2,  0, 19,  6,\n",
       "        0,  5, 10,  7,  3,  3,  0,  0,  3,  3,  3,  0, 16,  8,  0,  1,  0,\n",
       "        1,  3,  0,  0,  0,  0,  2,  1])"
      ]
     },
     "execution_count": 23,
     "metadata": {},
     "output_type": "execute_result"
    }
   ],
   "source": [
    "feats[0]"
   ]
  }
 ],
 "metadata": {
  "kernelspec": {
   "display_name": "Python 3",
   "language": "python",
   "name": "python3"
  },
  "language_info": {
   "codemirror_mode": {
    "name": "ipython",
    "version": 3
   },
   "file_extension": ".py",
   "mimetype": "text/x-python",
   "name": "python",
   "nbconvert_exporter": "python",
   "pygments_lexer": "ipython3",
   "version": "3.8.10"
  }
 },
 "nbformat": 4,
 "nbformat_minor": 2
}

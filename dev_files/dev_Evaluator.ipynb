{
 "cells": [
  {
   "cell_type": "code",
   "execution_count": 1,
   "metadata": {},
   "outputs": [],
   "source": [
    "import MDRMF as mf\n",
    "from MDRMF.models import RFModeller\n",
    "from matplotlib import pyplot as plt"
   ]
  },
  {
   "cell_type": "code",
   "execution_count": 4,
   "metadata": {},
   "outputs": [],
   "source": [
    "data = mf.MoleculeLoader(datafile=\"10K.csv\", smi_col=\"SMILES\", scores_col=\"r_i_docking_score\").df\n",
    "feat = mf.Featurizer(data)\n",
    "features = feat.featurize(\"morgan\", radius=2, nBits=256)"
   ]
  },
  {
   "cell_type": "code",
   "execution_count": 5,
   "metadata": {},
   "outputs": [
    {
     "data": {
      "text/plain": [
       "<Dataset X.shape: (9898, 256), y.shape: (9898,), w.shape: (9898,), ids: ['C[C@@H](NC(=O)N1C[C@H](c2ccccc2)[C@H]2COCC[C@H]21)c1ccc(NC(=O)NC2CC2)cc1'\n",
       " 'O=C(Nc1cccc(C(=O)N2CCC(c3c[nH]c4ncccc34)CC2)c1)[C@@H]1Cc2ccccc2O1'\n",
       " 'Cc1nn(-c2ccccc2)c2nc(C(=O)N3CCC([C@H]4C(=O)Nc5ccccc54)CC3)ccc12' ...\n",
       " 'Cn1cccc(C(=O)N2CCN(C3CC3)c3ccc(Cl)cc32)c1=O'\n",
       " 'O=C([O-])[C@H]1CC[C@@H](C(=O)N2CCCc3ccccc32)CC1'\n",
       " 'CCNS(=O)(=O)c1cc(NCCOC)ccn1']>"
      ]
     },
     "execution_count": 5,
     "metadata": {},
     "output_type": "execute_result"
    }
   ],
   "source": [
    "X = features\n",
    "y = data['r_i_docking_score']\n",
    "ids = data['SMILES']\n",
    "\n",
    "dataset = mf.Dataset(X=X, y=y, ids=ids)\n",
    "dataset_model = mf.Dataset(X=X, y=y, ids=ids)\n",
    "dataset"
   ]
  },
  {
   "cell_type": "code",
   "execution_count": 6,
   "metadata": {},
   "outputs": [],
   "source": [
    "from MDRMF import Dataset\n",
    "from MDRMF.models import Modeller\n",
    "\n",
    "class Model:\n",
    "    def __init__(self, model: Modeller) -> None:\n",
    "        self.model = model\n",
    "\n",
    "    def train(self):\n",
    "        self.model.fit()\n",
    "\n",
    "    def predict(self, dataset: Dataset):\n",
    "        return self.model.predict(dataset)\n",
    "    \n",
    "    @property\n",
    "    def results(self):\n",
    "        return self.model.results"
   ]
  },
  {
   "cell_type": "code",
   "execution_count": 7,
   "metadata": {},
   "outputs": [],
   "source": [
    "import numpy as np\n",
    "from sklearn.metrics import r2_score\n",
    "import copy\n",
    "\n",
    "class Evaluator:\n",
    "    def __init__(self, original_dataset, metrics, k_values):\n",
    "        self.dataset = copy.deepcopy(original_dataset)\n",
    "        self.metrics = metrics\n",
    "        self.k_values = [int(k) for k in k_values]\n",
    "\n",
    "    def evaluate(self, model, model_dataset):\n",
    "        results = {}\n",
    "        for metric in self.metrics:\n",
    "            if metric == \"R2_model\":\n",
    "                results[metric] = self.r2_model(model, model_dataset)\n",
    "            else:\n",
    "                for k in self.k_values:\n",
    "                    if metric == \"top-k\":\n",
    "                        results[f\"top-{k}\"] = self.top_n_correct(k, model)\n",
    "                    elif metric == \"R2_k\":\n",
    "                        results[f\"R2_k-{k}\"] = self.r2_n(k, model)\n",
    "        return results\n",
    "\n",
    "    def top_n_correct(self, n, model):\n",
    "        model_predictions = model.predict(self.dataset)\n",
    "        correct_preds_indices = np.argsort(model_predictions)[:n]\n",
    "        top_n_real_indices = np.argsort(self.dataset.y)[:n]\n",
    "        return np.mean(np.isin(correct_preds_indices, top_n_real_indices))\n",
    "\n",
    "\n",
    "    def r2_model(self, model, model_dataset):\n",
    "        '''\n",
    "        Returns the R2 value of the internal model\n",
    "        '''\n",
    "\n",
    "        # Find missing points in the model_dataset\n",
    "        training_points = self.dataset.missing_points(self.dataset, model_dataset)\n",
    "\n",
    "        y_true = training_points.y\n",
    "        y_pred = model.predict(training_points)\n",
    "\n",
    "        return r2_score(y_true, y_pred)\n",
    "    \n",
    "\n",
    "    def r2_n(self, n, model):\n",
    "        # Similar to top_n_correct but here we calculate the r2 score for the top n points\n",
    "        model_predictions = model.predict(self.dataset)\n",
    "        top_n_pred_indices = np.argsort(model_predictions)[:n]\n",
    "\n",
    "        # Get top n points as a Dataset\n",
    "        top_n_dataset = self.dataset.get_points(top_n_pred_indices)\n",
    "\n",
    "        y_pred = model.predict(top_n_dataset)\n",
    "        \n",
    "        return r2_score(top_n_dataset.y, y_pred)\n",
    "\n"
   ]
  },
  {
   "cell_type": "code",
   "execution_count": 8,
   "metadata": {},
   "outputs": [],
   "source": [
    "metrics = ['top-k', 'R2_k']\n",
    "k_values = ['100']\n",
    "eval = Evaluator(dataset, metrics, k_values)"
   ]
  },
  {
   "cell_type": "code",
   "execution_count": 9,
   "metadata": {},
   "outputs": [],
   "source": [
    "dataset_model = mf.Dataset(X=X, y=y, ids=ids)\n",
    "rf_model = RFModeller(\n",
    "    dataset=dataset_model,\n",
    "    evaluator=eval,\n",
    "    iterations=60,\n",
    "    initial_sample_size=30,\n",
    "    acquisition_size=30,\n",
    "    acquisition_method=\"greedy\",\n",
    "    n_estimators=50\n",
    ")"
   ]
  },
  {
   "cell_type": "code",
   "execution_count": 10,
   "metadata": {},
   "outputs": [
    {
     "name": "stdout",
     "output_type": "stream",
     "text": [
      "Iteration 1, Results: {'top-100': 0.03, 'R2_k-100': -0.03608373791930175}\n",
      "Iteration 2, Results: {'top-100': 0.08, 'R2_k-100': 0.06198661421389684}\n",
      "Iteration 3, Results: {'top-100': 0.07, 'R2_k-100': 0.15149730874066458}\n",
      "Iteration 4, Results: {'top-100': 0.05, 'R2_k-100': 0.1605373090275204}\n",
      "Iteration 5, Results: {'top-100': 0.07, 'R2_k-100': 0.21785162074005227}\n",
      "Iteration 6, Results: {'top-100': 0.12, 'R2_k-100': 0.22389342107216448}\n",
      "Iteration 7, Results: {'top-100': 0.16, 'R2_k-100': 0.19015153875264357}\n",
      "Iteration 8, Results: {'top-100': 0.19, 'R2_k-100': 0.2961359752244277}\n",
      "Iteration 9, Results: {'top-100': 0.19, 'R2_k-100': 0.4019517352141697}\n",
      "Iteration 10, Results: {'top-100': 0.2, 'R2_k-100': 0.49989838528186525}\n",
      "Iteration 11, Results: {'top-100': 0.2, 'R2_k-100': 0.5562193866582374}\n",
      "Iteration 12, Results: {'top-100': 0.2, 'R2_k-100': 0.5649586202931334}\n",
      "Iteration 13, Results: {'top-100': 0.21, 'R2_k-100': 0.5271597031438956}\n",
      "Iteration 14, Results: {'top-100': 0.22, 'R2_k-100': 0.4554904714024479}\n",
      "Iteration 15, Results: {'top-100': 0.24, 'R2_k-100': 0.5605411487692766}\n",
      "Iteration 16, Results: {'top-100': 0.25, 'R2_k-100': 0.5244578746743798}\n",
      "Iteration 17, Results: {'top-100': 0.27, 'R2_k-100': 0.42482401344487797}\n",
      "Iteration 18, Results: {'top-100': 0.28, 'R2_k-100': 0.39527736574352734}\n",
      "Iteration 19, Results: {'top-100': 0.29, 'R2_k-100': 0.3691991245543994}\n",
      "Iteration 20, Results: {'top-100': 0.3, 'R2_k-100': 0.39889062774286366}\n",
      "Iteration 21, Results: {'top-100': 0.3, 'R2_k-100': 0.3339503921958006}\n",
      "Iteration 22, Results: {'top-100': 0.31, 'R2_k-100': 0.2969099583302204}\n",
      "Iteration 23, Results: {'top-100': 0.33, 'R2_k-100': 0.34665609832342925}\n",
      "Iteration 24, Results: {'top-100': 0.35, 'R2_k-100': 0.27661442787389223}\n",
      "Iteration 25, Results: {'top-100': 0.35, 'R2_k-100': 0.26790617461465693}\n",
      "Iteration 26, Results: {'top-100': 0.34, 'R2_k-100': 0.2471382617813246}\n",
      "Iteration 27, Results: {'top-100': 0.34, 'R2_k-100': 0.3198405602633281}\n",
      "Iteration 28, Results: {'top-100': 0.37, 'R2_k-100': 0.2363660694702966}\n",
      "Iteration 29, Results: {'top-100': 0.39, 'R2_k-100': 0.13442903443560905}\n",
      "Iteration 30, Results: {'top-100': 0.4, 'R2_k-100': 0.20674968702925334}\n",
      "Iteration 31, Results: {'top-100': 0.4, 'R2_k-100': 0.14408355453592026}\n",
      "Iteration 32, Results: {'top-100': 0.4, 'R2_k-100': 0.16037107886458035}\n",
      "Iteration 33, Results: {'top-100': 0.42, 'R2_k-100': 0.011548752644481963}\n",
      "Iteration 34, Results: {'top-100': 0.45, 'R2_k-100': 0.09907227271176255}\n",
      "Iteration 35, Results: {'top-100': 0.47, 'R2_k-100': 0.1253170221087011}\n",
      "Iteration 36, Results: {'top-100': 0.49, 'R2_k-100': 0.09708662400148649}\n",
      "Iteration 37, Results: {'top-100': 0.48, 'R2_k-100': 0.09870395253364472}\n",
      "Iteration 38, Results: {'top-100': 0.47, 'R2_k-100': 0.14891151856544593}\n",
      "Iteration 39, Results: {'top-100': 0.48, 'R2_k-100': -0.0014537512365859762}\n",
      "Iteration 40, Results: {'top-100': 0.51, 'R2_k-100': -0.015301075786683382}\n",
      "Iteration 41, Results: {'top-100': 0.5, 'R2_k-100': -0.14570087174630642}\n",
      "Iteration 42, Results: {'top-100': 0.51, 'R2_k-100': -0.1861979654027328}\n",
      "Iteration 43, Results: {'top-100': 0.49, 'R2_k-100': 0.027628540915489275}\n",
      "Iteration 44, Results: {'top-100': 0.52, 'R2_k-100': -0.06368336630947069}\n",
      "Iteration 45, Results: {'top-100': 0.5, 'R2_k-100': -0.010891791774708448}\n",
      "Iteration 46, Results: {'top-100': 0.52, 'R2_k-100': -0.21091872112780297}\n",
      "Iteration 47, Results: {'top-100': 0.5, 'R2_k-100': -0.09990620457533761}\n",
      "Iteration 48, Results: {'top-100': 0.5, 'R2_k-100': -0.05825459578801895}\n",
      "Iteration 49, Results: {'top-100': 0.52, 'R2_k-100': -0.14193326002902062}\n",
      "Iteration 50, Results: {'top-100': 0.51, 'R2_k-100': -0.06772442422241576}\n",
      "Iteration 51, Results: {'top-100': 0.54, 'R2_k-100': -0.04929594919236413}\n",
      "Iteration 52, Results: {'top-100': 0.54, 'R2_k-100': -0.26572133940693754}\n",
      "Iteration 53, Results: {'top-100': 0.54, 'R2_k-100': -0.32910941385277415}\n",
      "Iteration 54, Results: {'top-100': 0.51, 'R2_k-100': -0.032404461217444114}\n",
      "Iteration 55, Results: {'top-100': 0.53, 'R2_k-100': -0.31205947734144535}\n",
      "Iteration 56, Results: {'top-100': 0.49, 'R2_k-100': -0.2730953583676219}\n",
      "Iteration 57, Results: {'top-100': 0.55, 'R2_k-100': -0.25534829328480346}\n",
      "Iteration 58, Results: {'top-100': 0.55, 'R2_k-100': -0.2940877358235352}\n",
      "Iteration 59, Results: {'top-100': 0.57, 'R2_k-100': -0.2852232521407174}\n",
      "Iteration 60, Results: {'top-100': 0.54, 'R2_k-100': -0.1763672625623145}\n"
     ]
    }
   ],
   "source": [
    "model = Model(model=rf_model)\n",
    "model.train()"
   ]
  },
  {
   "cell_type": "code",
   "execution_count": 11,
   "metadata": {},
   "outputs": [
    {
     "data": {
      "text/plain": [
       "<matplotlib.legend.Legend at 0x2dca3822460>"
      ]
     },
     "execution_count": 11,
     "metadata": {},
     "output_type": "execute_result"
    },
    {
     "data": {
      "image/png": "[encoded data removed]",
      "text/plain": [
       "<Figure size 640x480 with 1 Axes>"
      ]
     },
     "metadata": {},
     "output_type": "display_data"
    }
   ],
   "source": [
    "predictions = model.predict(dataset)\n",
    "\n",
    "plt.plot(dataset.y, dataset.y, label=\"True values\")\n",
    "plt.scatter(dataset.y, predictions, marker=\".\", label=\"Predictions\")\n",
    "plt.gca().set(xlabel='True', ylabel='Predicted', title='Predictions')\n",
    "plt.legend()"
   ]
  },
  {
   "cell_type": "code",
   "execution_count": 12,
   "metadata": {},
   "outputs": [
    {
     "data": {
      "text/plain": [
       "{1: {'top-100': 0.03, 'R2_k-100': -0.03608373791930175},\n",
       " 2: {'top-100': 0.08, 'R2_k-100': 0.06198661421389684},\n",
       " 3: {'top-100': 0.07, 'R2_k-100': 0.15149730874066458},\n",
       " 4: {'top-100': 0.05, 'R2_k-100': 0.1605373090275204},\n",
       " 5: {'top-100': 0.07, 'R2_k-100': 0.21785162074005227},\n",
       " 6: {'top-100': 0.12, 'R2_k-100': 0.22389342107216448},\n",
       " 7: {'top-100': 0.16, 'R2_k-100': 0.19015153875264357},\n",
       " 8: {'top-100': 0.19, 'R2_k-100': 0.2961359752244277},\n",
       " 9: {'top-100': 0.19, 'R2_k-100': 0.4019517352141697},\n",
       " 10: {'top-100': 0.2, 'R2_k-100': 0.49989838528186525},\n",
       " 11: {'top-100': 0.2, 'R2_k-100': 0.5562193866582374},\n",
       " 12: {'top-100': 0.2, 'R2_k-100': 0.5649586202931334},\n",
       " 13: {'top-100': 0.21, 'R2_k-100': 0.5271597031438956},\n",
       " 14: {'top-100': 0.22, 'R2_k-100': 0.4554904714024479},\n",
       " 15: {'top-100': 0.24, 'R2_k-100': 0.5605411487692766},\n",
       " 16: {'top-100': 0.25, 'R2_k-100': 0.5244578746743798},\n",
       " 17: {'top-100': 0.27, 'R2_k-100': 0.42482401344487797},\n",
       " 18: {'top-100': 0.28, 'R2_k-100': 0.39527736574352734},\n",
       " 19: {'top-100': 0.29, 'R2_k-100': 0.3691991245543994},\n",
       " 20: {'top-100': 0.3, 'R2_k-100': 0.39889062774286366},\n",
       " 21: {'top-100': 0.3, 'R2_k-100': 0.3339503921958006},\n",
       " 22: {'top-100': 0.31, 'R2_k-100': 0.2969099583302204},\n",
       " 23: {'top-100': 0.33, 'R2_k-100': 0.34665609832342925},\n",
       " 24: {'top-100': 0.35, 'R2_k-100': 0.27661442787389223},\n",
       " 25: {'top-100': 0.35, 'R2_k-100': 0.26790617461465693},\n",
       " 26: {'top-100': 0.34, 'R2_k-100': 0.2471382617813246},\n",
       " 27: {'top-100': 0.34, 'R2_k-100': 0.3198405602633281},\n",
       " 28: {'top-100': 0.37, 'R2_k-100': 0.2363660694702966},\n",
       " 29: {'top-100': 0.39, 'R2_k-100': 0.13442903443560905},\n",
       " 30: {'top-100': 0.4, 'R2_k-100': 0.20674968702925334},\n",
       " 31: {'top-100': 0.4, 'R2_k-100': 0.14408355453592026},\n",
       " 32: {'top-100': 0.4, 'R2_k-100': 0.16037107886458035},\n",
       " 33: {'top-100': 0.42, 'R2_k-100': 0.011548752644481963},\n",
       " 34: {'top-100': 0.45, 'R2_k-100': 0.09907227271176255},\n",
       " 35: {'top-100': 0.47, 'R2_k-100': 0.1253170221087011},\n",
       " 36: {'top-100': 0.49, 'R2_k-100': 0.09708662400148649},\n",
       " 37: {'top-100': 0.48, 'R2_k-100': 0.09870395253364472},\n",
       " 38: {'top-100': 0.47, 'R2_k-100': 0.14891151856544593},\n",
       " 39: {'top-100': 0.48, 'R2_k-100': -0.0014537512365859762},\n",
       " 40: {'top-100': 0.51, 'R2_k-100': -0.015301075786683382},\n",
       " 41: {'top-100': 0.5, 'R2_k-100': -0.14570087174630642},\n",
       " 42: {'top-100': 0.51, 'R2_k-100': -0.1861979654027328},\n",
       " 43: {'top-100': 0.49, 'R2_k-100': 0.027628540915489275},\n",
       " 44: {'top-100': 0.52, 'R2_k-100': -0.06368336630947069},\n",
       " 45: {'top-100': 0.5, 'R2_k-100': -0.010891791774708448},\n",
       " 46: {'top-100': 0.52, 'R2_k-100': -0.21091872112780297},\n",
       " 47: {'top-100': 0.5, 'R2_k-100': -0.09990620457533761},\n",
       " 48: {'top-100': 0.5, 'R2_k-100': -0.05825459578801895},\n",
       " 49: {'top-100': 0.52, 'R2_k-100': -0.14193326002902062},\n",
       " 50: {'top-100': 0.51, 'R2_k-100': -0.06772442422241576},\n",
       " 51: {'top-100': 0.54, 'R2_k-100': -0.04929594919236413},\n",
       " 52: {'top-100': 0.54, 'R2_k-100': -0.26572133940693754},\n",
       " 53: {'top-100': 0.54, 'R2_k-100': -0.32910941385277415},\n",
       " 54: {'top-100': 0.51, 'R2_k-100': -0.032404461217444114},\n",
       " 55: {'top-100': 0.53, 'R2_k-100': -0.31205947734144535},\n",
       " 56: {'top-100': 0.49, 'R2_k-100': -0.2730953583676219},\n",
       " 57: {'top-100': 0.55, 'R2_k-100': -0.25534829328480346},\n",
       " 58: {'top-100': 0.55, 'R2_k-100': -0.2940877358235352},\n",
       " 59: {'top-100': 0.57, 'R2_k-100': -0.2852232521407174},\n",
       " 60: {'top-100': 0.54, 'R2_k-100': -0.1763672625623145}}"
      ]
     },
     "execution_count": 12,
     "metadata": {},
     "output_type": "execute_result"
    }
   ],
   "source": [
    "model.results"
   ]
  },
  {
   "cell_type": "code",
   "execution_count": 13,
   "metadata": {},
   "outputs": [
    {
     "data": {
      "text/plain": [
       "60"
      ]
     },
     "execution_count": 13,
     "metadata": {},
     "output_type": "execute_result"
    }
   ],
   "source": [
    "max(model.results.keys())"
   ]
  },
  {
   "cell_type": "code",
   "execution_count": 14,
   "metadata": {},
   "outputs": [],
   "source": [
    "top_100_list = []\n",
    "iteration_list = []\n",
    "for i in range(0, max(model.results.keys())+1, 10):\n",
    "    if i == 0: i = 1\n",
    "\n",
    "    if i in model.results:\n",
    "        top_100_list.append(model.results[i]['top-100'])\n",
    "        iteration_list.append(i)\n"
   ]
  },
  {
   "cell_type": "code",
   "execution_count": 15,
   "metadata": {},
   "outputs": [
    {
     "name": "stdout",
     "output_type": "stream",
     "text": [
      "[0.03, 0.2, 0.3, 0.4, 0.51, 0.51, 0.54]\n",
      "[1, 10, 20, 30, 40, 50, 60]\n"
     ]
    }
   ],
   "source": [
    "print(top_100_list)\n",
    "print(iteration_list)"
   ]
  },
  {
   "cell_type": "code",
   "execution_count": 16,
   "metadata": {},
   "outputs": [
    {
     "data": {
      "text/plain": [
       "<matplotlib.legend.Legend at 0x2dcbe7b9280>"
      ]
     },
     "execution_count": 16,
     "metadata": {},
     "output_type": "execute_result"
    },
    {
     "data": {
      "image/png": "[encoded data removed]",
      "text/plain": [
       "<Figure size 640x480 with 1 Axes>"
      ]
     },
     "metadata": {},
     "output_type": "display_data"
    }
   ],
   "source": [
    "plt.scatter(iteration_list, top_100_list, marker=\"o\", label=\"greedy\")\n",
    "plt.plot(iteration_list, top_100_list, linestyle=\"-\", color=\"blue\")\n",
    "plt.gca().set(xlabel='Iteration', ylabel='Top-100 found', title='Experiment 10k')\n",
    "plt.ylim(0, 1)\n",
    "plt.legend()"
   ]
  }
 ],
 "metadata": {
  "kernelspec": {
   "display_name": "Python 3",
   "language": "python",
   "name": "python3"
  },
  "language_info": {
   "codemirror_mode": {
    "name": "ipython",
    "version": 3
   },
   "file_extension": ".py",
   "mimetype": "text/x-python",
   "name": "python",
   "nbconvert_exporter": "python",
   "pygments_lexer": "ipython3",
   "version": "3.8.10"
  },
  "orig_nbformat": 4
 },
 "nbformat": 4,
 "nbformat_minor": 2
}

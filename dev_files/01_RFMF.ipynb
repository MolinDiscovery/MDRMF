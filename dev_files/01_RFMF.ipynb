{
 "cells": [
  {
   "attachments": {},
   "cell_type": "markdown",
   "metadata": {},
   "source": [
    "## Setup"
   ]
  },
  {
   "cell_type": "code",
   "execution_count": 1,
   "metadata": {},
   "outputs": [
    {
     "name": "stderr",
     "output_type": "stream",
     "text": [
      "Skipped loading modules with pytorch-geometric dependency, missing a dependency. No module named 'torch_sparse'\n",
      "Skipped loading modules with pytorch-geometric dependency, missing a dependency. cannot import name 'DMPNN' from 'deepchem.models.torch_models' (c:\\Users\\xsj110\\AppData\\Local\\Programs\\Python\\Python38\\lib\\site-packages\\deepchem\\models\\torch_models\\__init__.py)\n",
      "Skipped loading some Jax models, missing a dependency. No module named 'jaxlib'\n"
     ]
    }
   ],
   "source": [
    "import utils\n",
    "import numpy as np\n",
    "import pandas as pd\n",
    "from deepchem import deepchem as dc\n",
    "from sklearn.ensemble import RandomForestRegressor\n",
    "from deepchem.models import SklearnModel"
   ]
  },
  {
   "cell_type": "code",
   "execution_count": 2,
   "metadata": {},
   "outputs": [],
   "source": [
    "data = utils.load_data('10K.csv', 1000, True)"
   ]
  },
  {
   "cell_type": "code",
   "execution_count": 3,
   "metadata": {},
   "outputs": [],
   "source": [
    "df_sample = data.sample(n=10)"
   ]
  },
  {
   "cell_type": "code",
   "execution_count": 4,
   "metadata": {},
   "outputs": [
    {
     "data": {
      "text/html": [
       "<div>\n",
       "<style scoped>\n",
       "    .dataframe tbody tr th:only-of-type {\n",
       "        vertical-align: middle;\n",
       "    }\n",
       "\n",
       "    .dataframe tbody tr th {\n",
       "        vertical-align: top;\n",
       "    }\n",
       "\n",
       "    .dataframe thead th {\n",
       "        text-align: right;\n",
       "    }\n",
       "</style>\n",
       "<table border=\"1\" class=\"dataframe\">\n",
       "  <thead>\n",
       "    <tr style=\"text-align: right;\">\n",
       "      <th></th>\n",
       "      <th>i_i_glide_lignum</th>\n",
       "      <th>r_i_docking_score</th>\n",
       "      <th>SMILES</th>\n",
       "      <th>molecules</th>\n",
       "      <th>MolWt</th>\n",
       "    </tr>\n",
       "    <tr>\n",
       "      <th>Unnamed: 0</th>\n",
       "      <th></th>\n",
       "      <th></th>\n",
       "      <th></th>\n",
       "      <th></th>\n",
       "      <th></th>\n",
       "    </tr>\n",
       "  </thead>\n",
       "  <tbody>\n",
       "    <tr>\n",
       "      <th>4825</th>\n",
       "      <td>14989</td>\n",
       "      <td>-8.01900</td>\n",
       "      <td>O=C(Cc1cccs1)NCc1cccc(-n2ccc(C(=O)[O-])n2)c1</td>\n",
       "      <td>&lt;rdkit.Chem.rdchem.Mol object at 0x000001D866B...</td>\n",
       "      <td>340.384</td>\n",
       "    </tr>\n",
       "    <tr>\n",
       "      <th>3314</th>\n",
       "      <td>15122</td>\n",
       "      <td>-8.56034</td>\n",
       "      <td>COc1cc(CC(=O)Nc2cccc3c2CCNC3=O)ccc1C</td>\n",
       "      <td>&lt;rdkit.Chem.rdchem.Mol object at 0x000001D866B...</td>\n",
       "      <td>324.380</td>\n",
       "    </tr>\n",
       "    <tr>\n",
       "      <th>8535</th>\n",
       "      <td>16473</td>\n",
       "      <td>-6.08356</td>\n",
       "      <td>O=C(N[C@@H]1CCCS(=O)(=O)C1)N1CCOCC1</td>\n",
       "      <td>&lt;rdkit.Chem.rdchem.Mol object at 0x000001D866C...</td>\n",
       "      <td>262.331</td>\n",
       "    </tr>\n",
       "    <tr>\n",
       "      <th>5957</th>\n",
       "      <td>19158</td>\n",
       "      <td>-7.56715</td>\n",
       "      <td>O=C([O-])Cn1cc(NC(=O)[C@H]2CC(=O)N(C3CCCC3)C2)cn1</td>\n",
       "      <td>&lt;rdkit.Chem.rdchem.Mol object at 0x000001D866C...</td>\n",
       "      <td>319.341</td>\n",
       "    </tr>\n",
       "    <tr>\n",
       "      <th>3364</th>\n",
       "      <td>9957</td>\n",
       "      <td>-8.54169</td>\n",
       "      <td>COc1ccc2c(c1)c(C(=O)NC[C@H](O)C1CC1)c(C)n2C1CC1</td>\n",
       "      <td>&lt;rdkit.Chem.rdchem.Mol object at 0x000001D866B...</td>\n",
       "      <td>328.412</td>\n",
       "    </tr>\n",
       "    <tr>\n",
       "      <th>7488</th>\n",
       "      <td>501</td>\n",
       "      <td>-6.82972</td>\n",
       "      <td>Cc1cc(C)n2ncc(C(=O)Nc3ccccc3)c2n1</td>\n",
       "      <td>&lt;rdkit.Chem.rdchem.Mol object at 0x000001D866C...</td>\n",
       "      <td>266.304</td>\n",
       "    </tr>\n",
       "    <tr>\n",
       "      <th>7470</th>\n",
       "      <td>8122</td>\n",
       "      <td>-6.83850</td>\n",
       "      <td>C[C@@H](NC(=O)c1cn(CC(=O)[O-])nn1)C1CCC(F)(F)CC1</td>\n",
       "      <td>&lt;rdkit.Chem.rdchem.Mol object at 0x000001D866C...</td>\n",
       "      <td>315.300</td>\n",
       "    </tr>\n",
       "    <tr>\n",
       "      <th>5491</th>\n",
       "      <td>11635</td>\n",
       "      <td>-7.76300</td>\n",
       "      <td>Cc1ccc(C(=O)NCC2(O)CCCCCC2)o1</td>\n",
       "      <td>&lt;rdkit.Chem.rdchem.Mol object at 0x000001D866B...</td>\n",
       "      <td>251.326</td>\n",
       "    </tr>\n",
       "    <tr>\n",
       "      <th>6006</th>\n",
       "      <td>10257</td>\n",
       "      <td>-7.54929</td>\n",
       "      <td>COc1cc(C(=O)N2CC[C@@H](C(=O)[O-])C2)ccc1F</td>\n",
       "      <td>&lt;rdkit.Chem.rdchem.Mol object at 0x000001D866C...</td>\n",
       "      <td>266.248</td>\n",
       "    </tr>\n",
       "    <tr>\n",
       "      <th>1596</th>\n",
       "      <td>18761</td>\n",
       "      <td>-9.21696</td>\n",
       "      <td>NC(=O)c1ccc(N2CCCCC2)c(NC(=O)c2ccnnc2)c1</td>\n",
       "      <td>&lt;rdkit.Chem.rdchem.Mol object at 0x000001D866B...</td>\n",
       "      <td>325.372</td>\n",
       "    </tr>\n",
       "  </tbody>\n",
       "</table>\n",
       "</div>"
      ],
      "text/plain": [
       "            i_i_glide_lignum  r_i_docking_score  \\\n",
       "Unnamed: 0                                        \n",
       "4825                   14989           -8.01900   \n",
       "3314                   15122           -8.56034   \n",
       "8535                   16473           -6.08356   \n",
       "5957                   19158           -7.56715   \n",
       "3364                    9957           -8.54169   \n",
       "7488                     501           -6.82972   \n",
       "7470                    8122           -6.83850   \n",
       "5491                   11635           -7.76300   \n",
       "6006                   10257           -7.54929   \n",
       "1596                   18761           -9.21696   \n",
       "\n",
       "                                                       SMILES  \\\n",
       "Unnamed: 0                                                      \n",
       "4825             O=C(Cc1cccs1)NCc1cccc(-n2ccc(C(=O)[O-])n2)c1   \n",
       "3314                     COc1cc(CC(=O)Nc2cccc3c2CCNC3=O)ccc1C   \n",
       "8535                      O=C(N[C@@H]1CCCS(=O)(=O)C1)N1CCOCC1   \n",
       "5957        O=C([O-])Cn1cc(NC(=O)[C@H]2CC(=O)N(C3CCCC3)C2)cn1   \n",
       "3364          COc1ccc2c(c1)c(C(=O)NC[C@H](O)C1CC1)c(C)n2C1CC1   \n",
       "7488                        Cc1cc(C)n2ncc(C(=O)Nc3ccccc3)c2n1   \n",
       "7470         C[C@@H](NC(=O)c1cn(CC(=O)[O-])nn1)C1CCC(F)(F)CC1   \n",
       "5491                            Cc1ccc(C(=O)NCC2(O)CCCCCC2)o1   \n",
       "6006                COc1cc(C(=O)N2CC[C@@H](C(=O)[O-])C2)ccc1F   \n",
       "1596                 NC(=O)c1ccc(N2CCCCC2)c(NC(=O)c2ccnnc2)c1   \n",
       "\n",
       "                                                    molecules    MolWt  \n",
       "Unnamed: 0                                                              \n",
       "4825        <rdkit.Chem.rdchem.Mol object at 0x000001D866B...  340.384  \n",
       "3314        <rdkit.Chem.rdchem.Mol object at 0x000001D866B...  324.380  \n",
       "8535        <rdkit.Chem.rdchem.Mol object at 0x000001D866C...  262.331  \n",
       "5957        <rdkit.Chem.rdchem.Mol object at 0x000001D866C...  319.341  \n",
       "3364        <rdkit.Chem.rdchem.Mol object at 0x000001D866B...  328.412  \n",
       "7488        <rdkit.Chem.rdchem.Mol object at 0x000001D866C...  266.304  \n",
       "7470        <rdkit.Chem.rdchem.Mol object at 0x000001D866C...  315.300  \n",
       "5491        <rdkit.Chem.rdchem.Mol object at 0x000001D866B...  251.326  \n",
       "6006        <rdkit.Chem.rdchem.Mol object at 0x000001D866C...  266.248  \n",
       "1596        <rdkit.Chem.rdchem.Mol object at 0x000001D866B...  325.372  "
      ]
     },
     "execution_count": 4,
     "metadata": {},
     "output_type": "execute_result"
    }
   ],
   "source": [
    "df_sample"
   ]
  },
  {
   "attachments": {},
   "cell_type": "markdown",
   "metadata": {},
   "source": [
    "## Initial model"
   ]
  },
  {
   "cell_type": "code",
   "execution_count": 5,
   "metadata": {},
   "outputs": [],
   "source": [
    "rf_model = RandomForestRegressor(random_state=57)\n",
    "model = SklearnModel(model=rf_model)"
   ]
  },
  {
   "cell_type": "code",
   "execution_count": 6,
   "metadata": {},
   "outputs": [],
   "source": [
    "featurizer = dc.feat.CircularFingerprint(size=1024)\n",
    "\n",
    "feat = featurizer\n",
    "X = feat.featurize(df_sample['molecules'])\n",
    "y = df_sample['r_i_docking_score'].to_numpy()\n",
    "ids = df_sample['SMILES']\n",
    "dataset = dc.data.NumpyDataset(X=X, y=y, ids=ids)"
   ]
  },
  {
   "cell_type": "code",
   "execution_count": 7,
   "metadata": {},
   "outputs": [
    {
     "data": {
      "text/plain": [
       "<NumpyDataset X.shape: (10, 1024), y.shape: (10,), w.shape: (10,), ids: ['O=C(Cc1cccs1)NCc1cccc(-n2ccc(C(=O)[O-])n2)c1'\n",
       " 'COc1cc(CC(=O)Nc2cccc3c2CCNC3=O)ccc1C'\n",
       " 'O=C(N[C@@H]1CCCS(=O)(=O)C1)N1CCOCC1'\n",
       " 'O=C([O-])Cn1cc(NC(=O)[C@H]2CC(=O)N(C3CCCC3)C2)cn1'\n",
       " 'COc1ccc2c(c1)c(C(=O)NC[C@H](O)C1CC1)c(C)n2C1CC1'\n",
       " 'Cc1cc(C)n2ncc(C(=O)Nc3ccccc3)c2n1'\n",
       " 'C[C@@H](NC(=O)c1cn(CC(=O)[O-])nn1)C1CCC(F)(F)CC1'\n",
       " 'Cc1ccc(C(=O)NCC2(O)CCCCCC2)o1'\n",
       " 'COc1cc(C(=O)N2CC[C@@H](C(=O)[O-])C2)ccc1F'\n",
       " 'NC(=O)c1ccc(N2CCCCC2)c(NC(=O)c2ccnnc2)c1'], task_names: [0]>"
      ]
     },
     "execution_count": 7,
     "metadata": {},
     "output_type": "execute_result"
    }
   ],
   "source": [
    "dataset"
   ]
  },
  {
   "cell_type": "code",
   "execution_count": 95,
   "metadata": {},
   "outputs": [],
   "source": [
    "model.fit(dataset)"
   ]
  },
  {
   "attachments": {},
   "cell_type": "markdown",
   "metadata": {},
   "source": [
    "## Eval section"
   ]
  },
  {
   "cell_type": "code",
   "execution_count": 53,
   "metadata": {},
   "outputs": [],
   "source": [
    "from matplotlib import pyplot as plt\n",
    "\n",
    "preds_tiny = model.predict(dataset)"
   ]
  },
  {
   "cell_type": "code",
   "execution_count": 54,
   "metadata": {},
   "outputs": [
    {
     "data": {
      "text/plain": [
       "<matplotlib.legend.Legend at 0x2033e024e20>"
      ]
     },
     "execution_count": 54,
     "metadata": {},
     "output_type": "execute_result"
    },
    {
     "data": {
      "image/png": "[encoded data removed]",
      "text/plain": [
       "<Figure size 640x480 with 1 Axes>"
      ]
     },
     "metadata": {},
     "output_type": "display_data"
    }
   ],
   "source": [
    "plt.plot(dataset.y, dataset.y, label=\"True values\")\n",
    "plt.scatter(dataset.y, preds_tiny, label=\"Tiny preds\")\n",
    "plt.legend()"
   ]
  },
  {
   "cell_type": "code",
   "execution_count": 55,
   "metadata": {},
   "outputs": [
    {
     "name": "stdout",
     "output_type": "stream",
     "text": [
      "RMSE   | 0.331\n",
      "R2     | 0.836\n",
      "MAE    | 0.279\n",
      "mean   | -7.322\n",
      "std    | 0.525\n"
     ]
    }
   ],
   "source": [
    "utils.eval(model, dataset)"
   ]
  },
  {
   "cell_type": "code",
   "execution_count": 56,
   "metadata": {},
   "outputs": [],
   "source": [
    "# Remove samples from the larger df\n",
    "data = data.drop(df_sample.index)"
   ]
  },
  {
   "cell_type": "code",
   "execution_count": 57,
   "metadata": {},
   "outputs": [],
   "source": [
    "featurizer = dc.feat.CircularFingerprint(size=1024)\n",
    "\n",
    "feat = featurizer\n",
    "X = feat.featurize(data['molecules'])\n",
    "y = data['r_i_docking_score'].to_numpy()\n",
    "ids = data['SMILES']\n",
    "\n",
    "dataset = dc.data.NumpyDataset(X=X, y=y, ids=ids)"
   ]
  },
  {
   "cell_type": "code",
   "execution_count": 58,
   "metadata": {},
   "outputs": [],
   "source": [
    "preds_large = model.predict(dataset)"
   ]
  },
  {
   "cell_type": "code",
   "execution_count": 59,
   "metadata": {},
   "outputs": [
    {
     "data": {
      "text/plain": [
       "<matplotlib.legend.Legend at 0x2033e066d30>"
      ]
     },
     "execution_count": 59,
     "metadata": {},
     "output_type": "execute_result"
    },
    {
     "data": {
      "image/png": "[encoded data removed]",
      "text/plain": [
       "<Figure size 640x480 with 1 Axes>"
      ]
     },
     "metadata": {},
     "output_type": "display_data"
    }
   ],
   "source": [
    "plt.plot(dataset.y, dataset.y, label=\"True values\")\n",
    "plt.scatter(dataset.y, preds_large, marker=\".\", label=\"Large preds\")\n",
    "plt.legend()"
   ]
  },
  {
   "cell_type": "code",
   "execution_count": 60,
   "metadata": {},
   "outputs": [
    {
     "name": "stdout",
     "output_type": "stream",
     "text": [
      "RMSE   | 1.653\n",
      "R2     | -0.136\n",
      "MAE    | 1.35\n",
      "mean   | -7.199\n",
      "std    | 0.241\n"
     ]
    }
   ],
   "source": [
    "utils.eval(model, dataset)"
   ]
  },
  {
   "attachments": {},
   "cell_type": "markdown",
   "metadata": {},
   "source": [
    "## Grapping more points"
   ]
  },
  {
   "cell_type": "code",
   "execution_count": 61,
   "metadata": {},
   "outputs": [
    {
     "data": {
      "text/plain": [
       "-7.3862161"
      ]
     },
     "execution_count": 61,
     "metadata": {},
     "output_type": "execute_result"
    }
   ],
   "source": [
    "preds_large[1]"
   ]
  },
  {
   "cell_type": "code",
   "execution_count": 62,
   "metadata": {},
   "outputs": [
    {
     "data": {
      "text/plain": [
       "-12.6629"
      ]
     },
     "execution_count": 62,
     "metadata": {},
     "output_type": "execute_result"
    }
   ],
   "source": [
    "dataset.y[1]"
   ]
  },
  {
   "cell_type": "code",
   "execution_count": 63,
   "metadata": {},
   "outputs": [
    {
     "data": {
      "text/plain": [
       "5.2766839"
      ]
     },
     "execution_count": 63,
     "metadata": {},
     "output_type": "execute_result"
    }
   ],
   "source": [
    "abs(preds_large[1] - dataset.y[1])"
   ]
  },
  {
   "cell_type": "code",
   "execution_count": 64,
   "metadata": {},
   "outputs": [],
   "source": [
    "errors = np.abs(dataset.y - preds_large)"
   ]
  },
  {
   "cell_type": "code",
   "execution_count": 65,
   "metadata": {},
   "outputs": [
    {
     "data": {
      "text/html": [
       "<div>\n",
       "<style scoped>\n",
       "    .dataframe tbody tr th:only-of-type {\n",
       "        vertical-align: middle;\n",
       "    }\n",
       "\n",
       "    .dataframe tbody tr th {\n",
       "        vertical-align: top;\n",
       "    }\n",
       "\n",
       "    .dataframe thead th {\n",
       "        text-align: right;\n",
       "    }\n",
       "</style>\n",
       "<table border=\"1\" class=\"dataframe\">\n",
       "  <thead>\n",
       "    <tr style=\"text-align: right;\">\n",
       "      <th></th>\n",
       "      <th>i_i_glide_lignum</th>\n",
       "      <th>r_i_docking_score</th>\n",
       "      <th>SMILES</th>\n",
       "      <th>molecules</th>\n",
       "      <th>MolWt</th>\n",
       "      <th>errors</th>\n",
       "    </tr>\n",
       "    <tr>\n",
       "      <th>Unnamed: 0</th>\n",
       "      <th></th>\n",
       "      <th></th>\n",
       "      <th></th>\n",
       "      <th></th>\n",
       "      <th></th>\n",
       "      <th></th>\n",
       "    </tr>\n",
       "  </thead>\n",
       "  <tbody>\n",
       "    <tr>\n",
       "      <th>6484</th>\n",
       "      <td>6250</td>\n",
       "      <td>-7.343630</td>\n",
       "      <td>O=C([O-])[C@H]1CCCC[C@H]1C(=O)Nc1ccccc1F</td>\n",
       "      <td>&lt;rdkit.Chem.rdchem.Mol object at 0x00000203380...</td>\n",
       "      <td>264.276</td>\n",
       "      <td>0.000010</td>\n",
       "    </tr>\n",
       "    <tr>\n",
       "      <th>7213</th>\n",
       "      <td>1365</td>\n",
       "      <td>-6.980810</td>\n",
       "      <td>CCOC(=O)[C@H]1CSCCN1C(=O)c1csc(-c2ccccc2Cl)n1</td>\n",
       "      <td>&lt;rdkit.Chem.rdchem.Mol object at 0x00000203380...</td>\n",
       "      <td>396.921</td>\n",
       "      <td>0.000270</td>\n",
       "    </tr>\n",
       "    <tr>\n",
       "      <th>7237</th>\n",
       "      <td>7618</td>\n",
       "      <td>-6.967680</td>\n",
       "      <td>C[C@H]1C[C@H](NS(=O)(=O)c2cccc(N3C[C@H]4COC[C@...</td>\n",
       "      <td>&lt;rdkit.Chem.rdchem.Mol object at 0x00000203380...</td>\n",
       "      <td>337.445</td>\n",
       "      <td>0.000290</td>\n",
       "    </tr>\n",
       "    <tr>\n",
       "      <th>6186</th>\n",
       "      <td>20220</td>\n",
       "      <td>-7.474970</td>\n",
       "      <td>O=C1CCc2cc(C(=O)Nc3cc[nH]n3)ccc2N1</td>\n",
       "      <td>&lt;rdkit.Chem.rdchem.Mol object at 0x00000203380...</td>\n",
       "      <td>256.265</td>\n",
       "      <td>0.000318</td>\n",
       "    </tr>\n",
       "    <tr>\n",
       "      <th>7338</th>\n",
       "      <td>8281</td>\n",
       "      <td>-6.911540</td>\n",
       "      <td>COc1ccc(S(=O)(=O)N[C@H](C(=O)[O-])C(C)C)c2ccccc12</td>\n",
       "      <td>&lt;rdkit.Chem.rdchem.Mol object at 0x00000203380...</td>\n",
       "      <td>336.389</td>\n",
       "      <td>0.001007</td>\n",
       "    </tr>\n",
       "    <tr>\n",
       "      <th>...</th>\n",
       "      <td>...</td>\n",
       "      <td>...</td>\n",
       "      <td>...</td>\n",
       "      <td>...</td>\n",
       "      <td>...</td>\n",
       "      <td>...</td>\n",
       "    </tr>\n",
       "    <tr>\n",
       "      <th>9893</th>\n",
       "      <td>2451</td>\n",
       "      <td>-0.560302</td>\n",
       "      <td>O=C([O-])C(F)(F)F</td>\n",
       "      <td>&lt;rdkit.Chem.rdchem.Mol object at 0x00000203380...</td>\n",
       "      <td>113.014</td>\n",
       "      <td>6.508620</td>\n",
       "    </tr>\n",
       "    <tr>\n",
       "      <th>9894</th>\n",
       "      <td>7813</td>\n",
       "      <td>-0.384887</td>\n",
       "      <td>Cc1cnn(C)c1S(=O)(=O)NC[C@@H](Cc1ccccn1)C(=O)[O-]</td>\n",
       "      <td>&lt;rdkit.Chem.rdchem.Mol object at 0x00000203380...</td>\n",
       "      <td>337.381</td>\n",
       "      <td>6.528999</td>\n",
       "    </tr>\n",
       "    <tr>\n",
       "      <th>9896</th>\n",
       "      <td>13971</td>\n",
       "      <td>-0.150473</td>\n",
       "      <td>O=C([O-])[C@H]1CC[C@@H](C(=O)N2CCCc3ccccc32)CC1</td>\n",
       "      <td>&lt;rdkit.Chem.rdchem.Mol object at 0x00000203380...</td>\n",
       "      <td>286.351</td>\n",
       "      <td>6.784230</td>\n",
       "    </tr>\n",
       "    <tr>\n",
       "      <th>9895</th>\n",
       "      <td>11442</td>\n",
       "      <td>-0.269109</td>\n",
       "      <td>Cn1cccc(C(=O)N2CCN(C3CC3)c3ccc(Cl)cc32)c1=O</td>\n",
       "      <td>&lt;rdkit.Chem.rdchem.Mol object at 0x00000203380...</td>\n",
       "      <td>343.814</td>\n",
       "      <td>7.194392</td>\n",
       "    </tr>\n",
       "    <tr>\n",
       "      <th>9897</th>\n",
       "      <td>11630</td>\n",
       "      <td>-0.145596</td>\n",
       "      <td>CCNS(=O)(=O)c1cc(NCCOC)ccn1</td>\n",
       "      <td>&lt;rdkit.Chem.rdchem.Mol object at 0x00000203380...</td>\n",
       "      <td>259.331</td>\n",
       "      <td>7.333326</td>\n",
       "    </tr>\n",
       "  </tbody>\n",
       "</table>\n",
       "<p>9888 rows × 6 columns</p>\n",
       "</div>"
      ],
      "text/plain": [
       "            i_i_glide_lignum  r_i_docking_score  \\\n",
       "Unnamed: 0                                        \n",
       "6484                    6250          -7.343630   \n",
       "7213                    1365          -6.980810   \n",
       "7237                    7618          -6.967680   \n",
       "6186                   20220          -7.474970   \n",
       "7338                    8281          -6.911540   \n",
       "...                      ...                ...   \n",
       "9893                    2451          -0.560302   \n",
       "9894                    7813          -0.384887   \n",
       "9896                   13971          -0.150473   \n",
       "9895                   11442          -0.269109   \n",
       "9897                   11630          -0.145596   \n",
       "\n",
       "                                                       SMILES  \\\n",
       "Unnamed: 0                                                      \n",
       "6484                 O=C([O-])[C@H]1CCCC[C@H]1C(=O)Nc1ccccc1F   \n",
       "7213            CCOC(=O)[C@H]1CSCCN1C(=O)c1csc(-c2ccccc2Cl)n1   \n",
       "7237        C[C@H]1C[C@H](NS(=O)(=O)c2cccc(N3C[C@H]4COC[C@...   \n",
       "6186                       O=C1CCc2cc(C(=O)Nc3cc[nH]n3)ccc2N1   \n",
       "7338        COc1ccc(S(=O)(=O)N[C@H](C(=O)[O-])C(C)C)c2ccccc12   \n",
       "...                                                       ...   \n",
       "9893                                        O=C([O-])C(F)(F)F   \n",
       "9894         Cc1cnn(C)c1S(=O)(=O)NC[C@@H](Cc1ccccn1)C(=O)[O-]   \n",
       "9896          O=C([O-])[C@H]1CC[C@@H](C(=O)N2CCCc3ccccc32)CC1   \n",
       "9895              Cn1cccc(C(=O)N2CCN(C3CC3)c3ccc(Cl)cc32)c1=O   \n",
       "9897                              CCNS(=O)(=O)c1cc(NCCOC)ccn1   \n",
       "\n",
       "                                                    molecules    MolWt  \\\n",
       "Unnamed: 0                                                               \n",
       "6484        <rdkit.Chem.rdchem.Mol object at 0x00000203380...  264.276   \n",
       "7213        <rdkit.Chem.rdchem.Mol object at 0x00000203380...  396.921   \n",
       "7237        <rdkit.Chem.rdchem.Mol object at 0x00000203380...  337.445   \n",
       "6186        <rdkit.Chem.rdchem.Mol object at 0x00000203380...  256.265   \n",
       "7338        <rdkit.Chem.rdchem.Mol object at 0x00000203380...  336.389   \n",
       "...                                                       ...      ...   \n",
       "9893        <rdkit.Chem.rdchem.Mol object at 0x00000203380...  113.014   \n",
       "9894        <rdkit.Chem.rdchem.Mol object at 0x00000203380...  337.381   \n",
       "9896        <rdkit.Chem.rdchem.Mol object at 0x00000203380...  286.351   \n",
       "9895        <rdkit.Chem.rdchem.Mol object at 0x00000203380...  343.814   \n",
       "9897        <rdkit.Chem.rdchem.Mol object at 0x00000203380...  259.331   \n",
       "\n",
       "              errors  \n",
       "Unnamed: 0            \n",
       "6484        0.000010  \n",
       "7213        0.000270  \n",
       "7237        0.000290  \n",
       "6186        0.000318  \n",
       "7338        0.001007  \n",
       "...              ...  \n",
       "9893        6.508620  \n",
       "9894        6.528999  \n",
       "9896        6.784230  \n",
       "9895        7.194392  \n",
       "9897        7.333326  \n",
       "\n",
       "[9888 rows x 6 columns]"
      ]
     },
     "execution_count": 65,
     "metadata": {},
     "output_type": "execute_result"
    }
   ],
   "source": [
    "data['errors'] = errors\n",
    "data = data.sort_values(by=\"errors\")\n",
    "data"
   ]
  },
  {
   "cell_type": "code",
   "execution_count": 66,
   "metadata": {},
   "outputs": [],
   "source": [
    "first_pool = data.head(10)"
   ]
  },
  {
   "cell_type": "code",
   "execution_count": 67,
   "metadata": {},
   "outputs": [],
   "source": [
    "df_sample_2 = pd.concat([df_sample, first_pool])"
   ]
  },
  {
   "cell_type": "code",
   "execution_count": 68,
   "metadata": {},
   "outputs": [
    {
     "data": {
      "text/html": [
       "<div>\n",
       "<style scoped>\n",
       "    .dataframe tbody tr th:only-of-type {\n",
       "        vertical-align: middle;\n",
       "    }\n",
       "\n",
       "    .dataframe tbody tr th {\n",
       "        vertical-align: top;\n",
       "    }\n",
       "\n",
       "    .dataframe thead th {\n",
       "        text-align: right;\n",
       "    }\n",
       "</style>\n",
       "<table border=\"1\" class=\"dataframe\">\n",
       "  <thead>\n",
       "    <tr style=\"text-align: right;\">\n",
       "      <th></th>\n",
       "      <th>i_i_glide_lignum</th>\n",
       "      <th>r_i_docking_score</th>\n",
       "      <th>SMILES</th>\n",
       "      <th>molecules</th>\n",
       "      <th>MolWt</th>\n",
       "      <th>errors</th>\n",
       "    </tr>\n",
       "    <tr>\n",
       "      <th>Unnamed: 0</th>\n",
       "      <th></th>\n",
       "      <th></th>\n",
       "      <th></th>\n",
       "      <th></th>\n",
       "      <th></th>\n",
       "      <th></th>\n",
       "    </tr>\n",
       "  </thead>\n",
       "  <tbody>\n",
       "    <tr>\n",
       "      <th>4847</th>\n",
       "      <td>11832</td>\n",
       "      <td>-8.01357</td>\n",
       "      <td>O=C1CCC[C@@H](C(=O)Nc2cc(Cl)c(F)c(Cl)c2)N1</td>\n",
       "      <td>&lt;rdkit.Chem.rdchem.Mol object at 0x00000203380...</td>\n",
       "      <td>305.136</td>\n",
       "      <td>NaN</td>\n",
       "    </tr>\n",
       "    <tr>\n",
       "      <th>8273</th>\n",
       "      <td>5420</td>\n",
       "      <td>-6.29522</td>\n",
       "      <td>Cc1nsc(N2CCN(C(=O)C3(NC(N)=O)CC3)CC2)n1</td>\n",
       "      <td>&lt;rdkit.Chem.rdchem.Mol object at 0x00000203380...</td>\n",
       "      <td>310.383</td>\n",
       "      <td>NaN</td>\n",
       "    </tr>\n",
       "    <tr>\n",
       "      <th>3747</th>\n",
       "      <td>13565</td>\n",
       "      <td>-8.40404</td>\n",
       "      <td>O=C(NCc1cn2cc(Cl)ccc2n1)[C@H]1CC12CC[NH2+]CC2</td>\n",
       "      <td>&lt;rdkit.Chem.rdchem.Mol object at 0x00000203380...</td>\n",
       "      <td>319.816</td>\n",
       "      <td>NaN</td>\n",
       "    </tr>\n",
       "    <tr>\n",
       "      <th>6437</th>\n",
       "      <td>5495</td>\n",
       "      <td>-7.36197</td>\n",
       "      <td>Cc1cncc(C(=O)N[C@H]2Cc3ccccc3[C@H]2N)c1</td>\n",
       "      <td>&lt;rdkit.Chem.rdchem.Mol object at 0x00000203380...</td>\n",
       "      <td>267.332</td>\n",
       "      <td>NaN</td>\n",
       "    </tr>\n",
       "    <tr>\n",
       "      <th>6367</th>\n",
       "      <td>19952</td>\n",
       "      <td>-7.39524</td>\n",
       "      <td>COc1ccc(CN(C(=O)c2cc(S(=O)(=O)Nc3ccccc3F)c[nH]...</td>\n",
       "      <td>&lt;rdkit.Chem.rdchem.Mol object at 0x00000203380...</td>\n",
       "      <td>443.500</td>\n",
       "      <td>NaN</td>\n",
       "    </tr>\n",
       "    <tr>\n",
       "      <th>8206</th>\n",
       "      <td>2993</td>\n",
       "      <td>-6.34753</td>\n",
       "      <td>Cc1c(Cl)c(C[NH+]2CCC(NC(=O)c3ccccc3)CC2)nn1C</td>\n",
       "      <td>&lt;rdkit.Chem.rdchem.Mol object at 0x00000203380...</td>\n",
       "      <td>347.870</td>\n",
       "      <td>NaN</td>\n",
       "    </tr>\n",
       "    <tr>\n",
       "      <th>7545</th>\n",
       "      <td>9916</td>\n",
       "      <td>-6.79326</td>\n",
       "      <td>O=C(C[NH+]1CCN(c2ccnc(-c3nccs3)n2)CC1)Nc1ccccc1</td>\n",
       "      <td>&lt;rdkit.Chem.rdchem.Mol object at 0x00000203380...</td>\n",
       "      <td>381.485</td>\n",
       "      <td>NaN</td>\n",
       "    </tr>\n",
       "    <tr>\n",
       "      <th>7838</th>\n",
       "      <td>3140</td>\n",
       "      <td>-6.59504</td>\n",
       "      <td>CC1(C)C(C(=O)NC[C@H]2CCN(S(C)(=O)=O)C2)C1(C)C</td>\n",
       "      <td>&lt;rdkit.Chem.rdchem.Mol object at 0x00000203380...</td>\n",
       "      <td>302.440</td>\n",
       "      <td>NaN</td>\n",
       "    </tr>\n",
       "    <tr>\n",
       "      <th>2620</th>\n",
       "      <td>10065</td>\n",
       "      <td>-8.80331</td>\n",
       "      <td>Cn1nc(-c2ccc(F)cc2F)cc1NC(=O)N1CCCC2(CCOCC2)C1</td>\n",
       "      <td>&lt;rdkit.Chem.rdchem.Mol object at 0x00000203380...</td>\n",
       "      <td>390.434</td>\n",
       "      <td>NaN</td>\n",
       "    </tr>\n",
       "    <tr>\n",
       "      <th>6275</th>\n",
       "      <td>11390</td>\n",
       "      <td>-7.43208</td>\n",
       "      <td>O=C(CN1CCO[C@@H](c2cccc(F)c2)C1)Nc1nccs1</td>\n",
       "      <td>&lt;rdkit.Chem.rdchem.Mol object at 0x00000203380...</td>\n",
       "      <td>321.377</td>\n",
       "      <td>NaN</td>\n",
       "    </tr>\n",
       "    <tr>\n",
       "      <th>6484</th>\n",
       "      <td>6250</td>\n",
       "      <td>-7.34363</td>\n",
       "      <td>O=C([O-])[C@H]1CCCC[C@H]1C(=O)Nc1ccccc1F</td>\n",
       "      <td>&lt;rdkit.Chem.rdchem.Mol object at 0x00000203380...</td>\n",
       "      <td>264.276</td>\n",
       "      <td>0.000010</td>\n",
       "    </tr>\n",
       "    <tr>\n",
       "      <th>7213</th>\n",
       "      <td>1365</td>\n",
       "      <td>-6.98081</td>\n",
       "      <td>CCOC(=O)[C@H]1CSCCN1C(=O)c1csc(-c2ccccc2Cl)n1</td>\n",
       "      <td>&lt;rdkit.Chem.rdchem.Mol object at 0x00000203380...</td>\n",
       "      <td>396.921</td>\n",
       "      <td>0.000270</td>\n",
       "    </tr>\n",
       "    <tr>\n",
       "      <th>7237</th>\n",
       "      <td>7618</td>\n",
       "      <td>-6.96768</td>\n",
       "      <td>C[C@H]1C[C@H](NS(=O)(=O)c2cccc(N3C[C@H]4COC[C@...</td>\n",
       "      <td>&lt;rdkit.Chem.rdchem.Mol object at 0x00000203380...</td>\n",
       "      <td>337.445</td>\n",
       "      <td>0.000290</td>\n",
       "    </tr>\n",
       "    <tr>\n",
       "      <th>6186</th>\n",
       "      <td>20220</td>\n",
       "      <td>-7.47497</td>\n",
       "      <td>O=C1CCc2cc(C(=O)Nc3cc[nH]n3)ccc2N1</td>\n",
       "      <td>&lt;rdkit.Chem.rdchem.Mol object at 0x00000203380...</td>\n",
       "      <td>256.265</td>\n",
       "      <td>0.000318</td>\n",
       "    </tr>\n",
       "    <tr>\n",
       "      <th>7338</th>\n",
       "      <td>8281</td>\n",
       "      <td>-6.91154</td>\n",
       "      <td>COc1ccc(S(=O)(=O)N[C@H](C(=O)[O-])C(C)C)c2ccccc12</td>\n",
       "      <td>&lt;rdkit.Chem.rdchem.Mol object at 0x00000203380...</td>\n",
       "      <td>336.389</td>\n",
       "      <td>0.001007</td>\n",
       "    </tr>\n",
       "    <tr>\n",
       "      <th>6114</th>\n",
       "      <td>9418</td>\n",
       "      <td>-7.50798</td>\n",
       "      <td>Cn1nnc2cc(C(=O)N[C@@H]3CCOC(C)(C)C3)ccc21</td>\n",
       "      <td>&lt;rdkit.Chem.rdchem.Mol object at 0x00000203380...</td>\n",
       "      <td>288.351</td>\n",
       "      <td>0.001085</td>\n",
       "    </tr>\n",
       "    <tr>\n",
       "      <th>7477</th>\n",
       "      <td>4918</td>\n",
       "      <td>-6.83587</td>\n",
       "      <td>CCCOc1cn(-c2ccccc2)nc1C(=O)NC1CCN(c2nccs2)CC1</td>\n",
       "      <td>&lt;rdkit.Chem.rdchem.Mol object at 0x00000203380...</td>\n",
       "      <td>411.531</td>\n",
       "      <td>0.001098</td>\n",
       "    </tr>\n",
       "    <tr>\n",
       "      <th>6953</th>\n",
       "      <td>4526</td>\n",
       "      <td>-7.12381</td>\n",
       "      <td>Cc1ccccc1CNC(=O)c1cn(C)c(C)cc1=O</td>\n",
       "      <td>&lt;rdkit.Chem.rdchem.Mol object at 0x00000203380...</td>\n",
       "      <td>270.332</td>\n",
       "      <td>0.001694</td>\n",
       "    </tr>\n",
       "    <tr>\n",
       "      <th>6576</th>\n",
       "      <td>3615</td>\n",
       "      <td>-7.29897</td>\n",
       "      <td>Cc1noc(C)c1C(=O)NCc1cccc(C(=O)[O-])c1</td>\n",
       "      <td>&lt;rdkit.Chem.rdchem.Mol object at 0x00000203380...</td>\n",
       "      <td>273.268</td>\n",
       "      <td>0.002402</td>\n",
       "    </tr>\n",
       "    <tr>\n",
       "      <th>6550</th>\n",
       "      <td>14796</td>\n",
       "      <td>-7.31002</td>\n",
       "      <td>Cc1cc(C)cc(OCc2nc(-c3cccnc3)no2)c1</td>\n",
       "      <td>&lt;rdkit.Chem.rdchem.Mol object at 0x00000203380...</td>\n",
       "      <td>281.315</td>\n",
       "      <td>0.002604</td>\n",
       "    </tr>\n",
       "  </tbody>\n",
       "</table>\n",
       "</div>"
      ],
      "text/plain": [
       "            i_i_glide_lignum  r_i_docking_score  \\\n",
       "Unnamed: 0                                        \n",
       "4847                   11832           -8.01357   \n",
       "8273                    5420           -6.29522   \n",
       "3747                   13565           -8.40404   \n",
       "6437                    5495           -7.36197   \n",
       "6367                   19952           -7.39524   \n",
       "8206                    2993           -6.34753   \n",
       "7545                    9916           -6.79326   \n",
       "7838                    3140           -6.59504   \n",
       "2620                   10065           -8.80331   \n",
       "6275                   11390           -7.43208   \n",
       "6484                    6250           -7.34363   \n",
       "7213                    1365           -6.98081   \n",
       "7237                    7618           -6.96768   \n",
       "6186                   20220           -7.47497   \n",
       "7338                    8281           -6.91154   \n",
       "6114                    9418           -7.50798   \n",
       "7477                    4918           -6.83587   \n",
       "6953                    4526           -7.12381   \n",
       "6576                    3615           -7.29897   \n",
       "6550                   14796           -7.31002   \n",
       "\n",
       "                                                       SMILES  \\\n",
       "Unnamed: 0                                                      \n",
       "4847               O=C1CCC[C@@H](C(=O)Nc2cc(Cl)c(F)c(Cl)c2)N1   \n",
       "8273                  Cc1nsc(N2CCN(C(=O)C3(NC(N)=O)CC3)CC2)n1   \n",
       "3747            O=C(NCc1cn2cc(Cl)ccc2n1)[C@H]1CC12CC[NH2+]CC2   \n",
       "6437                  Cc1cncc(C(=O)N[C@H]2Cc3ccccc3[C@H]2N)c1   \n",
       "6367        COc1ccc(CN(C(=O)c2cc(S(=O)(=O)Nc3ccccc3F)c[nH]...   \n",
       "8206             Cc1c(Cl)c(C[NH+]2CCC(NC(=O)c3ccccc3)CC2)nn1C   \n",
       "7545          O=C(C[NH+]1CCN(c2ccnc(-c3nccs3)n2)CC1)Nc1ccccc1   \n",
       "7838            CC1(C)C(C(=O)NC[C@H]2CCN(S(C)(=O)=O)C2)C1(C)C   \n",
       "2620           Cn1nc(-c2ccc(F)cc2F)cc1NC(=O)N1CCCC2(CCOCC2)C1   \n",
       "6275                 O=C(CN1CCO[C@@H](c2cccc(F)c2)C1)Nc1nccs1   \n",
       "6484                 O=C([O-])[C@H]1CCCC[C@H]1C(=O)Nc1ccccc1F   \n",
       "7213            CCOC(=O)[C@H]1CSCCN1C(=O)c1csc(-c2ccccc2Cl)n1   \n",
       "7237        C[C@H]1C[C@H](NS(=O)(=O)c2cccc(N3C[C@H]4COC[C@...   \n",
       "6186                       O=C1CCc2cc(C(=O)Nc3cc[nH]n3)ccc2N1   \n",
       "7338        COc1ccc(S(=O)(=O)N[C@H](C(=O)[O-])C(C)C)c2ccccc12   \n",
       "6114                Cn1nnc2cc(C(=O)N[C@@H]3CCOC(C)(C)C3)ccc21   \n",
       "7477            CCCOc1cn(-c2ccccc2)nc1C(=O)NC1CCN(c2nccs2)CC1   \n",
       "6953                         Cc1ccccc1CNC(=O)c1cn(C)c(C)cc1=O   \n",
       "6576                    Cc1noc(C)c1C(=O)NCc1cccc(C(=O)[O-])c1   \n",
       "6550                       Cc1cc(C)cc(OCc2nc(-c3cccnc3)no2)c1   \n",
       "\n",
       "                                                    molecules    MolWt  \\\n",
       "Unnamed: 0                                                               \n",
       "4847        <rdkit.Chem.rdchem.Mol object at 0x00000203380...  305.136   \n",
       "8273        <rdkit.Chem.rdchem.Mol object at 0x00000203380...  310.383   \n",
       "3747        <rdkit.Chem.rdchem.Mol object at 0x00000203380...  319.816   \n",
       "6437        <rdkit.Chem.rdchem.Mol object at 0x00000203380...  267.332   \n",
       "6367        <rdkit.Chem.rdchem.Mol object at 0x00000203380...  443.500   \n",
       "8206        <rdkit.Chem.rdchem.Mol object at 0x00000203380...  347.870   \n",
       "7545        <rdkit.Chem.rdchem.Mol object at 0x00000203380...  381.485   \n",
       "7838        <rdkit.Chem.rdchem.Mol object at 0x00000203380...  302.440   \n",
       "2620        <rdkit.Chem.rdchem.Mol object at 0x00000203380...  390.434   \n",
       "6275        <rdkit.Chem.rdchem.Mol object at 0x00000203380...  321.377   \n",
       "6484        <rdkit.Chem.rdchem.Mol object at 0x00000203380...  264.276   \n",
       "7213        <rdkit.Chem.rdchem.Mol object at 0x00000203380...  396.921   \n",
       "7237        <rdkit.Chem.rdchem.Mol object at 0x00000203380...  337.445   \n",
       "6186        <rdkit.Chem.rdchem.Mol object at 0x00000203380...  256.265   \n",
       "7338        <rdkit.Chem.rdchem.Mol object at 0x00000203380...  336.389   \n",
       "6114        <rdkit.Chem.rdchem.Mol object at 0x00000203380...  288.351   \n",
       "7477        <rdkit.Chem.rdchem.Mol object at 0x00000203380...  411.531   \n",
       "6953        <rdkit.Chem.rdchem.Mol object at 0x00000203380...  270.332   \n",
       "6576        <rdkit.Chem.rdchem.Mol object at 0x00000203380...  273.268   \n",
       "6550        <rdkit.Chem.rdchem.Mol object at 0x00000203380...  281.315   \n",
       "\n",
       "              errors  \n",
       "Unnamed: 0            \n",
       "4847             NaN  \n",
       "8273             NaN  \n",
       "3747             NaN  \n",
       "6437             NaN  \n",
       "6367             NaN  \n",
       "8206             NaN  \n",
       "7545             NaN  \n",
       "7838             NaN  \n",
       "2620             NaN  \n",
       "6275             NaN  \n",
       "6484        0.000010  \n",
       "7213        0.000270  \n",
       "7237        0.000290  \n",
       "6186        0.000318  \n",
       "7338        0.001007  \n",
       "6114        0.001085  \n",
       "7477        0.001098  \n",
       "6953        0.001694  \n",
       "6576        0.002402  \n",
       "6550        0.002604  "
      ]
     },
     "execution_count": 68,
     "metadata": {},
     "output_type": "execute_result"
    }
   ],
   "source": [
    "df_sample_2"
   ]
  },
  {
   "cell_type": "code",
   "execution_count": 69,
   "metadata": {},
   "outputs": [],
   "source": [
    "# Remove selected points from data again\n",
    "data = data.drop(first_pool.index)"
   ]
  },
  {
   "cell_type": "code",
   "execution_count": 70,
   "metadata": {},
   "outputs": [],
   "source": [
    "featurizer = dc.feat.CircularFingerprint(size=1024)\n",
    "\n",
    "feat = featurizer\n",
    "X = feat.featurize(df_sample_2['molecules'])\n",
    "y = df_sample_2['r_i_docking_score'].to_numpy()\n",
    "ids = df_sample_2['SMILES']\n",
    "dataset = dc.data.NumpyDataset(X=X, y=y, ids=ids)"
   ]
  },
  {
   "cell_type": "code",
   "execution_count": 71,
   "metadata": {},
   "outputs": [
    {
     "data": {
      "text/plain": [
       "20"
      ]
     },
     "execution_count": 71,
     "metadata": {},
     "output_type": "execute_result"
    }
   ],
   "source": [
    "len(dataset.y)"
   ]
  },
  {
   "cell_type": "code",
   "execution_count": 72,
   "metadata": {},
   "outputs": [],
   "source": [
    "rf_model2 = RandomForestRegressor(random_state=57)\n",
    "model2 = SklearnModel(model=rf_model2)\n",
    "model2.fit(dataset)"
   ]
  },
  {
   "cell_type": "code",
   "execution_count": 73,
   "metadata": {},
   "outputs": [
    {
     "name": "stdout",
     "output_type": "stream",
     "text": [
      "RMSE   | 0.217\n",
      "R2     | 0.871\n",
      "MAE    | 0.149\n",
      "mean   | -7.28\n",
      "std    | 0.403\n"
     ]
    },
    {
     "data": {
      "image/png": "[encoded data removed]",
      "text/plain": [
       "<Figure size 640x480 with 1 Axes>"
      ]
     },
     "metadata": {},
     "output_type": "display_data"
    }
   ],
   "source": [
    "preds_tiny = model2.predict(dataset)\n",
    "plt.plot(dataset.y, dataset.y, label=\"True values\")\n",
    "plt.scatter(dataset.y, preds_tiny, label=\"Tiny preds\")\n",
    "plt.legend()\n",
    "utils.eval(model2, dataset)"
   ]
  },
  {
   "cell_type": "code",
   "execution_count": 74,
   "metadata": {},
   "outputs": [
    {
     "name": "stdout",
     "output_type": "stream",
     "text": [
      "RMSE   | 1.628\n",
      "R2     | -0.1\n",
      "MAE    | 1.328\n",
      "mean   | -7.23\n",
      "std    | 0.215\n"
     ]
    },
    {
     "data": {
      "image/png": "[encoded data removed]",
      "text/plain": [
       "<Figure size 640x480 with 1 Axes>"
      ]
     },
     "metadata": {},
     "output_type": "display_data"
    }
   ],
   "source": [
    "featurizer = dc.feat.CircularFingerprint(size=1024)\n",
    "\n",
    "feat = featurizer\n",
    "X = feat.featurize(data['molecules'])\n",
    "y = data['r_i_docking_score'].to_numpy()\n",
    "ids = data['SMILES']\n",
    "\n",
    "dataset = dc.data.NumpyDataset(X=X, y=y, ids=ids)\n",
    "\n",
    "preds_large = model2.predict(dataset)\n",
    "\n",
    "plt.plot(dataset.y, dataset.y, label=\"True values\")\n",
    "plt.scatter(dataset.y, preds_large, marker=\".\", label=\"Large preds\")\n",
    "plt.legend()\n",
    "utils.eval(model2, dataset)"
   ]
  },
  {
   "cell_type": "code",
   "execution_count": 75,
   "metadata": {},
   "outputs": [],
   "source": [
    "errors = np.abs(dataset.y - preds_large)\n",
    "data['errors'] = errors\n",
    "data = data.sort_values(by=\"errors\")\n",
    "second_pool = data.head(10)\n",
    "df_sample_3 = pd.concat([df_sample_2, second_pool])\n",
    "\n",
    "# Remove selected points from data again\n",
    "data = data.drop(second_pool.index)"
   ]
  },
  {
   "cell_type": "code",
   "execution_count": 76,
   "metadata": {},
   "outputs": [
    {
     "data": {
      "text/html": [
       "<div>\n",
       "<style scoped>\n",
       "    .dataframe tbody tr th:only-of-type {\n",
       "        vertical-align: middle;\n",
       "    }\n",
       "\n",
       "    .dataframe tbody tr th {\n",
       "        vertical-align: top;\n",
       "    }\n",
       "\n",
       "    .dataframe thead th {\n",
       "        text-align: right;\n",
       "    }\n",
       "</style>\n",
       "<table border=\"1\" class=\"dataframe\">\n",
       "  <thead>\n",
       "    <tr style=\"text-align: right;\">\n",
       "      <th></th>\n",
       "      <th>i_i_glide_lignum</th>\n",
       "      <th>r_i_docking_score</th>\n",
       "      <th>SMILES</th>\n",
       "      <th>molecules</th>\n",
       "      <th>MolWt</th>\n",
       "      <th>errors</th>\n",
       "    </tr>\n",
       "    <tr>\n",
       "      <th>Unnamed: 0</th>\n",
       "      <th></th>\n",
       "      <th></th>\n",
       "      <th></th>\n",
       "      <th></th>\n",
       "      <th></th>\n",
       "      <th></th>\n",
       "    </tr>\n",
       "  </thead>\n",
       "  <tbody>\n",
       "    <tr>\n",
       "      <th>4847</th>\n",
       "      <td>11832</td>\n",
       "      <td>-8.01357</td>\n",
       "      <td>O=C1CCC[C@@H](C(=O)Nc2cc(Cl)c(F)c(Cl)c2)N1</td>\n",
       "      <td>&lt;rdkit.Chem.rdchem.Mol object at 0x00000203380...</td>\n",
       "      <td>305.136</td>\n",
       "      <td>NaN</td>\n",
       "    </tr>\n",
       "    <tr>\n",
       "      <th>8273</th>\n",
       "      <td>5420</td>\n",
       "      <td>-6.29522</td>\n",
       "      <td>Cc1nsc(N2CCN(C(=O)C3(NC(N)=O)CC3)CC2)n1</td>\n",
       "      <td>&lt;rdkit.Chem.rdchem.Mol object at 0x00000203380...</td>\n",
       "      <td>310.383</td>\n",
       "      <td>NaN</td>\n",
       "    </tr>\n",
       "    <tr>\n",
       "      <th>3747</th>\n",
       "      <td>13565</td>\n",
       "      <td>-8.40404</td>\n",
       "      <td>O=C(NCc1cn2cc(Cl)ccc2n1)[C@H]1CC12CC[NH2+]CC2</td>\n",
       "      <td>&lt;rdkit.Chem.rdchem.Mol object at 0x00000203380...</td>\n",
       "      <td>319.816</td>\n",
       "      <td>NaN</td>\n",
       "    </tr>\n",
       "    <tr>\n",
       "      <th>6437</th>\n",
       "      <td>5495</td>\n",
       "      <td>-7.36197</td>\n",
       "      <td>Cc1cncc(C(=O)N[C@H]2Cc3ccccc3[C@H]2N)c1</td>\n",
       "      <td>&lt;rdkit.Chem.rdchem.Mol object at 0x00000203380...</td>\n",
       "      <td>267.332</td>\n",
       "      <td>NaN</td>\n",
       "    </tr>\n",
       "    <tr>\n",
       "      <th>6367</th>\n",
       "      <td>19952</td>\n",
       "      <td>-7.39524</td>\n",
       "      <td>COc1ccc(CN(C(=O)c2cc(S(=O)(=O)Nc3ccccc3F)c[nH]...</td>\n",
       "      <td>&lt;rdkit.Chem.rdchem.Mol object at 0x00000203380...</td>\n",
       "      <td>443.500</td>\n",
       "      <td>NaN</td>\n",
       "    </tr>\n",
       "    <tr>\n",
       "      <th>8206</th>\n",
       "      <td>2993</td>\n",
       "      <td>-6.34753</td>\n",
       "      <td>Cc1c(Cl)c(C[NH+]2CCC(NC(=O)c3ccccc3)CC2)nn1C</td>\n",
       "      <td>&lt;rdkit.Chem.rdchem.Mol object at 0x00000203380...</td>\n",
       "      <td>347.870</td>\n",
       "      <td>NaN</td>\n",
       "    </tr>\n",
       "    <tr>\n",
       "      <th>7545</th>\n",
       "      <td>9916</td>\n",
       "      <td>-6.79326</td>\n",
       "      <td>O=C(C[NH+]1CCN(c2ccnc(-c3nccs3)n2)CC1)Nc1ccccc1</td>\n",
       "      <td>&lt;rdkit.Chem.rdchem.Mol object at 0x00000203380...</td>\n",
       "      <td>381.485</td>\n",
       "      <td>NaN</td>\n",
       "    </tr>\n",
       "    <tr>\n",
       "      <th>7838</th>\n",
       "      <td>3140</td>\n",
       "      <td>-6.59504</td>\n",
       "      <td>CC1(C)C(C(=O)NC[C@H]2CCN(S(C)(=O)=O)C2)C1(C)C</td>\n",
       "      <td>&lt;rdkit.Chem.rdchem.Mol object at 0x00000203380...</td>\n",
       "      <td>302.440</td>\n",
       "      <td>NaN</td>\n",
       "    </tr>\n",
       "    <tr>\n",
       "      <th>2620</th>\n",
       "      <td>10065</td>\n",
       "      <td>-8.80331</td>\n",
       "      <td>Cn1nc(-c2ccc(F)cc2F)cc1NC(=O)N1CCCC2(CCOCC2)C1</td>\n",
       "      <td>&lt;rdkit.Chem.rdchem.Mol object at 0x00000203380...</td>\n",
       "      <td>390.434</td>\n",
       "      <td>NaN</td>\n",
       "    </tr>\n",
       "    <tr>\n",
       "      <th>6275</th>\n",
       "      <td>11390</td>\n",
       "      <td>-7.43208</td>\n",
       "      <td>O=C(CN1CCO[C@@H](c2cccc(F)c2)C1)Nc1nccs1</td>\n",
       "      <td>&lt;rdkit.Chem.rdchem.Mol object at 0x00000203380...</td>\n",
       "      <td>321.377</td>\n",
       "      <td>NaN</td>\n",
       "    </tr>\n",
       "    <tr>\n",
       "      <th>6484</th>\n",
       "      <td>6250</td>\n",
       "      <td>-7.34363</td>\n",
       "      <td>O=C([O-])[C@H]1CCCC[C@H]1C(=O)Nc1ccccc1F</td>\n",
       "      <td>&lt;rdkit.Chem.rdchem.Mol object at 0x00000203380...</td>\n",
       "      <td>264.276</td>\n",
       "      <td>0.000010</td>\n",
       "    </tr>\n",
       "    <tr>\n",
       "      <th>7213</th>\n",
       "      <td>1365</td>\n",
       "      <td>-6.98081</td>\n",
       "      <td>CCOC(=O)[C@H]1CSCCN1C(=O)c1csc(-c2ccccc2Cl)n1</td>\n",
       "      <td>&lt;rdkit.Chem.rdchem.Mol object at 0x00000203380...</td>\n",
       "      <td>396.921</td>\n",
       "      <td>0.000270</td>\n",
       "    </tr>\n",
       "    <tr>\n",
       "      <th>7237</th>\n",
       "      <td>7618</td>\n",
       "      <td>-6.96768</td>\n",
       "      <td>C[C@H]1C[C@H](NS(=O)(=O)c2cccc(N3C[C@H]4COC[C@...</td>\n",
       "      <td>&lt;rdkit.Chem.rdchem.Mol object at 0x00000203380...</td>\n",
       "      <td>337.445</td>\n",
       "      <td>0.000290</td>\n",
       "    </tr>\n",
       "    <tr>\n",
       "      <th>6186</th>\n",
       "      <td>20220</td>\n",
       "      <td>-7.47497</td>\n",
       "      <td>O=C1CCc2cc(C(=O)Nc3cc[nH]n3)ccc2N1</td>\n",
       "      <td>&lt;rdkit.Chem.rdchem.Mol object at 0x00000203380...</td>\n",
       "      <td>256.265</td>\n",
       "      <td>0.000318</td>\n",
       "    </tr>\n",
       "    <tr>\n",
       "      <th>7338</th>\n",
       "      <td>8281</td>\n",
       "      <td>-6.91154</td>\n",
       "      <td>COc1ccc(S(=O)(=O)N[C@H](C(=O)[O-])C(C)C)c2ccccc12</td>\n",
       "      <td>&lt;rdkit.Chem.rdchem.Mol object at 0x00000203380...</td>\n",
       "      <td>336.389</td>\n",
       "      <td>0.001007</td>\n",
       "    </tr>\n",
       "    <tr>\n",
       "      <th>6114</th>\n",
       "      <td>9418</td>\n",
       "      <td>-7.50798</td>\n",
       "      <td>Cn1nnc2cc(C(=O)N[C@@H]3CCOC(C)(C)C3)ccc21</td>\n",
       "      <td>&lt;rdkit.Chem.rdchem.Mol object at 0x00000203380...</td>\n",
       "      <td>288.351</td>\n",
       "      <td>0.001085</td>\n",
       "    </tr>\n",
       "    <tr>\n",
       "      <th>7477</th>\n",
       "      <td>4918</td>\n",
       "      <td>-6.83587</td>\n",
       "      <td>CCCOc1cn(-c2ccccc2)nc1C(=O)NC1CCN(c2nccs2)CC1</td>\n",
       "      <td>&lt;rdkit.Chem.rdchem.Mol object at 0x00000203380...</td>\n",
       "      <td>411.531</td>\n",
       "      <td>0.001098</td>\n",
       "    </tr>\n",
       "    <tr>\n",
       "      <th>6953</th>\n",
       "      <td>4526</td>\n",
       "      <td>-7.12381</td>\n",
       "      <td>Cc1ccccc1CNC(=O)c1cn(C)c(C)cc1=O</td>\n",
       "      <td>&lt;rdkit.Chem.rdchem.Mol object at 0x00000203380...</td>\n",
       "      <td>270.332</td>\n",
       "      <td>0.001694</td>\n",
       "    </tr>\n",
       "    <tr>\n",
       "      <th>6576</th>\n",
       "      <td>3615</td>\n",
       "      <td>-7.29897</td>\n",
       "      <td>Cc1noc(C)c1C(=O)NCc1cccc(C(=O)[O-])c1</td>\n",
       "      <td>&lt;rdkit.Chem.rdchem.Mol object at 0x00000203380...</td>\n",
       "      <td>273.268</td>\n",
       "      <td>0.002402</td>\n",
       "    </tr>\n",
       "    <tr>\n",
       "      <th>6550</th>\n",
       "      <td>14796</td>\n",
       "      <td>-7.31002</td>\n",
       "      <td>Cc1cc(C)cc(OCc2nc(-c3cccnc3)no2)c1</td>\n",
       "      <td>&lt;rdkit.Chem.rdchem.Mol object at 0x00000203380...</td>\n",
       "      <td>281.315</td>\n",
       "      <td>0.002604</td>\n",
       "    </tr>\n",
       "    <tr>\n",
       "      <th>6537</th>\n",
       "      <td>726</td>\n",
       "      <td>-7.31653</td>\n",
       "      <td>CCOC(=O)NC1CCN(C(=O)c2cc(C)nc3c2c(=O)[nH]n3C)CC1</td>\n",
       "      <td>&lt;rdkit.Chem.rdchem.Mol object at 0x00000203380...</td>\n",
       "      <td>361.402</td>\n",
       "      <td>0.000166</td>\n",
       "    </tr>\n",
       "    <tr>\n",
       "      <th>6394</th>\n",
       "      <td>5794</td>\n",
       "      <td>-7.38191</td>\n",
       "      <td>Cc1nccn1-c1ccnc(C(=O)NCCc2ccc3c(c2)OCCO3)c1</td>\n",
       "      <td>&lt;rdkit.Chem.rdchem.Mol object at 0x00000203380...</td>\n",
       "      <td>364.405</td>\n",
       "      <td>0.000268</td>\n",
       "    </tr>\n",
       "    <tr>\n",
       "      <th>7028</th>\n",
       "      <td>17996</td>\n",
       "      <td>-7.07575</td>\n",
       "      <td>C[C@@](O)(CNC(=O)c1csc2cncn12)C(F)(F)F</td>\n",
       "      <td>&lt;rdkit.Chem.rdchem.Mol object at 0x00000203380...</td>\n",
       "      <td>293.270</td>\n",
       "      <td>0.000719</td>\n",
       "    </tr>\n",
       "    <tr>\n",
       "      <th>7081</th>\n",
       "      <td>981</td>\n",
       "      <td>-7.04955</td>\n",
       "      <td>COC(=O)COCC(=O)N[C@H]1C[C@@H](C)Oc2ccccc21</td>\n",
       "      <td>&lt;rdkit.Chem.rdchem.Mol object at 0x00000203380...</td>\n",
       "      <td>293.319</td>\n",
       "      <td>0.000789</td>\n",
       "    </tr>\n",
       "    <tr>\n",
       "      <th>7027</th>\n",
       "      <td>16124</td>\n",
       "      <td>-7.07689</td>\n",
       "      <td>O=C([O-])CNC(=O)c1ccc(NC(=O)C[C@H]2C=CCC2)cc1</td>\n",
       "      <td>&lt;rdkit.Chem.rdchem.Mol object at 0x00000203380...</td>\n",
       "      <td>301.322</td>\n",
       "      <td>0.000840</td>\n",
       "    </tr>\n",
       "    <tr>\n",
       "      <th>6915</th>\n",
       "      <td>2391</td>\n",
       "      <td>-7.14225</td>\n",
       "      <td>CC(=O)N1CCN(C(=O)Nc2ccn(-c3ncccc3C(F)(F)F)n2)[...</td>\n",
       "      <td>&lt;rdkit.Chem.rdchem.Mol object at 0x00000203380...</td>\n",
       "      <td>396.373</td>\n",
       "      <td>0.001287</td>\n",
       "    </tr>\n",
       "    <tr>\n",
       "      <th>6970</th>\n",
       "      <td>3502</td>\n",
       "      <td>-7.11440</td>\n",
       "      <td>CC(=O)N(C)CC(=O)N1CCCc2c1ccc1c2ncn1C</td>\n",
       "      <td>&lt;rdkit.Chem.rdchem.Mol object at 0x00000203380...</td>\n",
       "      <td>300.362</td>\n",
       "      <td>0.001485</td>\n",
       "    </tr>\n",
       "    <tr>\n",
       "      <th>7180</th>\n",
       "      <td>5292</td>\n",
       "      <td>-7.00162</td>\n",
       "      <td>Cn1nccc1C(=O)NCCc1cnn(-c2ccccc2)c1</td>\n",
       "      <td>&lt;rdkit.Chem.rdchem.Mol object at 0x00000203380...</td>\n",
       "      <td>295.346</td>\n",
       "      <td>0.001528</td>\n",
       "    </tr>\n",
       "    <tr>\n",
       "      <th>7200</th>\n",
       "      <td>2139</td>\n",
       "      <td>-6.99068</td>\n",
       "      <td>CC(C)C[C@H]1COCCN1C(=O)Nc1cnns1</td>\n",
       "      <td>&lt;rdkit.Chem.rdchem.Mol object at 0x00000203380...</td>\n",
       "      <td>270.358</td>\n",
       "      <td>0.001789</td>\n",
       "    </tr>\n",
       "    <tr>\n",
       "      <th>6644</th>\n",
       "      <td>9211</td>\n",
       "      <td>-7.26797</td>\n",
       "      <td>O=C(NC1(c2ncccn2)CCOCC1)c1ccncc1</td>\n",
       "      <td>&lt;rdkit.Chem.rdchem.Mol object at 0x00000203380...</td>\n",
       "      <td>284.319</td>\n",
       "      <td>0.001891</td>\n",
       "    </tr>\n",
       "  </tbody>\n",
       "</table>\n",
       "</div>"
      ],
      "text/plain": [
       "            i_i_glide_lignum  r_i_docking_score  \\\n",
       "Unnamed: 0                                        \n",
       "4847                   11832           -8.01357   \n",
       "8273                    5420           -6.29522   \n",
       "3747                   13565           -8.40404   \n",
       "6437                    5495           -7.36197   \n",
       "6367                   19952           -7.39524   \n",
       "8206                    2993           -6.34753   \n",
       "7545                    9916           -6.79326   \n",
       "7838                    3140           -6.59504   \n",
       "2620                   10065           -8.80331   \n",
       "6275                   11390           -7.43208   \n",
       "6484                    6250           -7.34363   \n",
       "7213                    1365           -6.98081   \n",
       "7237                    7618           -6.96768   \n",
       "6186                   20220           -7.47497   \n",
       "7338                    8281           -6.91154   \n",
       "6114                    9418           -7.50798   \n",
       "7477                    4918           -6.83587   \n",
       "6953                    4526           -7.12381   \n",
       "6576                    3615           -7.29897   \n",
       "6550                   14796           -7.31002   \n",
       "6537                     726           -7.31653   \n",
       "6394                    5794           -7.38191   \n",
       "7028                   17996           -7.07575   \n",
       "7081                     981           -7.04955   \n",
       "7027                   16124           -7.07689   \n",
       "6915                    2391           -7.14225   \n",
       "6970                    3502           -7.11440   \n",
       "7180                    5292           -7.00162   \n",
       "7200                    2139           -6.99068   \n",
       "6644                    9211           -7.26797   \n",
       "\n",
       "                                                       SMILES  \\\n",
       "Unnamed: 0                                                      \n",
       "4847               O=C1CCC[C@@H](C(=O)Nc2cc(Cl)c(F)c(Cl)c2)N1   \n",
       "8273                  Cc1nsc(N2CCN(C(=O)C3(NC(N)=O)CC3)CC2)n1   \n",
       "3747            O=C(NCc1cn2cc(Cl)ccc2n1)[C@H]1CC12CC[NH2+]CC2   \n",
       "6437                  Cc1cncc(C(=O)N[C@H]2Cc3ccccc3[C@H]2N)c1   \n",
       "6367        COc1ccc(CN(C(=O)c2cc(S(=O)(=O)Nc3ccccc3F)c[nH]...   \n",
       "8206             Cc1c(Cl)c(C[NH+]2CCC(NC(=O)c3ccccc3)CC2)nn1C   \n",
       "7545          O=C(C[NH+]1CCN(c2ccnc(-c3nccs3)n2)CC1)Nc1ccccc1   \n",
       "7838            CC1(C)C(C(=O)NC[C@H]2CCN(S(C)(=O)=O)C2)C1(C)C   \n",
       "2620           Cn1nc(-c2ccc(F)cc2F)cc1NC(=O)N1CCCC2(CCOCC2)C1   \n",
       "6275                 O=C(CN1CCO[C@@H](c2cccc(F)c2)C1)Nc1nccs1   \n",
       "6484                 O=C([O-])[C@H]1CCCC[C@H]1C(=O)Nc1ccccc1F   \n",
       "7213            CCOC(=O)[C@H]1CSCCN1C(=O)c1csc(-c2ccccc2Cl)n1   \n",
       "7237        C[C@H]1C[C@H](NS(=O)(=O)c2cccc(N3C[C@H]4COC[C@...   \n",
       "6186                       O=C1CCc2cc(C(=O)Nc3cc[nH]n3)ccc2N1   \n",
       "7338        COc1ccc(S(=O)(=O)N[C@H](C(=O)[O-])C(C)C)c2ccccc12   \n",
       "6114                Cn1nnc2cc(C(=O)N[C@@H]3CCOC(C)(C)C3)ccc21   \n",
       "7477            CCCOc1cn(-c2ccccc2)nc1C(=O)NC1CCN(c2nccs2)CC1   \n",
       "6953                         Cc1ccccc1CNC(=O)c1cn(C)c(C)cc1=O   \n",
       "6576                    Cc1noc(C)c1C(=O)NCc1cccc(C(=O)[O-])c1   \n",
       "6550                       Cc1cc(C)cc(OCc2nc(-c3cccnc3)no2)c1   \n",
       "6537         CCOC(=O)NC1CCN(C(=O)c2cc(C)nc3c2c(=O)[nH]n3C)CC1   \n",
       "6394              Cc1nccn1-c1ccnc(C(=O)NCCc2ccc3c(c2)OCCO3)c1   \n",
       "7028                   C[C@@](O)(CNC(=O)c1csc2cncn12)C(F)(F)F   \n",
       "7081               COC(=O)COCC(=O)N[C@H]1C[C@@H](C)Oc2ccccc21   \n",
       "7027            O=C([O-])CNC(=O)c1ccc(NC(=O)C[C@H]2C=CCC2)cc1   \n",
       "6915        CC(=O)N1CCN(C(=O)Nc2ccn(-c3ncccc3C(F)(F)F)n2)[...   \n",
       "6970                     CC(=O)N(C)CC(=O)N1CCCc2c1ccc1c2ncn1C   \n",
       "7180                       Cn1nccc1C(=O)NCCc1cnn(-c2ccccc2)c1   \n",
       "7200                          CC(C)C[C@H]1COCCN1C(=O)Nc1cnns1   \n",
       "6644                         O=C(NC1(c2ncccn2)CCOCC1)c1ccncc1   \n",
       "\n",
       "                                                    molecules    MolWt  \\\n",
       "Unnamed: 0                                                               \n",
       "4847        <rdkit.Chem.rdchem.Mol object at 0x00000203380...  305.136   \n",
       "8273        <rdkit.Chem.rdchem.Mol object at 0x00000203380...  310.383   \n",
       "3747        <rdkit.Chem.rdchem.Mol object at 0x00000203380...  319.816   \n",
       "6437        <rdkit.Chem.rdchem.Mol object at 0x00000203380...  267.332   \n",
       "6367        <rdkit.Chem.rdchem.Mol object at 0x00000203380...  443.500   \n",
       "8206        <rdkit.Chem.rdchem.Mol object at 0x00000203380...  347.870   \n",
       "7545        <rdkit.Chem.rdchem.Mol object at 0x00000203380...  381.485   \n",
       "7838        <rdkit.Chem.rdchem.Mol object at 0x00000203380...  302.440   \n",
       "2620        <rdkit.Chem.rdchem.Mol object at 0x00000203380...  390.434   \n",
       "6275        <rdkit.Chem.rdchem.Mol object at 0x00000203380...  321.377   \n",
       "6484        <rdkit.Chem.rdchem.Mol object at 0x00000203380...  264.276   \n",
       "7213        <rdkit.Chem.rdchem.Mol object at 0x00000203380...  396.921   \n",
       "7237        <rdkit.Chem.rdchem.Mol object at 0x00000203380...  337.445   \n",
       "6186        <rdkit.Chem.rdchem.Mol object at 0x00000203380...  256.265   \n",
       "7338        <rdkit.Chem.rdchem.Mol object at 0x00000203380...  336.389   \n",
       "6114        <rdkit.Chem.rdchem.Mol object at 0x00000203380...  288.351   \n",
       "7477        <rdkit.Chem.rdchem.Mol object at 0x00000203380...  411.531   \n",
       "6953        <rdkit.Chem.rdchem.Mol object at 0x00000203380...  270.332   \n",
       "6576        <rdkit.Chem.rdchem.Mol object at 0x00000203380...  273.268   \n",
       "6550        <rdkit.Chem.rdchem.Mol object at 0x00000203380...  281.315   \n",
       "6537        <rdkit.Chem.rdchem.Mol object at 0x00000203380...  361.402   \n",
       "6394        <rdkit.Chem.rdchem.Mol object at 0x00000203380...  364.405   \n",
       "7028        <rdkit.Chem.rdchem.Mol object at 0x00000203380...  293.270   \n",
       "7081        <rdkit.Chem.rdchem.Mol object at 0x00000203380...  293.319   \n",
       "7027        <rdkit.Chem.rdchem.Mol object at 0x00000203380...  301.322   \n",
       "6915        <rdkit.Chem.rdchem.Mol object at 0x00000203380...  396.373   \n",
       "6970        <rdkit.Chem.rdchem.Mol object at 0x00000203380...  300.362   \n",
       "7180        <rdkit.Chem.rdchem.Mol object at 0x00000203380...  295.346   \n",
       "7200        <rdkit.Chem.rdchem.Mol object at 0x00000203380...  270.358   \n",
       "6644        <rdkit.Chem.rdchem.Mol object at 0x00000203380...  284.319   \n",
       "\n",
       "              errors  \n",
       "Unnamed: 0            \n",
       "4847             NaN  \n",
       "8273             NaN  \n",
       "3747             NaN  \n",
       "6437             NaN  \n",
       "6367             NaN  \n",
       "8206             NaN  \n",
       "7545             NaN  \n",
       "7838             NaN  \n",
       "2620             NaN  \n",
       "6275             NaN  \n",
       "6484        0.000010  \n",
       "7213        0.000270  \n",
       "7237        0.000290  \n",
       "6186        0.000318  \n",
       "7338        0.001007  \n",
       "6114        0.001085  \n",
       "7477        0.001098  \n",
       "6953        0.001694  \n",
       "6576        0.002402  \n",
       "6550        0.002604  \n",
       "6537        0.000166  \n",
       "6394        0.000268  \n",
       "7028        0.000719  \n",
       "7081        0.000789  \n",
       "7027        0.000840  \n",
       "6915        0.001287  \n",
       "6970        0.001485  \n",
       "7180        0.001528  \n",
       "7200        0.001789  \n",
       "6644        0.001891  "
      ]
     },
     "execution_count": 76,
     "metadata": {},
     "output_type": "execute_result"
    }
   ],
   "source": [
    "df_sample_3"
   ]
  },
  {
   "cell_type": "code",
   "execution_count": 77,
   "metadata": {},
   "outputs": [],
   "source": [
    "featurizer = dc.feat.CircularFingerprint(size=1024)\n",
    "\n",
    "feat = featurizer\n",
    "X = feat.featurize(df_sample_3['molecules'])\n",
    "y = df_sample_3['r_i_docking_score'].to_numpy()\n",
    "ids = df_sample_3['SMILES']\n",
    "dataset = dc.data.NumpyDataset(X=X, y=y, ids=ids)"
   ]
  },
  {
   "cell_type": "code",
   "execution_count": 78,
   "metadata": {},
   "outputs": [],
   "source": [
    "rf_model3 = RandomForestRegressor(random_state=57)\n",
    "model3 = SklearnModel(model=rf_model3)\n",
    "model3.fit(dataset)"
   ]
  },
  {
   "cell_type": "code",
   "execution_count": 79,
   "metadata": {},
   "outputs": [
    {
     "name": "stdout",
     "output_type": "stream",
     "text": [
      "RMSE   | 0.158\n",
      "R2     | 0.901\n",
      "MAE    | 0.097\n",
      "mean   | -7.225\n",
      "std    | 0.368\n"
     ]
    },
    {
     "data": {
      "image/png": "[encoded data removed]",
      "text/plain": [
       "<Figure size 640x480 with 1 Axes>"
      ]
     },
     "metadata": {},
     "output_type": "display_data"
    }
   ],
   "source": [
    "preds_tiny = model3.predict(dataset)\n",
    "plt.plot(dataset.y, dataset.y, label=\"True values\")\n",
    "plt.scatter(dataset.y, preds_tiny, label=\"Tiny preds\")\n",
    "plt.legend()\n",
    "utils.eval(model3, dataset)"
   ]
  },
  {
   "cell_type": "code",
   "execution_count": 80,
   "metadata": {},
   "outputs": [
    {
     "name": "stdout",
     "output_type": "stream",
     "text": [
      "RMSE   | 1.627\n",
      "R2     | -0.098\n",
      "MAE    | 1.329\n",
      "mean   | -7.23\n",
      "std    | 0.217\n"
     ]
    },
    {
     "data": {
      "image/png": "[encoded data removed]",
      "text/plain": [
       "<Figure size 640x480 with 1 Axes>"
      ]
     },
     "metadata": {},
     "output_type": "display_data"
    }
   ],
   "source": [
    "featurizer = dc.feat.CircularFingerprint(size=1024)\n",
    "\n",
    "feat = featurizer\n",
    "X = feat.featurize(data['molecules'])\n",
    "y = data['r_i_docking_score'].to_numpy()\n",
    "ids = data['SMILES']\n",
    "\n",
    "dataset = dc.data.NumpyDataset(X=X, y=y, ids=ids)\n",
    "\n",
    "preds_large = model3.predict(dataset)\n",
    "\n",
    "plt.plot(dataset.y, dataset.y, label=\"True values\")\n",
    "plt.scatter(dataset.y, preds_large, marker=\".\", label=\"Large preds\")\n",
    "plt.legend()\n",
    "utils.eval(model3, dataset)"
   ]
  },
  {
   "attachments": {},
   "cell_type": "markdown",
   "metadata": {},
   "source": [
    "## Third time"
   ]
  },
  {
   "cell_type": "code",
   "execution_count": 81,
   "metadata": {},
   "outputs": [],
   "source": [
    "errors = np.abs(dataset.y - preds_large)\n",
    "data['errors'] = errors\n",
    "data = data.sort_values(by=\"errors\")\n",
    "third_pool = data.head(10)\n",
    "df_sample_4 = pd.concat([df_sample_3, third_pool])\n",
    "\n",
    "# Remove selected points from data again\n",
    "data = data.drop(third_pool.index)"
   ]
  },
  {
   "cell_type": "code",
   "execution_count": 82,
   "metadata": {},
   "outputs": [],
   "source": [
    "featurizer = dc.feat.CircularFingerprint(size=1024)\n",
    "\n",
    "feat = featurizer\n",
    "X = feat.featurize(df_sample_4['molecules'])\n",
    "y = df_sample_4['r_i_docking_score'].to_numpy()\n",
    "ids = df_sample_4['SMILES']\n",
    "dataset = dc.data.NumpyDataset(X=X, y=y, ids=ids)"
   ]
  },
  {
   "cell_type": "code",
   "execution_count": 83,
   "metadata": {},
   "outputs": [],
   "source": [
    "rf_model4 = RandomForestRegressor(random_state=57)\n",
    "model4 = SklearnModel(model=rf_model4)\n",
    "model4.fit(dataset)"
   ]
  },
  {
   "cell_type": "code",
   "execution_count": 84,
   "metadata": {},
   "outputs": [
    {
     "name": "stdout",
     "output_type": "stream",
     "text": [
      "RMSE   | 0.143\n",
      "R2     | 0.897\n",
      "MAE    | 0.078\n",
      "mean   | -7.191\n",
      "std    | 0.321\n"
     ]
    },
    {
     "data": {
      "image/png": "[encoded data removed]",
      "text/plain": [
       "<Figure size 640x480 with 1 Axes>"
      ]
     },
     "metadata": {},
     "output_type": "display_data"
    }
   ],
   "source": [
    "preds_tiny = model4.predict(dataset)\n",
    "plt.plot(dataset.y, dataset.y, label=\"True values\")\n",
    "plt.scatter(dataset.y, preds_tiny, label=\"Tiny preds\")\n",
    "plt.legend()\n",
    "utils.eval(model4, dataset)"
   ]
  },
  {
   "cell_type": "code",
   "execution_count": 85,
   "metadata": {},
   "outputs": [
    {
     "name": "stdout",
     "output_type": "stream",
     "text": [
      "RMSE   | 1.637\n",
      "R2     | -0.11\n",
      "MAE    | 1.339\n",
      "mean   | -7.215\n",
      "std    | 0.203\n"
     ]
    },
    {
     "data": {
      "image/png": "[encoded data removed]",
      "text/plain": [
       "<Figure size 640x480 with 1 Axes>"
      ]
     },
     "metadata": {},
     "output_type": "display_data"
    }
   ],
   "source": [
    "featurizer = dc.feat.CircularFingerprint(size=1024)\n",
    "\n",
    "feat = featurizer\n",
    "X = feat.featurize(data['molecules'])\n",
    "y = data['r_i_docking_score'].to_numpy()\n",
    "ids = data['SMILES']\n",
    "\n",
    "dataset = dc.data.NumpyDataset(X=X, y=y, ids=ids)\n",
    "\n",
    "preds_large = model4.predict(dataset)\n",
    "\n",
    "plt.plot(dataset.y, dataset.y, label=\"True values\")\n",
    "plt.scatter(dataset.y, preds_large, marker=\".\", label=\"Large preds\")\n",
    "plt.legend()\n",
    "utils.eval(model4, dataset)"
   ]
  }
 ],
 "metadata": {
  "kernelspec": {
   "display_name": "Python 3",
   "language": "python",
   "name": "python3"
  },
  "language_info": {
   "codemirror_mode": {
    "name": "ipython",
    "version": 3
   },
   "file_extension": ".py",
   "mimetype": "text/x-python",
   "name": "python",
   "nbconvert_exporter": "python",
   "pygments_lexer": "ipython3",
   "version": "3.8.10"
  },
  "orig_nbformat": 4
 },
 "nbformat": 4,
 "nbformat_minor": 2
}

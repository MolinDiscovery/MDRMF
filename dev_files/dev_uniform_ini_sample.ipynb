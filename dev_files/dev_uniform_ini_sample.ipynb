{
 "cells": [
  {
   "cell_type": "code",
   "execution_count": 1,
   "metadata": {},
   "outputs": [],
   "source": [
    "from MDRMF.experimenter import Experimenter\n",
    "from MDRMF.dataset import Dataset"
   ]
  },
  {
   "cell_type": "code",
   "execution_count": 2,
   "metadata": {},
   "outputs": [],
   "source": [
    "experiment = Experimenter(\"test.yaml\")"
   ]
  },
  {
   "cell_type": "code",
   "execution_count": 3,
   "metadata": {},
   "outputs": [
    {
     "name": "stdout",
     "output_type": "stream",
     "text": [
      "Uniform Indices: [   2 6233 7442 6885 3182 3707 3293 7582 8846 7881]\n",
      "Running Experiment Exp01 replicate 1\n",
      "y values of starting points [-12.487    -7.44892  -6.855    -7.15528  -8.61168  -8.41895  -8.56815\n",
      "  -6.76601  -5.77985  -6.56089]\n",
      "Iteration 1, Results: {'top-100 model': 0.04, 'top-100 acquired': 0.03}\n",
      "Iteration 2, Results: {'top-100 model': 0.05, 'top-100 acquired': 0.04}\n",
      "Iteration 3, Results: {'top-100 model': 0.05, 'top-100 acquired': 0.04}\n",
      "Iteration 4, Results: {'top-100 model': 0.08, 'top-100 acquired': 0.04}\n",
      "Iteration 5, Results: {'top-100 model': 0.08, 'top-100 acquired': 0.05}\n",
      "Iteration 6, Results: {'top-100 model': 0.1, 'top-100 acquired': 0.06}\n",
      "Iteration 7, Results: {'top-100 model': 0.09, 'top-100 acquired': 0.07}\n",
      "Iteration 8, Results: {'top-100 model': 0.09, 'top-100 acquired': 0.07}\n",
      "Iteration 9, Results: {'top-100 model': 0.15, 'top-100 acquired': 0.08}\n",
      "Iteration 10, Results: {'top-100 model': 0.13, 'top-100 acquired': 0.11}\n",
      "Iteration 11, Results: {'top-100 model': 0.11, 'top-100 acquired': 0.11}\n",
      "Iteration 12, Results: {'top-100 model': 0.14, 'top-100 acquired': 0.11}\n",
      "Iteration 13, Results: {'top-100 model': 0.14, 'top-100 acquired': 0.11}\n",
      "Iteration 14, Results: {'top-100 model': 0.18, 'top-100 acquired': 0.12}\n",
      "Iteration 15, Results: {'top-100 model': 0.2, 'top-100 acquired': 0.14}\n",
      "Iteration 16, Results: {'top-100 model': 0.2, 'top-100 acquired': 0.15}\n",
      "Iteration 17, Results: {'top-100 model': 0.19, 'top-100 acquired': 0.19}\n",
      "Iteration 18, Results: {'top-100 model': 0.22, 'top-100 acquired': 0.19}\n",
      "Iteration 19, Results: {'top-100 model': 0.21, 'top-100 acquired': 0.19}\n",
      "Iteration 20, Results: {'top-100 model': 0.21, 'top-100 acquired': 0.2}\n",
      "Running Experiment Exp01 replicate 2\n",
      "y values of starting points [-12.487    -7.44892  -6.855    -7.15528  -8.61168  -8.41895  -8.56815\n",
      "  -6.76601  -5.77985  -6.56089]\n",
      "Iteration 1, Results: {'top-100 model': 0.06, 'top-100 acquired': 0.04}\n",
      "Iteration 2, Results: {'top-100 model': 0.05, 'top-100 acquired': 0.04}\n",
      "Iteration 3, Results: {'top-100 model': 0.07, 'top-100 acquired': 0.04}\n",
      "Iteration 4, Results: {'top-100 model': 0.11, 'top-100 acquired': 0.05}\n",
      "Iteration 5, Results: {'top-100 model': 0.16, 'top-100 acquired': 0.07}\n",
      "Iteration 6, Results: {'top-100 model': 0.14, 'top-100 acquired': 0.11}\n",
      "Iteration 7, Results: {'top-100 model': 0.15, 'top-100 acquired': 0.12}\n",
      "Iteration 8, Results: {'top-100 model': 0.12, 'top-100 acquired': 0.12}\n",
      "Iteration 9, Results: {'top-100 model': 0.17, 'top-100 acquired': 0.12}\n",
      "Iteration 10, Results: {'top-100 model': 0.16, 'top-100 acquired': 0.13}\n",
      "Iteration 11, Results: {'top-100 model': 0.15, 'top-100 acquired': 0.14}\n",
      "Iteration 12, Results: {'top-100 model': 0.19, 'top-100 acquired': 0.15}\n",
      "Iteration 13, Results: {'top-100 model': 0.2, 'top-100 acquired': 0.16}\n",
      "Iteration 14, Results: {'top-100 model': 0.22, 'top-100 acquired': 0.19}\n",
      "Iteration 15, Results: {'top-100 model': 0.22, 'top-100 acquired': 0.19}\n",
      "Iteration 16, Results: {'top-100 model': 0.24, 'top-100 acquired': 0.2}\n",
      "Iteration 17, Results: {'top-100 model': 0.25, 'top-100 acquired': 0.21}\n",
      "Iteration 18, Results: {'top-100 model': 0.24, 'top-100 acquired': 0.21}\n",
      "Iteration 19, Results: {'top-100 model': 0.25, 'top-100 acquired': 0.22}\n",
      "Iteration 20, Results: {'top-100 model': 0.24, 'top-100 acquired': 0.23}\n",
      "Running Experiment Exp01 replicate 3\n",
      "y values of starting points [-12.487    -7.44892  -6.855    -7.15528  -8.61168  -8.41895  -8.56815\n",
      "  -6.76601  -5.77985  -6.56089]\n",
      "Iteration 1, Results: {'top-100 model': 0.05, 'top-100 acquired': 0.03}\n",
      "Iteration 2, Results: {'top-100 model': 0.05, 'top-100 acquired': 0.03}\n",
      "Iteration 3, Results: {'top-100 model': 0.05, 'top-100 acquired': 0.03}\n",
      "Iteration 4, Results: {'top-100 model': 0.12, 'top-100 acquired': 0.03}\n",
      "Iteration 5, Results: {'top-100 model': 0.15, 'top-100 acquired': 0.06}\n",
      "Iteration 6, Results: {'top-100 model': 0.13, 'top-100 acquired': 0.08}\n",
      "Iteration 7, Results: {'top-100 model': 0.13, 'top-100 acquired': 0.11}\n",
      "Iteration 8, Results: {'top-100 model': 0.13, 'top-100 acquired': 0.12}\n",
      "Iteration 9, Results: {'top-100 model': 0.13, 'top-100 acquired': 0.13}\n",
      "Iteration 10, Results: {'top-100 model': 0.15, 'top-100 acquired': 0.13}\n",
      "Iteration 11, Results: {'top-100 model': 0.15, 'top-100 acquired': 0.13}\n",
      "Iteration 12, Results: {'top-100 model': 0.15, 'top-100 acquired': 0.14}\n",
      "Iteration 13, Results: {'top-100 model': 0.17, 'top-100 acquired': 0.14}\n",
      "Iteration 14, Results: {'top-100 model': 0.17, 'top-100 acquired': 0.16}\n",
      "Iteration 15, Results: {'top-100 model': 0.16, 'top-100 acquired': 0.16}\n",
      "Iteration 16, Results: {'top-100 model': 0.17, 'top-100 acquired': 0.16}\n",
      "Iteration 17, Results: {'top-100 model': 0.18, 'top-100 acquired': 0.16}\n",
      "Iteration 18, Results: {'top-100 model': 0.17, 'top-100 acquired': 0.17}\n",
      "Iteration 19, Results: {'top-100 model': 0.17, 'top-100 acquired': 0.17}\n",
      "Iteration 20, Results: {'top-100 model': 0.18, 'top-100 acquired': 0.17}\n",
      "Running Experiment Exp02 replicate 1\n",
      "y values of starting points [-12.487    -7.44892  -6.855    -7.15528  -8.61168  -8.41895  -8.56815\n",
      "  -6.76601  -5.77985  -6.56089]\n",
      "Iteration 1, Results: {'top-100 model': 0.07, 'top-100 acquired': 0.01}\n",
      "Iteration 2, Results: {'top-100 model': 0.08, 'top-100 acquired': 0.01}\n",
      "Iteration 3, Results: {'top-100 model': 0.09, 'top-100 acquired': 0.01}\n",
      "Iteration 4, Results: {'top-100 model': 0.06, 'top-100 acquired': 0.01}\n",
      "Iteration 5, Results: {'top-100 model': 0.06, 'top-100 acquired': 0.01}\n",
      "Lab time over. All experiments conducted. Look for the results folder.\n",
      "Time elapsed:  40 second(s)\n"
     ]
    }
   ],
   "source": [
    "experiment.conduct_all_experiments()"
   ]
  }
 ],
 "metadata": {
  "kernelspec": {
   "display_name": "Python 3",
   "language": "python",
   "name": "python3"
  },
  "language_info": {
   "codemirror_mode": {
    "name": "ipython",
    "version": 3
   },
   "file_extension": ".py",
   "mimetype": "text/x-python",
   "name": "python",
   "nbconvert_exporter": "python",
   "pygments_lexer": "ipython3",
   "version": "3.8.10"
  },
  "orig_nbformat": 4
 },
 "nbformat": 4,
 "nbformat_minor": 2
}

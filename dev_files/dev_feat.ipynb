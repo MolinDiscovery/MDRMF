{
 "cells": [
  {
   "cell_type": "code",
   "execution_count": 5,
   "metadata": {},
   "outputs": [],
   "source": [
    "import MDRMF as mf"
   ]
  },
  {
   "cell_type": "code",
   "execution_count": 6,
   "metadata": {},
   "outputs": [],
   "source": [
    "df = mf.MoleculeLoader(\"../data_cleaning/10K.csv\",\"SMILES\",\"r_i_docking_score\").df"
   ]
  },
  {
   "cell_type": "code",
   "execution_count": 7,
   "metadata": {},
   "outputs": [],
   "source": [
    "# featurizer.py\n",
    "\n",
    "import pandas as pd\n",
    "import numpy as np\n",
    "from typing import Optional\n",
    "from rdkit import Chem\n",
    "from rdkit.Chem import AllChem\n",
    "from rdkit.Chem.rdMolDescriptors import GetMorganFingerprintAsBitVect\n",
    "from rdkit.Chem.Fingerprints import FingerprintMols\n",
    "from rdkit.Chem import MACCSkeys\n",
    "from rdkit import DataStructs\n",
    "\n",
    "\n",
    "class Featurizer:\n",
    "    \"\"\"\n",
    "    A class to featurize molecules in a DataFrame.\n",
    "    \"\"\"\n",
    "    def __init__(self, df: pd.DataFrame = None, mol_col: str = 'molecules') -> None:\n",
    "        \"\"\"\n",
    "        Initializes the Featurizer with a DataFrame and the name of the column containing molecules.\n",
    "\n",
    "        Args:\n",
    "            df (pd.DataFrame): The DataFrame to featurize.\n",
    "            mol_col (str): The name of the column containing molecules to featurize.\n",
    "        \"\"\"\n",
    "        self.df = df\n",
    "        self.mol_col = mol_col\n",
    "        self.smi_col = 'SMILES'\n",
    "        self.features = None\n",
    "\n",
    "    def featurize(self, method: str, **kwargs) -> None:\n",
    "        \"\"\"\n",
    "        Featurizes the molecules in the DataFrame using the specified method and stores the features separately.\n",
    "\n",
    "        Args:\n",
    "            method (str): The featurization method to use. Supported methods are 'morgan' and 'topological'.\n",
    "            **kwargs: Additional keyword arguments to pass to the featurization method.\n",
    "        \"\"\"\n",
    "        if method == 'morgan':\n",
    "            # self.df['features'] = self.df[self.mol_col].apply(lambda mol: self._convert_to_np_array(AllChem.GetMorganFingerprintAsBitVect(mol, **kwargs)))\n",
    "            features_gen = tuple(self.df[self.mol_col].apply(lambda mol: self._convert_to_np_array(AllChem.GetMorganFingerprintAsBitVect(mol, **kwargs))))\n",
    "        elif method == 'topological':\n",
    "            features_gen = tuple(self.df[self.mol_col].apply(lambda mol: self._convert_to_np_array(FingerprintMols.FingerprintMol(mol, **kwargs))))\n",
    "            # self.df['features'] = self.df[self.mol_col].apply(lambda mol: self._convert_to_np_array(FingerprintMols.FingerprintMol(mol, **kwargs)))\n",
    "        elif method == 'MACCS':\n",
    "            features_gen = self.df[self.mol_col].apply(lambda mol: MACCSkeys.GenMACCSKeys(mol, **kwargs))\n",
    "        else:\n",
    "            raise ValueError(f\"Unsupported featurization method: {method}\")\n",
    "\n",
    "        self.features = np.vstack(features_gen)\n",
    "\n",
    "        return self.features\n",
    "\n",
    "    def _convert_to_np_array(self, bit_vect) -> np.ndarray:\n",
    "        \"\"\"\n",
    "        Converts an RDKit explicit bit vector to a numpy array.\n",
    "\n",
    "        Args:\n",
    "            bit_vect: The bit vector to convert.\n",
    "\n",
    "        Returns:\n",
    "            np.ndarray: The converted numpy array.\n",
    "        \"\"\"\n",
    "        np_array = np.zeros((1, bit_vect.GetNumBits()), dtype=np.int8)\n",
    "        DataStructs.ConvertToNumpyArray(bit_vect, np_array)\n",
    "        return np_array\n",
    "    \n",
    "    def get_df(self):\n",
    "        \"\"\"\n",
    "        Returns:\n",
    "            The DataFrame\n",
    "        \"\"\"\n",
    "        return self.df\n",
    "\n",
    "    def get_features(self):\n",
    "        \"\"\"\n",
    "        Returns the 2D numpy array of featurized molecules.\n",
    "\n",
    "        Returns:\n",
    "            np.ndarray: The featurized molecules.\n",
    "        \"\"\"\n",
    "        if self.features is not None:\n",
    "            return self.features\n",
    "        else:\n",
    "            print(\"No features available. Please run the featurize method first.\")\n",
    "\n",
    "    def inspect_features_by_smiles(self, smiles: str) -> Optional[np.ndarray]:\n",
    "        \"\"\"\n",
    "        Inspects the features for a specific molecule based on its SMILES representation.\n",
    "\n",
    "        Args:\n",
    "            smiles (str): The SMILES string for the molecule to inspect.\n",
    "\n",
    "        Returns:\n",
    "            np.ndarray: The feature vector for the molecule, or None if the molecule is not found.\n",
    "        \"\"\"\n",
    "        index = self.df[self.df[self.smi_col] == smiles].index\n",
    "        if not index.empty:\n",
    "            fingerprint = self.df['features'][index[0]]\n",
    "            return fingerprint\n",
    "        else:\n",
    "            print(f\"No molecule with SMILES {smiles} found in the DataFrame.\")\n",
    "            return None"
   ]
  },
  {
   "cell_type": "code",
   "execution_count": 8,
   "metadata": {},
   "outputs": [],
   "source": [
    "featurizer = Featurizer(df, mol_col=\"molecules\")"
   ]
  },
  {
   "cell_type": "code",
   "execution_count": 9,
   "metadata": {},
   "outputs": [],
   "source": [
    "feats = featurizer.featurize(\"MACCS\")"
   ]
  },
  {
   "cell_type": "code",
   "execution_count": 10,
   "metadata": {},
   "outputs": [
    {
     "data": {
      "text/plain": [
       "array([0, 0, 0, 0, 0, 0, 0, 0, 0, 0, 0, 0, 0, 0, 0, 0, 0, 0, 0, 0, 0, 0,\n",
       "       1, 0, 0, 0, 0, 0, 0, 0, 0, 0, 0, 0, 0, 0, 0, 1, 0, 0, 0, 0, 0, 1,\n",
       "       0, 0, 0, 0, 0, 0, 0, 0, 0, 0, 0, 0, 0, 1, 0, 0, 0, 0, 1, 0, 0, 0,\n",
       "       0, 0, 0, 0, 0, 0, 0, 0, 0, 1, 0, 1, 0, 0, 0, 0, 0, 1, 0, 1, 1, 0,\n",
       "       0, 0, 1, 1, 0, 0, 0, 0, 1, 1, 1, 0, 1, 1, 0, 0, 1, 1, 1, 0, 0, 1,\n",
       "       1, 1, 0, 0, 0, 0, 0, 1, 1, 0, 1, 1, 1, 0, 0, 1, 0, 0, 1, 1, 0, 1,\n",
       "       1, 1, 0, 1, 1, 1, 1, 0, 0, 0, 1, 0, 0, 1, 1, 1, 1, 0, 0, 1, 0, 1,\n",
       "       1, 0, 1, 1, 1, 1, 1, 1, 1, 1, 1, 1, 0])"
      ]
     },
     "execution_count": 10,
     "metadata": {},
     "output_type": "execute_result"
    }
   ],
   "source": [
    "feats[0]"
   ]
  },
  {
   "cell_type": "code",
   "execution_count": 11,
   "metadata": {},
   "outputs": [
    {
     "data": {
      "application/vnd.microsoft.datawrangler.viewer.v0+json": {
       "columns": [
        {
         "name": "index",
         "rawType": "int64",
         "type": "integer"
        },
        {
         "name": "Unnamed: 0",
         "rawType": "int64",
         "type": "integer"
        },
        {
         "name": "i_i_glide_lignum",
         "rawType": "int64",
         "type": "integer"
        },
        {
         "name": "r_i_docking_score",
         "rawType": "float64",
         "type": "float"
        },
        {
         "name": "SMILES",
         "rawType": "object",
         "type": "string"
        },
        {
         "name": "molecules",
         "rawType": "object",
         "type": "unknown"
        }
       ],
       "conversionMethod": "pd.DataFrame",
       "ref": "0c7ca948-5ba7-42de-812b-aaa3a3dd6ea3",
       "rows": [
        [
         "0",
         "0",
         "13477",
         "-13.1268",
         "C[C@@H](NC(=O)N1C[C@H](c2ccccc2)[C@H]2COCC[C@H]21)c1ccc(NC(=O)NC2CC2)cc1",
         "<rdkit.Chem.rdchem.Mol object at 0x31d2b5770>"
        ],
        [
         "1",
         "1",
         "516",
         "-12.6629",
         "O=C(Nc1cccc(C(=O)N2CCC(c3c[nH]c4ncccc34)CC2)c1)[C@@H]1Cc2ccccc2O1",
         "<rdkit.Chem.rdchem.Mol object at 0x31d2b57e0>"
        ],
        [
         "2",
         "2",
         "9425",
         "-12.487",
         "Cc1nn(-c2ccccc2)c2nc(C(=O)N3CCC([C@H]4C(=O)Nc5ccccc54)CC3)ccc12",
         "<rdkit.Chem.rdchem.Mol object at 0x31d2b5850>"
        ],
        [
         "3",
         "3",
         "14512",
         "-12.4835",
         "Cc1cc(C)cc(C(=O)N2CCC[C@H](C(=O)NCc3cccc([C@@]4(C)NC(=O)NC4=O)c3)C2)c1",
         "<rdkit.Chem.rdchem.Mol object at 0x31d2b58c0>"
        ],
        [
         "4",
         "4",
         "9615",
         "-12.4785",
         "CS(=O)(=O)c1ccc(F)c(C(=O)Nc2ccc(-c3nc(-c4ccccc4)n[nH]3)cc2)c1",
         "<rdkit.Chem.rdchem.Mol object at 0x31d2b5930>"
        ],
        [
         "5",
         "5",
         "12019",
         "-12.3322",
         "O=C1Nc2ccccc2[C@@H]1C1CCN(C(=O)c2cccc(N3C(=O)c4ccccc4C3=O)c2)CC1",
         "<rdkit.Chem.rdchem.Mol object at 0x31d2b59a0>"
        ],
        [
         "6",
         "6",
         "2689",
         "-12.1874",
         "NC(=O)[C@H]1CCCN(c2ccc(C(=O)N3CCC(c4cc5ccccc5[nH]4)CC3)cc2)C1",
         "<rdkit.Chem.rdchem.Mol object at 0x31d2b5a10>"
        ],
        [
         "7",
         "7",
         "6330",
         "-12.1792",
         "Cn1c(=O)[nH]c2ccc(C(=O)NCC[C@H]3CN(c4ncnc5[nH]ncc45)c4ccccc43)cc21",
         "<rdkit.Chem.rdchem.Mol object at 0x31d2b5a80>"
        ],
        [
         "8",
         "8",
         "7261",
         "-12.0921",
         "O=C(NCC(=O)N1CCc2ccccc2C1)[C@@H]1C[C@H](O)CN1C(=O)OCc1ccccc1",
         "<rdkit.Chem.rdchem.Mol object at 0x31d2b5af0>"
        ],
        [
         "9",
         "9",
         "14012",
         "-12.0323",
         "C#Cc1cc(F)c(NC(=O)C(=O)N2CC=C(c3c[nH]c4ncccc34)CC2)c(F)c1",
         "<rdkit.Chem.rdchem.Mol object at 0x31d2b5b60>"
        ],
        [
         "10",
         "10",
         "4138",
         "-11.9436",
         "Nc1nccc([C@H]2CCCN(C(=O)c3cccc(NS(=O)(=O)c4ccc(F)c(F)c4)c3)C2)n1",
         "<rdkit.Chem.rdchem.Mol object at 0x31d2b5bd0>"
        ],
        [
         "11",
         "11",
         "14123",
         "-11.9141",
         "O=C(Nc1cccc(Cn2nc3ccccn3c2=O)c1)N1CCC[C@H](c2cc3ccccc3[nH]2)C1",
         "<rdkit.Chem.rdchem.Mol object at 0x31d2b5c40>"
        ],
        [
         "12",
         "12",
         "1799",
         "-11.822",
         "Cc1cc(-c2cc(C(=O)NCc3cccc([C@]4(C)NC(=O)NC4=O)c3)c3c(C)noc3n2)c(C)o1",
         "<rdkit.Chem.rdchem.Mol object at 0x31d2b5cb0>"
        ],
        [
         "13",
         "13",
         "19451",
         "-11.7789",
         "O=C(c1ccc2c(c1)CCCC2)N1CCCC[C@H]1c1nc(=O)[nH][nH]1",
         "<rdkit.Chem.rdchem.Mol object at 0x31d2b5d20>"
        ],
        [
         "14",
         "14",
         "1790",
         "-11.7684",
         "O=C1Nc2ccccc2O[C@H]1CC(=O)N1CCC(c2c[nH]c3ncccc23)CC1",
         "<rdkit.Chem.rdchem.Mol object at 0x31d2b5d90>"
        ],
        [
         "15",
         "15",
         "5180",
         "-11.7679",
         "C[C@H](NC(=O)N[C@@H](CO)C[C@@H](O)C(C)(C)C)c1ccc(-c2ccncc2)cc1",
         "<rdkit.Chem.rdchem.Mol object at 0x31d2b5e00>"
        ],
        [
         "16",
         "16",
         "11323",
         "-11.7604",
         "O=C1O[C@H](c2ccccc2)Cc2cc(C(=O)N3CC[C@H](c4ccccc4F)C3)ccc21",
         "<rdkit.Chem.rdchem.Mol object at 0x31d2b5e70>"
        ],
        [
         "17",
         "17",
         "2934",
         "-11.737",
         "O=C(NC[C@@H]1CCC[C@@]12NC(=O)NC2=O)Nc1ccn(-c2cccc(C(F)(F)F)c2)n1",
         "<rdkit.Chem.rdchem.Mol object at 0x31d2b5ee0>"
        ],
        [
         "18",
         "18",
         "17571",
         "-11.712",
         "O=C([C@H]1CCCc2ccccc21)N1CCC(c2c[nH]c3ncccc23)CC1",
         "<rdkit.Chem.rdchem.Mol object at 0x31d2b5f50>"
        ],
        [
         "19",
         "19",
         "14692",
         "-11.6641",
         "C[C@H](NC(=O)c1c[nH]nc1-c1ccccc1F)c1ccc(NC(=O)c2ccncc2)cc1",
         "<rdkit.Chem.rdchem.Mol object at 0x31d2b5fc0>"
        ],
        [
         "20",
         "20",
         "20514",
         "-11.6553",
         "C[C@@](O)(CCc1ccccc1)C(=O)NCc1nc(-c2ccccn2)n[nH]1",
         "<rdkit.Chem.rdchem.Mol object at 0x31d2b6030>"
        ],
        [
         "21",
         "21",
         "9570",
         "-11.6368",
         "NC(=O)C1(c2ccccc2)CCN(C(=O)N[C@@H]2CCN(c3ccc(Cl)c(F)c3)C2)CC1",
         "<rdkit.Chem.rdchem.Mol object at 0x31d2b60a0>"
        ],
        [
         "22",
         "22",
         "14733",
         "-11.6328",
         "O=C1CCCc2cc(C(=O)N3C[C@@H](c4ccccc4)[C@@H]4CCC[C@H]43)ccc2N1",
         "<rdkit.Chem.rdchem.Mol object at 0x31d2b6110>"
        ],
        [
         "23",
         "23",
         "7427",
         "-11.5004",
         "CNc1cccc(-c2cn(Cc3cc(C(F)(F)F)nn3C)nn2)c1",
         "<rdkit.Chem.rdchem.Mol object at 0x31d2b6180>"
        ],
        [
         "24",
         "24",
         "2917",
         "-11.4982",
         "C[C@@H]1Cc2c(C(=O)N3CCC(c4c[nH]c5ncccc45)CC3)n[nH]c2[C@@H](C)O1",
         "<rdkit.Chem.rdchem.Mol object at 0x31d2b61f0>"
        ],
        [
         "25",
         "25",
         "12155",
         "-11.4895",
         "COc1ccc(-c2noc(-c3ccc(NC(=O)c4cc(F)cc(F)c4)cc3O)n2)cn1",
         "<rdkit.Chem.rdchem.Mol object at 0x31d2b6260>"
        ],
        [
         "26",
         "26",
         "1913",
         "-11.4503",
         "Cc1cc(-c2noc(CCC(=O)N3CCC[C@H]3C[C@H](O)c3ccc(F)cc3)n2)ccc1F",
         "<rdkit.Chem.rdchem.Mol object at 0x31d2b62d0>"
        ],
        [
         "27",
         "27",
         "2684",
         "-11.4405",
         "O=C(NC[C@H](O)c1cccc(Cl)c1)c1c[nH]nc1-c1c(F)cccc1F",
         "<rdkit.Chem.rdchem.Mol object at 0x31d2b6340>"
        ],
        [
         "28",
         "28",
         "1912",
         "-11.4212",
         "Cc1cc(-c2noc(CCC(=O)N3CCC[C@@H]3C[C@H](O)c3ccc(F)cc3)n2)ccc1F",
         "<rdkit.Chem.rdchem.Mol object at 0x31d2b63b0>"
        ],
        [
         "29",
         "29",
         "3247",
         "-11.4158",
         "NS(=O)(=O)c1cccc(CNC(=O)NCc2cn(Cc3ccccc3)nc2-c2ccccc2)c1",
         "<rdkit.Chem.rdchem.Mol object at 0x31d2b6420>"
        ],
        [
         "30",
         "30",
         "8437",
         "-11.3983",
         "O=C(N[C@@H](Cc1ccccc1)C(=O)N1CCCC1)[C@@H](O)[C@@H](O)c1nc2ccccc2s1",
         "<rdkit.Chem.rdchem.Mol object at 0x31d2b6490>"
        ],
        [
         "31",
         "31",
         "6764",
         "-11.348",
         "O=C(Nc1ccc(C(=O)N2CCCCCC2)cc1)c1cn([C@H]2CCOC2)nn1",
         "<rdkit.Chem.rdchem.Mol object at 0x31d2b6500>"
        ],
        [
         "32",
         "32",
         "3991",
         "-11.3452",
         "CC(=O)Nc1ccc(NC(=O)c2ccoc2CN2c3ccccc3C[C@H]2C)cc1",
         "<rdkit.Chem.rdchem.Mol object at 0x31d2b6570>"
        ],
        [
         "33",
         "33",
         "17237",
         "-11.3184",
         "O=C(N[C@H]1CCO[C@@H]1c1ccc(Cl)c(F)c1)[C@@H]1C[C@@H]1c1c(F)cccc1F",
         "<rdkit.Chem.rdchem.Mol object at 0x31d2b65e0>"
        ],
        [
         "34",
         "34",
         "14260",
         "-11.2984",
         "Cc1nc([C@H](NC(=O)[C@H]2C[C@H]2c2ccc(C(F)(F)F)cc2)c2ccccc2)n[nH]1",
         "<rdkit.Chem.rdchem.Mol object at 0x31d2b6650>"
        ],
        [
         "35",
         "35",
         "5571",
         "-11.2869",
         "O=C([C@@H]1C[C@@H]2CC[C@H]1O2)N1CCC(c2nc(=O)[nH][nH]2)CC1",
         "<rdkit.Chem.rdchem.Mol object at 0x31d2b66c0>"
        ],
        [
         "36",
         "36",
         "5162",
         "-11.2821",
         "C[C@@H]1Cc2ccccc2N1C1CCN(C(=O)[C@H]2CCCN(C(=O)c3ccc4[nH]ncc4c3)C2)CC1",
         "<rdkit.Chem.rdchem.Mol object at 0x31d2b6730>"
        ],
        [
         "37",
         "37",
         "1678",
         "-11.2723",
         "C[C@@H](NC(=O)C(Cc1ccccc1)Cc1ccccc1)c1ccc2c(c1)CC(=O)N2",
         "<rdkit.Chem.rdchem.Mol object at 0x31d2b67a0>"
        ],
        [
         "38",
         "38",
         "10455",
         "-11.2648",
         "O=C(c1ccnn1C1CCCC1)N1CCC(c2c[nH]c3ccccc23)CC1",
         "<rdkit.Chem.rdchem.Mol object at 0x31d2b6810>"
        ],
        [
         "39",
         "39",
         "1484",
         "-11.2497",
         "O=C(NCc1noc2c1CCCC2)N[C@H]1CCCN(Cc2ccc(F)cc2F)C1=O",
         "<rdkit.Chem.rdchem.Mol object at 0x31d2b6880>"
        ],
        [
         "40",
         "40",
         "10841",
         "-11.2464",
         "O=C1Cc2cc(CCCC(=O)Nc3ccccc3N3CCCC3=O)ccc2N1",
         "<rdkit.Chem.rdchem.Mol object at 0x31d2b68f0>"
        ],
        [
         "41",
         "41",
         "7121",
         "-11.2327",
         "C[C@@](O)(CNC(=O)[C@@H]1CCCN(C(=O)Cc2ccccc2)C1)c1ccc(F)cc1",
         "<rdkit.Chem.rdchem.Mol object at 0x31d2b6960>"
        ],
        [
         "42",
         "42",
         "17648",
         "-11.222",
         "C[C@@H](CO)NC(=O)Nc1cnc(-c2cccc(C(F)(F)F)c2)cn1",
         "<rdkit.Chem.rdchem.Mol object at 0x31d2b69d0>"
        ],
        [
         "43",
         "43",
         "16897",
         "-11.2179",
         "O=C1NCc2c(NC(=O)N3CCCC4(CCCCC4)CC3)cccc21",
         "<rdkit.Chem.rdchem.Mol object at 0x31d2b6a40>"
        ],
        [
         "44",
         "44",
         "6047",
         "-11.2151",
         "O=C(CCc1nc2cccnc2[nH]1)N(Cc1ccccc1)C[C@@H](O)c1ccccc1",
         "<rdkit.Chem.rdchem.Mol object at 0x31d2b6ab0>"
        ],
        [
         "45",
         "45",
         "11385",
         "-11.208",
         "Cc1ccc2c(c1)C(=O)N(CCCC(=O)N1CCC(C(=O)NCc3ccc(F)cc3)CC1)C2=O",
         "<rdkit.Chem.rdchem.Mol object at 0x31d2b6b20>"
        ],
        [
         "46",
         "46",
         "14590",
         "-11.2021",
         "O=C([C@@H]1C[C@@H]2CCCC[C@H]2N1C(=O)c1ccc2ccccc2c1)N1CCC[C@@H](O)CC1",
         "<rdkit.Chem.rdchem.Mol object at 0x31d2b6b90>"
        ],
        [
         "47",
         "47",
         "5609",
         "-11.1936",
         "Cc1cc(NC(=O)c2nn(C)c3ccccc23)ccc1NC(=O)c1cnc2n1CCC2",
         "<rdkit.Chem.rdchem.Mol object at 0x31d2b6c00>"
        ],
        [
         "48",
         "48",
         "19671",
         "-11.1783",
         "Cc1cccc(-c2cccc(C(=O)N3C[C@H](CO)[C@@H](CO)C3)c2)c1",
         "<rdkit.Chem.rdchem.Mol object at 0x31d2b6c70>"
        ],
        [
         "49",
         "49",
         "7878",
         "-11.1572",
         "CCOc1ccccc1C(=O)N1CCC[C@@H]1C(=O)NCc1nc2ccccc2n1CC",
         "<rdkit.Chem.rdchem.Mol object at 0x31d2b6ce0>"
        ]
       ],
       "shape": {
        "columns": 5,
        "rows": 9892
       }
      },
      "text/html": [
       "<div>\n",
       "<style scoped>\n",
       "    .dataframe tbody tr th:only-of-type {\n",
       "        vertical-align: middle;\n",
       "    }\n",
       "\n",
       "    .dataframe tbody tr th {\n",
       "        vertical-align: top;\n",
       "    }\n",
       "\n",
       "    .dataframe thead th {\n",
       "        text-align: right;\n",
       "    }\n",
       "</style>\n",
       "<table border=\"1\" class=\"dataframe\">\n",
       "  <thead>\n",
       "    <tr style=\"text-align: right;\">\n",
       "      <th></th>\n",
       "      <th>Unnamed: 0</th>\n",
       "      <th>i_i_glide_lignum</th>\n",
       "      <th>r_i_docking_score</th>\n",
       "      <th>SMILES</th>\n",
       "      <th>molecules</th>\n",
       "    </tr>\n",
       "  </thead>\n",
       "  <tbody>\n",
       "    <tr>\n",
       "      <th>0</th>\n",
       "      <td>0</td>\n",
       "      <td>13477</td>\n",
       "      <td>-13.126800</td>\n",
       "      <td>C[C@@H](NC(=O)N1C[C@H](c2ccccc2)[C@H]2COCC[C@H...</td>\n",
       "      <td>&lt;rdkit.Chem.rdchem.Mol object at 0x31d2b5770&gt;</td>\n",
       "    </tr>\n",
       "    <tr>\n",
       "      <th>1</th>\n",
       "      <td>1</td>\n",
       "      <td>516</td>\n",
       "      <td>-12.662900</td>\n",
       "      <td>O=C(Nc1cccc(C(=O)N2CCC(c3c[nH]c4ncccc34)CC2)c1...</td>\n",
       "      <td>&lt;rdkit.Chem.rdchem.Mol object at 0x31d2b57e0&gt;</td>\n",
       "    </tr>\n",
       "    <tr>\n",
       "      <th>2</th>\n",
       "      <td>2</td>\n",
       "      <td>9425</td>\n",
       "      <td>-12.487000</td>\n",
       "      <td>Cc1nn(-c2ccccc2)c2nc(C(=O)N3CCC([C@H]4C(=O)Nc5...</td>\n",
       "      <td>&lt;rdkit.Chem.rdchem.Mol object at 0x31d2b5850&gt;</td>\n",
       "    </tr>\n",
       "    <tr>\n",
       "      <th>3</th>\n",
       "      <td>3</td>\n",
       "      <td>14512</td>\n",
       "      <td>-12.483500</td>\n",
       "      <td>Cc1cc(C)cc(C(=O)N2CCC[C@H](C(=O)NCc3cccc([C@@]...</td>\n",
       "      <td>&lt;rdkit.Chem.rdchem.Mol object at 0x31d2b58c0&gt;</td>\n",
       "    </tr>\n",
       "    <tr>\n",
       "      <th>4</th>\n",
       "      <td>4</td>\n",
       "      <td>9615</td>\n",
       "      <td>-12.478500</td>\n",
       "      <td>CS(=O)(=O)c1ccc(F)c(C(=O)Nc2ccc(-c3nc(-c4ccccc...</td>\n",
       "      <td>&lt;rdkit.Chem.rdchem.Mol object at 0x31d2b5930&gt;</td>\n",
       "    </tr>\n",
       "    <tr>\n",
       "      <th>...</th>\n",
       "      <td>...</td>\n",
       "      <td>...</td>\n",
       "      <td>...</td>\n",
       "      <td>...</td>\n",
       "      <td>...</td>\n",
       "    </tr>\n",
       "    <tr>\n",
       "      <th>9887</th>\n",
       "      <td>9893</td>\n",
       "      <td>2451</td>\n",
       "      <td>-0.560302</td>\n",
       "      <td>O=C([O-])C(F)(F)F</td>\n",
       "      <td>&lt;rdkit.Chem.rdchem.Mol object at 0x31faca340&gt;</td>\n",
       "    </tr>\n",
       "    <tr>\n",
       "      <th>9888</th>\n",
       "      <td>9894</td>\n",
       "      <td>7813</td>\n",
       "      <td>-0.384887</td>\n",
       "      <td>Cc1cnn(C)c1S(=O)(=O)NC[C@@H](Cc1ccccn1)C(=O)[O-]</td>\n",
       "      <td>&lt;rdkit.Chem.rdchem.Mol object at 0x31faca3b0&gt;</td>\n",
       "    </tr>\n",
       "    <tr>\n",
       "      <th>9889</th>\n",
       "      <td>9895</td>\n",
       "      <td>11442</td>\n",
       "      <td>-0.269109</td>\n",
       "      <td>Cn1cccc(C(=O)N2CCN(C3CC3)c3ccc(Cl)cc32)c1=O</td>\n",
       "      <td>&lt;rdkit.Chem.rdchem.Mol object at 0x31faca420&gt;</td>\n",
       "    </tr>\n",
       "    <tr>\n",
       "      <th>9890</th>\n",
       "      <td>9896</td>\n",
       "      <td>13971</td>\n",
       "      <td>-0.150473</td>\n",
       "      <td>O=C([O-])[C@H]1CC[C@@H](C(=O)N2CCCc3ccccc32)CC1</td>\n",
       "      <td>&lt;rdkit.Chem.rdchem.Mol object at 0x31faca490&gt;</td>\n",
       "    </tr>\n",
       "    <tr>\n",
       "      <th>9891</th>\n",
       "      <td>9897</td>\n",
       "      <td>11630</td>\n",
       "      <td>-0.145596</td>\n",
       "      <td>CCNS(=O)(=O)c1cc(NCCOC)ccn1</td>\n",
       "      <td>&lt;rdkit.Chem.rdchem.Mol object at 0x31faca500&gt;</td>\n",
       "    </tr>\n",
       "  </tbody>\n",
       "</table>\n",
       "<p>9892 rows × 5 columns</p>\n",
       "</div>"
      ],
      "text/plain": [
       "      Unnamed: 0  i_i_glide_lignum  r_i_docking_score  \\\n",
       "0              0             13477         -13.126800   \n",
       "1              1               516         -12.662900   \n",
       "2              2              9425         -12.487000   \n",
       "3              3             14512         -12.483500   \n",
       "4              4              9615         -12.478500   \n",
       "...          ...               ...                ...   \n",
       "9887        9893              2451          -0.560302   \n",
       "9888        9894              7813          -0.384887   \n",
       "9889        9895             11442          -0.269109   \n",
       "9890        9896             13971          -0.150473   \n",
       "9891        9897             11630          -0.145596   \n",
       "\n",
       "                                                 SMILES  \\\n",
       "0     C[C@@H](NC(=O)N1C[C@H](c2ccccc2)[C@H]2COCC[C@H...   \n",
       "1     O=C(Nc1cccc(C(=O)N2CCC(c3c[nH]c4ncccc34)CC2)c1...   \n",
       "2     Cc1nn(-c2ccccc2)c2nc(C(=O)N3CCC([C@H]4C(=O)Nc5...   \n",
       "3     Cc1cc(C)cc(C(=O)N2CCC[C@H](C(=O)NCc3cccc([C@@]...   \n",
       "4     CS(=O)(=O)c1ccc(F)c(C(=O)Nc2ccc(-c3nc(-c4ccccc...   \n",
       "...                                                 ...   \n",
       "9887                                  O=C([O-])C(F)(F)F   \n",
       "9888   Cc1cnn(C)c1S(=O)(=O)NC[C@@H](Cc1ccccn1)C(=O)[O-]   \n",
       "9889        Cn1cccc(C(=O)N2CCN(C3CC3)c3ccc(Cl)cc32)c1=O   \n",
       "9890    O=C([O-])[C@H]1CC[C@@H](C(=O)N2CCCc3ccccc32)CC1   \n",
       "9891                        CCNS(=O)(=O)c1cc(NCCOC)ccn1   \n",
       "\n",
       "                                          molecules  \n",
       "0     <rdkit.Chem.rdchem.Mol object at 0x31d2b5770>  \n",
       "1     <rdkit.Chem.rdchem.Mol object at 0x31d2b57e0>  \n",
       "2     <rdkit.Chem.rdchem.Mol object at 0x31d2b5850>  \n",
       "3     <rdkit.Chem.rdchem.Mol object at 0x31d2b58c0>  \n",
       "4     <rdkit.Chem.rdchem.Mol object at 0x31d2b5930>  \n",
       "...                                             ...  \n",
       "9887  <rdkit.Chem.rdchem.Mol object at 0x31faca340>  \n",
       "9888  <rdkit.Chem.rdchem.Mol object at 0x31faca3b0>  \n",
       "9889  <rdkit.Chem.rdchem.Mol object at 0x31faca420>  \n",
       "9890  <rdkit.Chem.rdchem.Mol object at 0x31faca490>  \n",
       "9891  <rdkit.Chem.rdchem.Mol object at 0x31faca500>  \n",
       "\n",
       "[9892 rows x 5 columns]"
      ]
     },
     "execution_count": 11,
     "metadata": {},
     "output_type": "execute_result"
    }
   ],
   "source": [
    "df"
   ]
  },
  {
   "cell_type": "code",
   "execution_count": 12,
   "metadata": {},
   "outputs": [],
   "source": [
    "def convert_to_np_array(bit_vect) -> np.ndarray:\n",
    "    \"\"\"\n",
    "    Converts an RDKit explicit bit vector to a numpy array.\n",
    "\n",
    "    Args:\n",
    "        bit_vect: The bit vector to convert.\n",
    "\n",
    "    Returns:\n",
    "        np.ndarray: The converted numpy array.\n",
    "    \"\"\"\n",
    "    np_array = np.zeros((1, bit_vect.GetNumBits()), dtype=np.int8)\n",
    "    DataStructs.ConvertToNumpyArray(bit_vect, np_array)\n",
    "    return np_array"
   ]
  },
  {
   "cell_type": "code",
   "execution_count": 13,
   "metadata": {},
   "outputs": [],
   "source": [
    "fings = df['molecules'].apply(lambda mol: MACCSkeys.GenMACCSKeys(mol))"
   ]
  },
  {
   "cell_type": "code",
   "execution_count": 14,
   "metadata": {},
   "outputs": [
    {
     "data": {
      "text/plain": [
       "pandas.core.series.Series"
      ]
     },
     "execution_count": 14,
     "metadata": {},
     "output_type": "execute_result"
    }
   ],
   "source": [
    "type(fings)"
   ]
  }
 ],
 "metadata": {
  "kernelspec": {
   "display_name": "MDRMF",
   "language": "python",
   "name": "python3"
  },
  "language_info": {
   "codemirror_mode": {
    "name": "ipython",
    "version": 3
   },
   "file_extension": ".py",
   "mimetype": "text/x-python",
   "name": "python",
   "nbconvert_exporter": "python",
   "pygments_lexer": "ipython3",
   "version": "3.10.13"
  },
  "orig_nbformat": 4
 },
 "nbformat": 4,
 "nbformat_minor": 2
}

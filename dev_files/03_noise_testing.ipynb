{
 "cells": [
  {
   "cell_type": "code",
   "execution_count": 35,
   "metadata": {},
   "outputs": [
    {
     "name": "stdout",
     "output_type": "stream",
     "text": [
      "Original Data: [-5.75 -8.79 -9.41 -5.16 -7.37  0.    1.  ]\n",
      "Noise:         [ 1.85 -1.5  -0.31  1.62  0.3  -0.12  0.87]\n",
      "Noised Data:   [ -3.9  -10.28  -9.72  -3.53  -7.07  -0.12   1.87]\n"
     ]
    }
   ],
   "source": [
    "import numpy as np\n",
    "\n",
    "# Original data values\n",
    "data = np.array([-5.75392, -8.78672, -9.40559, -5.15605, -7.37041, 0, 1])\n",
    "\n",
    "# Decide on a noise level (for example, 15% average with some variability)\n",
    "#noise_level = 0.15 + 0.05 * np.random.rand(data.size)  # This creates a noise level array between 15% and 20%\n",
    "\n",
    "# Calculate noise for each data point\n",
    "noise = 1  # Standard deviation of noise based on percentage of each value\n",
    "\n",
    "\n",
    "# Generate Gaussian noise and add it to the data\n",
    "noises = np.random.normal(0, noise, size=len(data))\n",
    "noised_data = data + noises\n",
    "\n",
    "# Print the original and noised data\n",
    "print(\"Original Data:\", data.round(2))\n",
    "print(\"Noise:        \", noises.round(2))\n",
    "print(\"Noised Data:  \", noised_data.round(2))"
   ]
  }
 ],
 "metadata": {
  "kernelspec": {
   "display_name": "Python 3",
   "language": "python",
   "name": "python3"
  },
  "language_info": {
   "codemirror_mode": {
    "name": "ipython",
    "version": 3
   },
   "file_extension": ".py",
   "mimetype": "text/x-python",
   "name": "python",
   "nbconvert_exporter": "python",
   "pygments_lexer": "ipython3",
   "version": "3.8.10"
  }
 },
 "nbformat": 4,
 "nbformat_minor": 2
}

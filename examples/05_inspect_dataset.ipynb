{
 "cells": [
  {
   "cell_type": "code",
   "execution_count": 18,
   "id": "9e77089b",
   "metadata": {},
   "outputs": [],
   "source": [
    "from MDRMF import Dataset"
   ]
  },
  {
   "cell_type": "code",
   "execution_count": 19,
   "id": "a0e49478",
   "metadata": {},
   "outputs": [
    {
     "data": {
      "text/plain": [
       "<Dataset X.shape: (9892, 42), y.shape: (9892,), w.shape: (9892,), ids: ['C[C@@H](NC(=O)N1C[C@H](c2ccccc2)[C@H]2COCC[C@H]21)c1ccc(NC(=O)NC2CC2)cc1'\n",
       " 'O=C(Nc1cccc(C(=O)N2CCC(c3c[nH]c4ncccc34)CC2)c1)[C@@H]1Cc2ccccc2O1'\n",
       " 'Cc1nn(-c2ccccc2)c2nc(C(=O)N3CCC([C@H]4C(=O)Nc5ccccc54)CC3)ccc12' ...\n",
       " 'Cn1cccc(C(=O)N2CCN(C3CC3)c3ccc(Cl)cc32)c1=O'\n",
       " 'O=C([O-])[C@H]1CC[C@@H](C(=O)N2CCCc3ccccc32)CC1'\n",
       " 'CCNS(=O)(=O)c1cc(NCCOC)ccn1']>"
      ]
     },
     "execution_count": 19,
     "metadata": {},
     "output_type": "execute_result"
    }
   ],
   "source": [
    "dataset = Dataset.load('data/dataset_mqn.pkl')\n",
    "dataset"
   ]
  },
  {
   "cell_type": "code",
   "execution_count": 20,
   "id": "a344f689",
   "metadata": {},
   "outputs": [
    {
     "data": {
      "text/plain": [
       "array([[26,  0,  0, ...,  0,  2,  1],\n",
       "       [28,  0,  0, ...,  0,  4,  2],\n",
       "       [27,  0,  0, ...,  0,  4,  2],\n",
       "       ...,\n",
       "       [18,  0,  1, ...,  0,  2,  1],\n",
       "       [17,  0,  0, ...,  0,  2,  1],\n",
       "       [10,  0,  0, ...,  0,  0,  0]], dtype=int32)"
      ]
     },
     "execution_count": 20,
     "metadata": {},
     "output_type": "execute_result"
    }
   ],
   "source": [
    "# Inspect feature vectors\n",
    "dataset.X"
   ]
  },
  {
   "cell_type": "code",
   "execution_count": 21,
   "id": "b278135b",
   "metadata": {},
   "outputs": [
    {
     "data": {
      "text/plain": [
       "array([-13.1268  , -12.6629  , -12.487   , ...,  -0.269109,  -0.150473,\n",
       "        -0.145596])"
      ]
     },
     "execution_count": 21,
     "metadata": {},
     "output_type": "execute_result"
    }
   ],
   "source": [
    "# Inspect score values\n",
    "dataset.y"
   ]
  },
  {
   "cell_type": "code",
   "execution_count": 22,
   "id": "d18f5d71",
   "metadata": {},
   "outputs": [
    {
     "data": {
      "text/plain": [
       "array([-2.05065, -6.86035, -8.49432, ..., -9.65625, -7.40755, -7.57816])"
      ]
     },
     "execution_count": 22,
     "metadata": {},
     "output_type": "execute_result"
    }
   ],
   "source": [
    "# Shuffle a dataset in place\n",
    "dataset.shuffle()\n",
    "dataset.y"
   ]
  },
  {
   "cell_type": "code",
   "execution_count": 23,
   "id": "ee7fabee",
   "metadata": {},
   "outputs": [
    {
     "data": {
      "text/plain": [
       "array([-13.1268  , -12.6629  , -12.487   , ...,  -0.269109,  -0.150473,\n",
       "        -0.145596])"
      ]
     },
     "execution_count": 23,
     "metadata": {},
     "output_type": "execute_result"
    }
   ],
   "source": [
    "# sort a dataset\n",
    "dataset.sort_by_y(ascending=True)\n",
    "dataset.y"
   ]
  },
  {
   "cell_type": "code",
   "execution_count": 24,
   "id": "a50ea3de",
   "metadata": {},
   "outputs": [],
   "source": [
    "# save dataset\n",
    "dataset.save(filename='data/saved_dataset.pkl')"
   ]
  }
 ],
 "metadata": {
  "kernelspec": {
   "display_name": "MDRMF",
   "language": "python",
   "name": "python3"
  },
  "language_info": {
   "codemirror_mode": {
    "name": "ipython",
    "version": 3
   },
   "file_extension": ".py",
   "mimetype": "text/x-python",
   "name": "python",
   "nbconvert_exporter": "python",
   "pygments_lexer": "ipython3",
   "version": "3.10.13"
  }
 },
 "nbformat": 4,
 "nbformat_minor": 5
}

{
 "cells": [
  {
   "cell_type": "code",
   "execution_count": 1,
   "metadata": {},
   "outputs": [],
   "source": [
    "from MDRMF import Dataset, MoleculeLoader, Featurizer, Model\n",
    "from MDRMF.models import RFModeller"
   ]
  },
  {
   "cell_type": "code",
   "execution_count": 2,
   "metadata": {},
   "outputs": [],
   "source": [
    "data = MoleculeLoader('DTP_data_labels_dummy_short.csv', 'SMILES', 'docking_score').df"
   ]
  },
  {
   "cell_type": "code",
   "execution_count": 3,
   "metadata": {},
   "outputs": [
    {
     "data": {
      "text/html": [
       "<div>\n",
       "<style scoped>\n",
       "    .dataframe tbody tr th:only-of-type {\n",
       "        vertical-align: middle;\n",
       "    }\n",
       "\n",
       "    .dataframe tbody tr th {\n",
       "        vertical-align: top;\n",
       "    }\n",
       "\n",
       "    .dataframe thead th {\n",
       "        text-align: right;\n",
       "    }\n",
       "</style>\n",
       "<table border=\"1\" class=\"dataframe\">\n",
       "  <thead>\n",
       "    <tr style=\"text-align: right;\">\n",
       "      <th></th>\n",
       "      <th>Unnamed: 0.1</th>\n",
       "      <th>Unnamed: 0</th>\n",
       "      <th>NSC</th>\n",
       "      <th>docking_score</th>\n",
       "      <th>SMILES</th>\n",
       "      <th>molecules</th>\n",
       "    </tr>\n",
       "  </thead>\n",
       "  <tbody>\n",
       "    <tr>\n",
       "      <th>0</th>\n",
       "      <td>1566</td>\n",
       "      <td>1576</td>\n",
       "      <td>2819</td>\n",
       "      <td>NaN</td>\n",
       "      <td>Oc1cc(O)c2c(c1)O[C@H](c1ccc(O)c(O)c1)[C@@H](O)C2</td>\n",
       "      <td>&lt;rdkit.Chem.rdchem.Mol object at 0x000001C8428...</td>\n",
       "    </tr>\n",
       "    <tr>\n",
       "      <th>1</th>\n",
       "      <td>2337</td>\n",
       "      <td>2349</td>\n",
       "      <td>4288</td>\n",
       "      <td>NaN</td>\n",
       "      <td>CC(=O)Nc1ccc(C(O)c2ccc(NC(C)=O)cc2)cc1</td>\n",
       "      <td>&lt;rdkit.Chem.rdchem.Mol object at 0x000001C8428...</td>\n",
       "    </tr>\n",
       "  </tbody>\n",
       "</table>\n",
       "</div>"
      ],
      "text/plain": [
       "   Unnamed: 0.1  Unnamed: 0   NSC  docking_score  \\\n",
       "0          1566        1576  2819            NaN   \n",
       "1          2337        2349  4288            NaN   \n",
       "\n",
       "                                             SMILES  \\\n",
       "0  Oc1cc(O)c2c(c1)O[C@H](c1ccc(O)c(O)c1)[C@@H](O)C2   \n",
       "1            CC(=O)Nc1ccc(C(O)c2ccc(NC(C)=O)cc2)cc1   \n",
       "\n",
       "                                           molecules  \n",
       "0  <rdkit.Chem.rdchem.Mol object at 0x000001C8428...  \n",
       "1  <rdkit.Chem.rdchem.Mol object at 0x000001C8428...  "
      ]
     },
     "execution_count": 3,
     "metadata": {},
     "output_type": "execute_result"
    }
   ],
   "source": [
    "data.head(2)"
   ]
  },
  {
   "cell_type": "code",
   "execution_count": 4,
   "metadata": {},
   "outputs": [
    {
     "name": "stdout",
     "output_type": "stream",
     "text": [
      "Computing features...\n",
      "Progress: [------------------------------------------------->] 100% (200/200)\n",
      "Feature computation completed.\n"
     ]
    }
   ],
   "source": [
    "featurizer = Featurizer(data)\n",
    "features = featurizer.featurize('mqn')"
   ]
  },
  {
   "cell_type": "code",
   "execution_count": 5,
   "metadata": {},
   "outputs": [],
   "source": [
    "X = features\n",
    "y = data['docking_score']\n",
    "ids = data['NSC']"
   ]
  },
  {
   "cell_type": "code",
   "execution_count": 6,
   "metadata": {},
   "outputs": [
    {
     "name": "stdout",
     "output_type": "stream",
     "text": [
      "[15  0  0  0  0  0  0  0  0  5  1 21  6  0  0 11  6  0  1 12  6  5  5  0\n",
      "  0  5  0  0  0  7  9  0  0  0  0  3  0  0  0  0  2  1]\n",
      "nan\n",
      "2819\n"
     ]
    }
   ],
   "source": [
    "print(X[0])\n",
    "print(y[0])\n",
    "print(ids[0])"
   ]
  },
  {
   "cell_type": "code",
   "execution_count": 7,
   "metadata": {},
   "outputs": [],
   "source": [
    "dataset_labeled = Dataset(X, y, ids, keep_unlabeled_data_only=False)\n",
    "dataset_unlabeled = Dataset(X, y, ids, keep_unlabeled_data_only=True)"
   ]
  },
  {
   "cell_type": "code",
   "execution_count": 8,
   "metadata": {},
   "outputs": [
    {
     "name": "stdout",
     "output_type": "stream",
     "text": [
      "<Dataset X.shape: (10, 42), y.shape: (10,), w.shape: (10,), ids: [16612 19139 43359 69356 109327 120688 133656 303769 320852 517865]>\n",
      "<Dataset X.shape: (190, 42), y.shape: (190,), w.shape: (190,), ids: [2819 4288 7333 8661 8662 9037 11870 16344 16725 16737 23173 24871 30844\n",
      " 36398 42520 43721 44070 48435 57655 59263 59264 59266 76988 80703 81746\n",
      " 92681 92682 93086 93087 96388 97309 106213 107124 114019 114777 114779\n",
      " 115535 115916 122416 143541 144693 150840 157811 164868 208730 212484\n",
      " 243012 248611 249911 258819 266185 270536 271296 274542 301745 301746\n",
      " 302378 309121 313173 319478 329245 329247 335772 342731 346197 353470\n",
      " 369395 372776 381277 381467 403168 403531 407060 407061 407063 407290\n",
      " 408383 600030 600964 605099 605545 605546 609957 614344 615480 617988\n",
      " 618929 621393 622337 625763 625899 629157 639989 640333 641051 641524\n",
      " 641599 641816 643196 645992 647349 649412 651657 651663 653037 653040\n",
      " 654784 654791 656272 656274 656275 657990 658705 658706 658715 658727\n",
      " 658728 659369 659371 663569 663666 666034 666591 666597 666600 666767\n",
      " 666854 668382 671185 671191 671192 671796 674038 674039 675004 675005\n",
      " 675466 676485 676489 676490 677582 678115 678117 680919 685593 687841\n",
      " 687843 687844 687846 690430 694230 698203 698802 699164 707084 708488\n",
      " 712915 713356 716195 720872 721156 721171 722756 722757 722975 724406\n",
      " 724662 725675 725926 726246 726247 728071 729141 729142 732070 741205\n",
      " 748744 757933 757934 761487 762147 766180 767232 767330 767332 767424\n",
      " 767702 768448 774658 780187]>\n"
     ]
    }
   ],
   "source": [
    "print(dataset_labeled)\n",
    "print(dataset_unlabeled)"
   ]
  },
  {
   "cell_type": "code",
   "execution_count": 9,
   "metadata": {},
   "outputs": [
    {
     "data": {
      "text/plain": [
       "10"
      ]
     },
     "execution_count": 9,
     "metadata": {},
     "output_type": "execute_result"
    }
   ],
   "source": [
    "dataset_labeled.y.shape[0]"
   ]
  },
  {
   "cell_type": "code",
   "execution_count": 10,
   "metadata": {},
   "outputs": [
    {
     "data": {
      "text/plain": [
       "'fatnoob'"
      ]
     },
     "execution_count": 10,
     "metadata": {},
     "output_type": "execute_result"
    }
   ],
   "source": [
    "class RandomClass():\n",
    "    def __init__(self, noob, meganoob=\"massnewbie\") -> None:\n",
    "        self.noob = noob\n",
    "        self.meganoob = meganoob\n",
    "        \n",
    "\n",
    "class RandomChildClass(RandomClass):\n",
    "    def __init__(self, noob, **kwargs) -> None:\n",
    "        super().__init__(noob, **kwargs)\n",
    "\n",
    "noob = RandomChildClass(\"newbie\", meganoob=\"fatnoob\")\n",
    "\n",
    "noob.meganoob"
   ]
  },
  {
   "cell_type": "code",
   "execution_count": 11,
   "metadata": {},
   "outputs": [
    {
     "data": {
      "text/plain": [
       "array([[15,  0,  0, ...,  0,  2,  1],\n",
       "       [17,  0,  0, ...,  0,  0,  0],\n",
       "       [16,  0,  0, ...,  0,  6,  3],\n",
       "       ...,\n",
       "       [20,  2,  0, ...,  0,  4,  2],\n",
       "       [23,  0,  0, ...,  0,  2,  1],\n",
       "       [19,  0,  1, ...,  0,  2,  1]])"
      ]
     },
     "execution_count": 11,
     "metadata": {},
     "output_type": "execute_result"
    }
   ],
   "source": [
    "dataset_unlabeled.X"
   ]
  },
  {
   "cell_type": "code",
   "execution_count": 23,
   "metadata": {},
   "outputs": [
    {
     "name": "stdout",
     "output_type": "stream",
     "text": [
      "y values of starting points [ -0.12  -0.51  -0.21 -42.12  -7.21  -5.22 -72.53 -30.21 -55.12  -6.82]\n"
     ]
    }
   ],
   "source": [
    "model_class = RFModeller(\n",
    "    dataset=dataset_labeled,\n",
    "    iterations=0,\n",
    "    initial_sample_size=dataset_labeled.y.shape[0],\n",
    "    acquisition_size=20,\n",
    "    )\n",
    "\n",
    "model = Model(model_class)\n",
    "model.train()\n",
    "acquired_points = model.get_acquired_points(dataset_unlabeled)\n",
    "\n",
    "# model_class.fit()\n",
    "\n",
    "# acquired_points = model_class.unlabeled_acquisition(model_class, dataset_unlabeled)"
   ]
  },
  {
   "cell_type": "code",
   "execution_count": 24,
   "metadata": {},
   "outputs": [
    {
     "data": {
      "text/plain": [
       "array([609957, 668382, 658728, 301746, 107124, 407060, 369395, 407061,\n",
       "       7333, 80703, 407063, 8662, 657990, 274542, 748744, 11870, 663666,\n",
       "       249911, 622337, 708488], dtype=object)"
      ]
     },
     "execution_count": 24,
     "metadata": {},
     "output_type": "execute_result"
    }
   ],
   "source": [
    "acquired_points.ids"
   ]
  }
 ],
 "metadata": {
  "kernelspec": {
   "display_name": "Python 3",
   "language": "python",
   "name": "python3"
  },
  "language_info": {
   "codemirror_mode": {
    "name": "ipython",
    "version": 3
   },
   "file_extension": ".py",
   "mimetype": "text/x-python",
   "name": "python",
   "nbconvert_exporter": "python",
   "pygments_lexer": "ipython3",
   "version": "3.8.10"
  },
  "orig_nbformat": 4
 },
 "nbformat": 4,
 "nbformat_minor": 2
}

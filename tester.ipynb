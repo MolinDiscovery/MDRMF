{
 "cells": [
  {
   "cell_type": "code",
   "execution_count": 1,
   "metadata": {},
   "outputs": [],
   "source": [
    "import MDRMF as mf\n",
    "from MDRMF import Model\n",
    "from MDRMF.models import RFModeller\n",
    "from matplotlib import pyplot as plt"
   ]
  },
  {
   "cell_type": "code",
   "execution_count": 2,
   "metadata": {},
   "outputs": [],
   "source": [
    "data = mf.MoleculeLoader(datafile=\"10K.csv\", smi_col=\"SMILES\", scores_col=\"r_i_docking_score\").df\n",
    "feat = mf.Featurizer(data)\n",
    "features = feat.featurize(\"morgan\", radius=2, nBits=256)"
   ]
  },
  {
   "cell_type": "code",
   "execution_count": 3,
   "metadata": {},
   "outputs": [
    {
     "data": {
      "text/html": [
       "<div>\n",
       "<style scoped>\n",
       "    .dataframe tbody tr th:only-of-type {\n",
       "        vertical-align: middle;\n",
       "    }\n",
       "\n",
       "    .dataframe tbody tr th {\n",
       "        vertical-align: top;\n",
       "    }\n",
       "\n",
       "    .dataframe thead th {\n",
       "        text-align: right;\n",
       "    }\n",
       "</style>\n",
       "<table border=\"1\" class=\"dataframe\">\n",
       "  <thead>\n",
       "    <tr style=\"text-align: right;\">\n",
       "      <th></th>\n",
       "      <th>Unnamed: 0</th>\n",
       "      <th>i_i_glide_lignum</th>\n",
       "      <th>r_i_docking_score</th>\n",
       "      <th>SMILES</th>\n",
       "      <th>molecules</th>\n",
       "    </tr>\n",
       "  </thead>\n",
       "  <tbody>\n",
       "    <tr>\n",
       "      <th>0</th>\n",
       "      <td>0</td>\n",
       "      <td>13477</td>\n",
       "      <td>-13.126800</td>\n",
       "      <td>C[C@@H](NC(=O)N1C[C@H](c2ccccc2)[C@H]2COCC[C@H...</td>\n",
       "      <td>&lt;rdkit.Chem.rdchem.Mol object at 0x00000251DEE...</td>\n",
       "    </tr>\n",
       "    <tr>\n",
       "      <th>1</th>\n",
       "      <td>1</td>\n",
       "      <td>516</td>\n",
       "      <td>-12.662900</td>\n",
       "      <td>O=C(Nc1cccc(C(=O)N2CCC(c3c[nH]c4ncccc34)CC2)c1...</td>\n",
       "      <td>&lt;rdkit.Chem.rdchem.Mol object at 0x00000251DEE...</td>\n",
       "    </tr>\n",
       "    <tr>\n",
       "      <th>2</th>\n",
       "      <td>2</td>\n",
       "      <td>9425</td>\n",
       "      <td>-12.487000</td>\n",
       "      <td>Cc1nn(-c2ccccc2)c2nc(C(=O)N3CCC([C@H]4C(=O)Nc5...</td>\n",
       "      <td>&lt;rdkit.Chem.rdchem.Mol object at 0x00000251DEE...</td>\n",
       "    </tr>\n",
       "    <tr>\n",
       "      <th>3</th>\n",
       "      <td>3</td>\n",
       "      <td>14512</td>\n",
       "      <td>-12.483500</td>\n",
       "      <td>Cc1cc(C)cc(C(=O)N2CCC[C@H](C(=O)NCc3cccc([C@@]...</td>\n",
       "      <td>&lt;rdkit.Chem.rdchem.Mol object at 0x00000251DEE...</td>\n",
       "    </tr>\n",
       "    <tr>\n",
       "      <th>4</th>\n",
       "      <td>4</td>\n",
       "      <td>9615</td>\n",
       "      <td>-12.478500</td>\n",
       "      <td>CS(=O)(=O)c1ccc(F)c(C(=O)Nc2ccc(-c3nc(-c4ccccc...</td>\n",
       "      <td>&lt;rdkit.Chem.rdchem.Mol object at 0x00000251DEE...</td>\n",
       "    </tr>\n",
       "    <tr>\n",
       "      <th>...</th>\n",
       "      <td>...</td>\n",
       "      <td>...</td>\n",
       "      <td>...</td>\n",
       "      <td>...</td>\n",
       "      <td>...</td>\n",
       "    </tr>\n",
       "    <tr>\n",
       "      <th>9893</th>\n",
       "      <td>9893</td>\n",
       "      <td>2451</td>\n",
       "      <td>-0.560302</td>\n",
       "      <td>O=C([O-])C(F)(F)F</td>\n",
       "      <td>&lt;rdkit.Chem.rdchem.Mol object at 0x00000251E9C...</td>\n",
       "    </tr>\n",
       "    <tr>\n",
       "      <th>9894</th>\n",
       "      <td>9894</td>\n",
       "      <td>7813</td>\n",
       "      <td>-0.384887</td>\n",
       "      <td>Cc1cnn(C)c1S(=O)(=O)NC[C@@H](Cc1ccccn1)C(=O)[O-]</td>\n",
       "      <td>&lt;rdkit.Chem.rdchem.Mol object at 0x00000251E9C...</td>\n",
       "    </tr>\n",
       "    <tr>\n",
       "      <th>9895</th>\n",
       "      <td>9895</td>\n",
       "      <td>11442</td>\n",
       "      <td>-0.269109</td>\n",
       "      <td>Cn1cccc(C(=O)N2CCN(C3CC3)c3ccc(Cl)cc32)c1=O</td>\n",
       "      <td>&lt;rdkit.Chem.rdchem.Mol object at 0x00000251E9C...</td>\n",
       "    </tr>\n",
       "    <tr>\n",
       "      <th>9896</th>\n",
       "      <td>9896</td>\n",
       "      <td>13971</td>\n",
       "      <td>-0.150473</td>\n",
       "      <td>O=C([O-])[C@H]1CC[C@@H](C(=O)N2CCCc3ccccc32)CC1</td>\n",
       "      <td>&lt;rdkit.Chem.rdchem.Mol object at 0x00000251E9C...</td>\n",
       "    </tr>\n",
       "    <tr>\n",
       "      <th>9897</th>\n",
       "      <td>9897</td>\n",
       "      <td>11630</td>\n",
       "      <td>-0.145596</td>\n",
       "      <td>CCNS(=O)(=O)c1cc(NCCOC)ccn1</td>\n",
       "      <td>&lt;rdkit.Chem.rdchem.Mol object at 0x00000251E9C...</td>\n",
       "    </tr>\n",
       "  </tbody>\n",
       "</table>\n",
       "<p>9898 rows × 5 columns</p>\n",
       "</div>"
      ],
      "text/plain": [
       "      Unnamed: 0  i_i_glide_lignum  r_i_docking_score  \\\n",
       "0              0             13477         -13.126800   \n",
       "1              1               516         -12.662900   \n",
       "2              2              9425         -12.487000   \n",
       "3              3             14512         -12.483500   \n",
       "4              4              9615         -12.478500   \n",
       "...          ...               ...                ...   \n",
       "9893        9893              2451          -0.560302   \n",
       "9894        9894              7813          -0.384887   \n",
       "9895        9895             11442          -0.269109   \n",
       "9896        9896             13971          -0.150473   \n",
       "9897        9897             11630          -0.145596   \n",
       "\n",
       "                                                 SMILES  \\\n",
       "0     C[C@@H](NC(=O)N1C[C@H](c2ccccc2)[C@H]2COCC[C@H...   \n",
       "1     O=C(Nc1cccc(C(=O)N2CCC(c3c[nH]c4ncccc34)CC2)c1...   \n",
       "2     Cc1nn(-c2ccccc2)c2nc(C(=O)N3CCC([C@H]4C(=O)Nc5...   \n",
       "3     Cc1cc(C)cc(C(=O)N2CCC[C@H](C(=O)NCc3cccc([C@@]...   \n",
       "4     CS(=O)(=O)c1ccc(F)c(C(=O)Nc2ccc(-c3nc(-c4ccccc...   \n",
       "...                                                 ...   \n",
       "9893                                  O=C([O-])C(F)(F)F   \n",
       "9894   Cc1cnn(C)c1S(=O)(=O)NC[C@@H](Cc1ccccn1)C(=O)[O-]   \n",
       "9895        Cn1cccc(C(=O)N2CCN(C3CC3)c3ccc(Cl)cc32)c1=O   \n",
       "9896    O=C([O-])[C@H]1CC[C@@H](C(=O)N2CCCc3ccccc32)CC1   \n",
       "9897                        CCNS(=O)(=O)c1cc(NCCOC)ccn1   \n",
       "\n",
       "                                              molecules  \n",
       "0     <rdkit.Chem.rdchem.Mol object at 0x00000251DEE...  \n",
       "1     <rdkit.Chem.rdchem.Mol object at 0x00000251DEE...  \n",
       "2     <rdkit.Chem.rdchem.Mol object at 0x00000251DEE...  \n",
       "3     <rdkit.Chem.rdchem.Mol object at 0x00000251DEE...  \n",
       "4     <rdkit.Chem.rdchem.Mol object at 0x00000251DEE...  \n",
       "...                                                 ...  \n",
       "9893  <rdkit.Chem.rdchem.Mol object at 0x00000251E9C...  \n",
       "9894  <rdkit.Chem.rdchem.Mol object at 0x00000251E9C...  \n",
       "9895  <rdkit.Chem.rdchem.Mol object at 0x00000251E9C...  \n",
       "9896  <rdkit.Chem.rdchem.Mol object at 0x00000251E9C...  \n",
       "9897  <rdkit.Chem.rdchem.Mol object at 0x00000251E9C...  \n",
       "\n",
       "[9898 rows x 5 columns]"
      ]
     },
     "execution_count": 3,
     "metadata": {},
     "output_type": "execute_result"
    }
   ],
   "source": [
    "data"
   ]
  },
  {
   "cell_type": "code",
   "execution_count": 4,
   "metadata": {},
   "outputs": [
    {
     "data": {
      "text/plain": [
       "array([[0, 1, 0, ..., 1, 0, 1],\n",
       "       [0, 1, 0, ..., 0, 0, 0],\n",
       "       [0, 0, 0, ..., 0, 0, 0],\n",
       "       ...,\n",
       "       [0, 0, 0, ..., 0, 0, 0],\n",
       "       [0, 0, 0, ..., 0, 0, 1],\n",
       "       [0, 0, 1, ..., 0, 0, 0]], dtype=int8)"
      ]
     },
     "execution_count": 4,
     "metadata": {},
     "output_type": "execute_result"
    }
   ],
   "source": [
    "features"
   ]
  },
  {
   "cell_type": "code",
   "execution_count": 5,
   "metadata": {},
   "outputs": [],
   "source": [
    "X = features\n",
    "y = data['r_i_docking_score']\n",
    "ids = data['SMILES']\n",
    "\n",
    "dataset_model = mf.Dataset(X=X, y=y, ids=ids)"
   ]
  },
  {
   "cell_type": "code",
   "execution_count": 12,
   "metadata": {},
   "outputs": [
    {
     "data": {
      "text/plain": [
       "array([[0, 1, 0, ..., 1, 0, 1],\n",
       "       [0, 1, 0, ..., 0, 0, 0],\n",
       "       [0, 0, 0, ..., 0, 0, 0],\n",
       "       ...,\n",
       "       [0, 0, 0, ..., 0, 0, 0],\n",
       "       [0, 0, 0, ..., 0, 0, 1],\n",
       "       [0, 0, 1, ..., 0, 0, 0]], dtype=int8)"
      ]
     },
     "execution_count": 12,
     "metadata": {},
     "output_type": "execute_result"
    }
   ],
   "source": [
    "X"
   ]
  },
  {
   "cell_type": "code",
   "execution_count": 6,
   "metadata": {},
   "outputs": [
    {
     "data": {
      "text/plain": [
       "array([[0, 1, 0, ..., 1, 0, 1],\n",
       "       [0, 1, 0, ..., 0, 0, 0],\n",
       "       [0, 0, 0, ..., 0, 0, 0],\n",
       "       ...,\n",
       "       [0, 0, 0, ..., 0, 0, 0],\n",
       "       [0, 0, 0, ..., 0, 0, 1],\n",
       "       [0, 0, 1, ..., 0, 0, 0]], dtype=int8)"
      ]
     },
     "execution_count": 6,
     "metadata": {},
     "output_type": "execute_result"
    }
   ],
   "source": [
    "dataset_model.X"
   ]
  },
  {
   "cell_type": "code",
   "execution_count": 7,
   "metadata": {},
   "outputs": [],
   "source": [
    "metrics = ['top-k']\n",
    "k_values = ['100']\n",
    "eval = mf.Evaluator(dataset_model, metrics, k_values)"
   ]
  },
  {
   "cell_type": "code",
   "execution_count": 8,
   "metadata": {},
   "outputs": [],
   "source": [
    "dataset_model = mf.Dataset(X=X, y=y, ids=ids)\n",
    "rf_model = RFModeller(\n",
    "    dataset=dataset_model,\n",
    "    evaluator=eval,\n",
    "    iterations=60,\n",
    "    initial_sample_size=30,\n",
    "    acquisition_size=30,\n",
    "    acquisition_method=\"greedy\",\n",
    "    n_estimators=50\n",
    ")"
   ]
  },
  {
   "cell_type": "code",
   "execution_count": 9,
   "metadata": {},
   "outputs": [],
   "source": [
    "model = Model(model=rf_model)\n",
    "#model.train()"
   ]
  },
  {
   "cell_type": "code",
   "execution_count": 10,
   "metadata": {},
   "outputs": [
    {
     "data": {
      "text/plain": [
       "<Dataset X.shape: (9898, 256), y.shape: (9898,), w.shape: (9898,), ids: ['C[C@@H](NC(=O)N1C[C@H](c2ccccc2)[C@H]2COCC[C@H]21)c1ccc(NC(=O)NC2CC2)cc1'\n",
       " 'O=C(Nc1cccc(C(=O)N2CCC(c3c[nH]c4ncccc34)CC2)c1)[C@@H]1Cc2ccccc2O1'\n",
       " 'Cc1nn(-c2ccccc2)c2nc(C(=O)N3CCC([C@H]4C(=O)Nc5ccccc54)CC3)ccc12' ...\n",
       " 'Cn1cccc(C(=O)N2CCN(C3CC3)c3ccc(Cl)cc32)c1=O'\n",
       " 'O=C([O-])[C@H]1CC[C@@H](C(=O)N2CCCc3ccccc32)CC1'\n",
       " 'CCNS(=O)(=O)c1cc(NCCOC)ccn1']>"
      ]
     },
     "execution_count": 10,
     "metadata": {},
     "output_type": "execute_result"
    }
   ],
   "source": [
    "dataset_model"
   ]
  },
  {
   "cell_type": "code",
   "execution_count": 11,
   "metadata": {},
   "outputs": [
    {
     "data": {
      "text/plain": [
       "<Dataset X.shape: (9898, 256), y.shape: (9898,), w.shape: (9898,), ids: ['C[C@@H](NC(=O)N1C[C@H](c2ccccc2)[C@H]2COCC[C@H]21)c1ccc(NC(=O)NC2CC2)cc1'\n",
       " 'O=C(Nc1cccc(C(=O)N2CCC(c3c[nH]c4ncccc34)CC2)c1)[C@@H]1Cc2ccccc2O1'\n",
       " 'Cc1nn(-c2ccccc2)c2nc(C(=O)N3CCC([C@H]4C(=O)Nc5ccccc54)CC3)ccc12' ...\n",
       " 'Cn1cccc(C(=O)N2CCN(C3CC3)c3ccc(Cl)cc32)c1=O'\n",
       " 'O=C([O-])[C@H]1CC[C@@H](C(=O)N2CCCc3ccccc32)CC1'\n",
       " 'CCNS(=O)(=O)c1cc(NCCOC)ccn1']>"
      ]
     },
     "execution_count": 11,
     "metadata": {},
     "output_type": "execute_result"
    }
   ],
   "source": [
    "model.model.dataset"
   ]
  },
  {
   "cell_type": "code",
   "execution_count": null,
   "metadata": {},
   "outputs": [],
   "source": []
  }
 ],
 "metadata": {
  "kernelspec": {
   "display_name": "Python 3",
   "language": "python",
   "name": "python3"
  },
  "language_info": {
   "codemirror_mode": {
    "name": "ipython",
    "version": 3
   },
   "file_extension": ".py",
   "mimetype": "text/x-python",
   "name": "python",
   "nbconvert_exporter": "python",
   "pygments_lexer": "ipython3",
   "version": "3.8.10"
  },
  "orig_nbformat": 4
 },
 "nbformat": 4,
 "nbformat_minor": 2
}

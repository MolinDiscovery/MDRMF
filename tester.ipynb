{
 "cells": [
  {
   "cell_type": "code",
   "execution_count": 1,
   "metadata": {},
   "outputs": [],
   "source": [
    "import MDRMF as mf\n",
    "from MDRMF import Model\n",
    "from MDRMF.models import RFModeller\n",
    "from matplotlib import pyplot as plt"
   ]
  },
  {
   "cell_type": "code",
   "execution_count": 2,
   "metadata": {},
   "outputs": [],
   "source": [
    "data = mf.MoleculeLoader(datafile=\"10K.csv\", smi_col=\"SMILES\", scores_col=\"r_i_docking_score\").df\n",
    "feat = mf.Featurizer(data)\n",
    "features = feat.featurize(\"morgan\", radius=2, nBits=256)"
   ]
  },
  {
   "cell_type": "code",
   "execution_count": 3,
   "metadata": {},
   "outputs": [],
   "source": [
    "X = features\n",
    "y = data['r_i_docking_score']\n",
    "ids = data['SMILES']\n",
    "\n",
    "dataset_model = mf.Dataset(X=X, y=y, ids=ids)"
   ]
  },
  {
   "cell_type": "code",
   "execution_count": 4,
   "metadata": {},
   "outputs": [
    {
     "data": {
      "text/plain": [
       "<Dataset X.shape: (9898, 256), y.shape: (9898,), w.shape: (9898,), ids: ['C[C@@H](NC(=O)N1C[C@H](c2ccccc2)[C@H]2COCC[C@H]21)c1ccc(NC(=O)NC2CC2)cc1'\n",
       " 'O=C(Nc1cccc(C(=O)N2CCC(c3c[nH]c4ncccc34)CC2)c1)[C@@H]1Cc2ccccc2O1'\n",
       " 'Cc1nn(-c2ccccc2)c2nc(C(=O)N3CCC([C@H]4C(=O)Nc5ccccc54)CC3)ccc12' ...\n",
       " 'Cn1cccc(C(=O)N2CCN(C3CC3)c3ccc(Cl)cc32)c1=O'\n",
       " 'O=C([O-])[C@H]1CC[C@@H](C(=O)N2CCCc3ccccc32)CC1'\n",
       " 'CCNS(=O)(=O)c1cc(NCCOC)ccn1']>"
      ]
     },
     "execution_count": 4,
     "metadata": {},
     "output_type": "execute_result"
    }
   ],
   "source": [
    "dataset_model"
   ]
  },
  {
   "cell_type": "code",
   "execution_count": 5,
   "metadata": {},
   "outputs": [],
   "source": [
    "metrics = ['top-k']\n",
    "k_values = ['100']\n",
    "eval = mf.Evaluator(dataset_model, metrics, k_values)"
   ]
  },
  {
   "cell_type": "code",
   "execution_count": 6,
   "metadata": {},
   "outputs": [],
   "source": [
    "dataset_model = mf.Dataset(X=X, y=y, ids=ids)\n",
    "rf_model = RFModeller(\n",
    "    dataset=dataset_model,\n",
    "    evaluator=eval,\n",
    "    iterations=60,\n",
    "    initial_sample_size=30,\n",
    "    acquisition_size=30,\n",
    "    acquisition_method=\"greedy\",\n",
    "    n_estimators=50\n",
    ")"
   ]
  },
  {
   "cell_type": "code",
   "execution_count": 7,
   "metadata": {},
   "outputs": [
    {
     "name": "stdout",
     "output_type": "stream",
     "text": [
      "Iteration 1, Results: {'top-100': 0.06}\n",
      "Iteration 2, Results: {'top-100': 0.06}\n",
      "Iteration 3, Results: {'top-100': 0.07}\n",
      "Iteration 4, Results: {'top-100': 0.1}\n",
      "Iteration 5, Results: {'top-100': 0.1}\n",
      "Iteration 6, Results: {'top-100': 0.12}\n",
      "Iteration 7, Results: {'top-100': 0.13}\n",
      "Iteration 8, Results: {'top-100': 0.13}\n",
      "Iteration 9, Results: {'top-100': 0.14}\n",
      "Iteration 10, Results: {'top-100': 0.14}\n",
      "Iteration 11, Results: {'top-100': 0.14}\n",
      "Iteration 12, Results: {'top-100': 0.16}\n",
      "Iteration 13, Results: {'top-100': 0.16}\n",
      "Iteration 14, Results: {'top-100': 0.16}\n",
      "Iteration 15, Results: {'top-100': 0.16}\n",
      "Iteration 16, Results: {'top-100': 0.18}\n",
      "Iteration 17, Results: {'top-100': 0.2}\n",
      "Iteration 18, Results: {'top-100': 0.21}\n",
      "Iteration 19, Results: {'top-100': 0.21}\n",
      "Iteration 20, Results: {'top-100': 0.23}\n",
      "Iteration 21, Results: {'top-100': 0.23}\n",
      "Iteration 22, Results: {'top-100': 0.25}\n",
      "Iteration 23, Results: {'top-100': 0.26}\n",
      "Iteration 24, Results: {'top-100': 0.29}\n",
      "Iteration 25, Results: {'top-100': 0.28}\n",
      "Iteration 26, Results: {'top-100': 0.3}\n",
      "Iteration 27, Results: {'top-100': 0.32}\n",
      "Iteration 28, Results: {'top-100': 0.34}\n",
      "Iteration 29, Results: {'top-100': 0.35}\n",
      "Iteration 30, Results: {'top-100': 0.36}\n",
      "Iteration 31, Results: {'top-100': 0.36}\n",
      "Iteration 32, Results: {'top-100': 0.37}\n",
      "Iteration 33, Results: {'top-100': 0.36}\n",
      "Iteration 34, Results: {'top-100': 0.37}\n",
      "Iteration 35, Results: {'top-100': 0.36}\n",
      "Iteration 36, Results: {'top-100': 0.36}\n",
      "Iteration 37, Results: {'top-100': 0.35}\n",
      "Iteration 38, Results: {'top-100': 0.35}\n",
      "Iteration 39, Results: {'top-100': 0.37}\n",
      "Iteration 40, Results: {'top-100': 0.36}\n",
      "Iteration 41, Results: {'top-100': 0.34}\n",
      "Iteration 42, Results: {'top-100': 0.36}\n",
      "Iteration 43, Results: {'top-100': 0.35}\n",
      "Iteration 44, Results: {'top-100': 0.37}\n",
      "Iteration 45, Results: {'top-100': 0.38}\n",
      "Iteration 46, Results: {'top-100': 0.36}\n",
      "Iteration 47, Results: {'top-100': 0.38}\n",
      "Iteration 48, Results: {'top-100': 0.39}\n",
      "Iteration 49, Results: {'top-100': 0.38}\n",
      "Iteration 50, Results: {'top-100': 0.4}\n",
      "Iteration 51, Results: {'top-100': 0.42}\n",
      "Iteration 52, Results: {'top-100': 0.44}\n",
      "Iteration 53, Results: {'top-100': 0.48}\n",
      "Iteration 54, Results: {'top-100': 0.51}\n",
      "Iteration 55, Results: {'top-100': 0.57}\n",
      "Iteration 56, Results: {'top-100': 0.55}\n",
      "Iteration 57, Results: {'top-100': 0.56}\n",
      "Iteration 58, Results: {'top-100': 0.54}\n",
      "Iteration 59, Results: {'top-100': 0.58}\n",
      "Iteration 60, Results: {'top-100': 0.59}\n"
     ]
    }
   ],
   "source": [
    "model = Model(model=rf_model)\n",
    "model.train()"
   ]
  },
  {
   "cell_type": "code",
   "execution_count": 8,
   "metadata": {},
   "outputs": [
    {
     "data": {
      "text/plain": [
       "<Dataset X.shape: (9898, 256), y.shape: (9898,), w.shape: (9898,), ids: ['C[C@@H](NC(=O)N1C[C@H](c2ccccc2)[C@H]2COCC[C@H]21)c1ccc(NC(=O)NC2CC2)cc1'\n",
       " 'O=C(Nc1cccc(C(=O)N2CCC(c3c[nH]c4ncccc34)CC2)c1)[C@@H]1Cc2ccccc2O1'\n",
       " 'Cc1nn(-c2ccccc2)c2nc(C(=O)N3CCC([C@H]4C(=O)Nc5ccccc54)CC3)ccc12' ...\n",
       " 'Cn1cccc(C(=O)N2CCN(C3CC3)c3ccc(Cl)cc32)c1=O'\n",
       " 'O=C([O-])[C@H]1CC[C@@H](C(=O)N2CCCc3ccccc32)CC1'\n",
       " 'CCNS(=O)(=O)c1cc(NCCOC)ccn1']>"
      ]
     },
     "execution_count": 8,
     "metadata": {},
     "output_type": "execute_result"
    }
   ],
   "source": [
    "dataset_model"
   ]
  },
  {
   "cell_type": "code",
   "execution_count": 9,
   "metadata": {},
   "outputs": [
    {
     "data": {
      "text/plain": [
       "<Dataset X.shape: (8068, 256), y.shape: (8068,), w.shape: (8068,), ids: ['O=C(Nc1cccc(C(=O)N2CCC(c3c[nH]c4ncccc34)CC2)c1)[C@@H]1Cc2ccccc2O1'\n",
       " 'CS(=O)(=O)c1ccc(F)c(C(=O)Nc2ccc(-c3nc(-c4ccccc4)n[nH]3)cc2)c1'\n",
       " 'NC(=O)[C@H]1CCCN(c2ccc(C(=O)N3CCC(c4cc5ccccc5[nH]4)CC3)cc2)C1' ...\n",
       " 'Cc1cnn(C)c1S(=O)(=O)NC[C@@H](Cc1ccccn1)C(=O)[O-]'\n",
       " 'O=C([O-])[C@H]1CC[C@@H](C(=O)N2CCCc3ccccc32)CC1'\n",
       " 'CCNS(=O)(=O)c1cc(NCCOC)ccn1']>"
      ]
     },
     "execution_count": 9,
     "metadata": {},
     "output_type": "execute_result"
    }
   ],
   "source": [
    "model.model.dataset"
   ]
  }
 ],
 "metadata": {
  "kernelspec": {
   "display_name": "Python 3",
   "language": "python",
   "name": "python3"
  },
  "language_info": {
   "codemirror_mode": {
    "name": "ipython",
    "version": 3
   },
   "file_extension": ".py",
   "mimetype": "text/x-python",
   "name": "python",
   "nbconvert_exporter": "python",
   "pygments_lexer": "ipython3",
   "version": "3.8.10"
  },
  "orig_nbformat": 4
 },
 "nbformat": 4,
 "nbformat_minor": 2
}

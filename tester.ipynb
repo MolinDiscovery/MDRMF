{
 "cells": [
  {
   "cell_type": "code",
   "execution_count": 2,
   "metadata": {},
   "outputs": [],
   "source": [
    "import numpy as np"
   ]
  },
  {
   "cell_type": "code",
   "execution_count": 7,
   "metadata": {},
   "outputs": [],
   "source": [
    "arr1 = np.array([1, 3, 5, 8])\n",
    "arr2 = np.array([1, 4, 5, 9])\n",
    "arr3 = np.array([9, 5, 3, 2])"
   ]
  },
  {
   "cell_type": "code",
   "execution_count": 13,
   "metadata": {},
   "outputs": [
    {
     "data": {
      "text/plain": [
       "array([ True, False, False,  True])"
      ]
     },
     "execution_count": 13,
     "metadata": {},
     "output_type": "execute_result"
    }
   ],
   "source": [
    "true_me = np.isin(arr1, arr3, invert=True)\n",
    "true_me"
   ]
  },
  {
   "cell_type": "code",
   "execution_count": 14,
   "metadata": {},
   "outputs": [],
   "source": [
    "noob = \"noob\"\n",
    "noob1 = \"noob1\""
   ]
  },
  {
   "cell_type": "code",
   "execution_count": 17,
   "metadata": {},
   "outputs": [
    {
     "name": "stdout",
     "output_type": "stream",
     "text": [
      "noob\n"
     ]
    }
   ],
   "source": [
    "if noob == \"noob\":\n",
    "    print(noob)\n",
    "elif noob1 == \"noob1\":\n",
    "    print(noob1)"
   ]
  },
  {
   "cell_type": "code",
   "execution_count": 18,
   "metadata": {},
   "outputs": [],
   "source": [
    "y_true = [-12.6629  -12.0921  -11.712   -10.4558  -11.4405  -11.4212  -11.4503\n",
    " -11.6368  -11.4982  -11.7684  -11.7604  -10.7494  -10.8044  -11.2497\n",
    " -11.4895  -12.0323  -11.2327  -11.4158  -11.0029  -11.1425  -11.208\n",
    " -10.7851  -10.963   -11.3184  -10.9386  -11.0161  -10.8287  -11.094\n",
    " -10.8468  -10.7572  -10.8458  -11.1544  -10.7044  -10.9825  -10.8618\n",
    " -10.3827  -10.6054  -10.6133  -10.0682  -10.7319  -10.7359  -10.5868\n",
    " -10.3491  -10.5518  -10.6733  -10.8114  -10.5383  -10.5661  -10.7406\n",
    " -10.3962  -10.2192  -10.0984   -9.88886 -10.1059  -10.7421  -10.5682\n",
    " -10.6166  -10.4829  -10.7092  -10.3909  -10.4256   -9.81056 -10.5455\n",
    " -10.3011  -10.3162  -10.5463  -10.9348   -9.76958  -9.90383 -10.3181\n",
    " -10.7397  -10.2695  -10.4968  -10.3868  -10.4434  -10.2863  -10.545\n",
    " -10.1776  -10.4174  -10.3632  -10.4561  -10.5156  -10.3458  -10.0995\n",
    " -10.0139   -9.97559  -9.73212 -10.1953  -10.0452  -10.1555   -9.78553\n",
    " -10.428   -10.1544  -10.2542  -10.7282  -10.2034  -10.1199   -9.62462\n",
    " -10.25    -10.227  ]"
   ]
  }
 ],
 "metadata": {
  "kernelspec": {
   "display_name": "Python 3",
   "language": "python",
   "name": "python3"
  },
  "language_info": {
   "codemirror_mode": {
    "name": "ipython",
    "version": 3
   },
   "file_extension": ".py",
   "mimetype": "text/x-python",
   "name": "python",
   "nbconvert_exporter": "python",
   "pygments_lexer": "ipython3",
   "version": "3.8.10"
  },
  "orig_nbformat": 4
 },
 "nbformat": 4,
 "nbformat_minor": 2
}

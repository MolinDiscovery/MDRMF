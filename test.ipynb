{
 "cells": [
  {
   "cell_type": "code",
   "execution_count": 6,
   "metadata": {},
   "outputs": [
    {
     "ename": "NameError",
     "evalue": "name 'm' is not defined",
     "output_type": "error",
     "traceback": [
      "\u001b[1;31m---------------------------------------------------------------------------\u001b[0m",
      "\u001b[1;31mNameError\u001b[0m                                 Traceback (most recent call last)",
      "\u001b[1;32mc:\\Users\\xsj110\\Development\\MDRMF\\test.ipynb Cell 1\u001b[0m line \u001b[0;36m3\n\u001b[0;32m      <a href='vscode-notebook-cell:/c%3A/Users/xsj110/Development/MDRMF/test.ipynb#W0sZmlsZQ%3D%3D?line=0'>1</a>\u001b[0m \u001b[39mfrom\u001b[39;00m \u001b[39mrdkit\u001b[39;00m\u001b[39m.\u001b[39;00m\u001b[39mChem\u001b[39;00m \u001b[39mimport\u001b[39;00m rdMolDescriptors\n\u001b[1;32m----> <a href='vscode-notebook-cell:/c%3A/Users/xsj110/Development/MDRMF/test.ipynb#W0sZmlsZQ%3D%3D?line=2'>3</a>\u001b[0m ds \u001b[39m=\u001b[39m rdMolDescriptors\u001b[39m.\u001b[39mMQNs_(m) \n",
      "\u001b[1;31mNameError\u001b[0m: name 'm' is not defined"
     ]
    }
   ],
   "source": [
    "from rdkit.Chem import rdMolDescriptors\n",
    "\n",
    "ds = rdMolDescriptors.MQNs_"
   ]
  }
 ],
 "metadata": {
  "kernelspec": {
   "display_name": "Python 3",
   "language": "python",
   "name": "python3"
  },
  "language_info": {
   "codemirror_mode": {
    "name": "ipython",
    "version": 3
   },
   "file_extension": ".py",
   "mimetype": "text/x-python",
   "name": "python",
   "nbconvert_exporter": "python",
   "pygments_lexer": "ipython3",
   "version": "3.8.10"
  }
 },
 "nbformat": 4,
 "nbformat_minor": 2
}

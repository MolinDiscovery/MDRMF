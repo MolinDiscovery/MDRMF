{
 "cells": [
  {
   "cell_type": "code",
   "execution_count": 1,
   "metadata": {},
   "outputs": [],
   "source": [
    "from MDRMF.experimenter import Experimenter"
   ]
  },
  {
   "cell_type": "code",
   "execution_count": 2,
   "metadata": {},
   "outputs": [],
   "source": [
    "experiment = Experimenter(\"test.yaml\")"
   ]
  },
  {
   "cell_type": "code",
   "execution_count": 3,
   "metadata": {},
   "outputs": [
    {
     "name": "stdout",
     "output_type": "stream",
     "text": [
      "Running Experiment Exp01 replicate 1\n",
      "y values of starting points [ -7.52767  -7.88607  -8.89508  -8.7778   -6.68407  -8.113    -4.90155\n",
      "  -8.20819  -8.90316  -6.48802  -8.01407  -9.75263  -5.47871  -9.45047\n",
      "  -5.50634  -9.30651  -7.86616  -9.26659  -9.22475  -7.2096   -9.7495\n",
      "  -9.11666  -8.07733  -6.16857 -10.7325   -7.73654  -8.24844  -6.69797\n",
      "  -4.03828  -7.88048]\n",
      "Iteration 1, Results: {'top-100': 0.02}\n",
      "Iteration 2, Results: {'top-100': 0.05}\n",
      "Iteration 3, Results: {'top-100': 0.03}\n",
      "Iteration 4, Results: {'top-100': 0.05}\n",
      "Iteration 5, Results: {'top-100': 0.06}\n",
      "Iteration 6, Results: {'top-100': 0.08}\n",
      "Iteration 7, Results: {'top-100': 0.11}\n",
      "Iteration 8, Results: {'top-100': 0.14}\n",
      "Iteration 9, Results: {'top-100': 0.16}\n",
      "Iteration 10, Results: {'top-100': 0.16}\n",
      "Running Experiment Exp01 replicate 2\n",
      "y values of starting points [ -6.68653  -7.72225  -9.08345  -8.63705  -6.16638  -8.37969  -5.60065\n",
      "  -8.57049  -8.98796  -7.53468  -7.72439  -5.76329  -7.98271  -8.986\n",
      "  -9.69585  -7.79871  -8.8267   -8.29721  -9.12875  -6.40102 -10.5193\n",
      "  -7.75998  -6.82475 -10.4101   -7.4964   -7.30729  -9.95174  -9.32483\n",
      "  -8.69731  -7.68399]\n",
      "Iteration 1, Results: {'top-100': 0.04}\n",
      "Iteration 2, Results: {'top-100': 0.04}\n",
      "Iteration 3, Results: {'top-100': 0.07}\n",
      "Iteration 4, Results: {'top-100': 0.1}\n",
      "Iteration 5, Results: {'top-100': 0.12}\n",
      "Iteration 6, Results: {'top-100': 0.16}\n",
      "Iteration 7, Results: {'top-100': 0.17}\n",
      "Iteration 8, Results: {'top-100': 0.2}\n",
      "Iteration 9, Results: {'top-100': 0.23}\n",
      "Iteration 10, Results: {'top-100': 0.25}\n",
      "Running Experiment Exp01 replicate 3\n",
      "y values of starting points [-7.03373 -7.46127 -8.97936 -8.84256 -8.22106 -6.42958 -7.21001 -8.63978\n",
      " -9.2921  -7.01126 -8.05925 -7.92993 -8.58359 -8.64993 -9.30796 -6.87561\n",
      " -9.07708 -9.17652 -7.70613 -6.21764 -7.18615 -7.41346 -7.59863 -7.89851\n",
      " -7.35252 -7.83649 -7.18567 -9.91307 -9.29456 -7.56007]\n",
      "Iteration 1, Results: {'top-100': 0.04}\n",
      "Iteration 2, Results: {'top-100': 0.09}\n",
      "Iteration 3, Results: {'top-100': 0.09}\n",
      "Iteration 4, Results: {'top-100': 0.09}\n",
      "Iteration 5, Results: {'top-100': 0.11}\n",
      "Iteration 6, Results: {'top-100': 0.12}\n",
      "Iteration 7, Results: {'top-100': 0.13}\n",
      "Iteration 8, Results: {'top-100': 0.14}\n",
      "Iteration 9, Results: {'top-100': 0.16}\n",
      "Iteration 10, Results: {'top-100': 0.17}\n",
      "Running Experiment Exp01 replicate 4\n",
      "y values of starting points [ -9.77732  -7.18859 -10.7092   -5.2593   -8.03656  -5.08976  -5.86218\n",
      "  -8.30181  -9.91991  -7.22634  -9.10884  -6.49014  -4.77661  -6.39011\n",
      "  -7.49452  -6.33912  -6.83587  -8.36223 -10.0039   -6.06119  -9.19345\n",
      "  -5.72659  -8.92369  -6.54192  -9.2556   -7.63751 -10.0847   -8.52244\n",
      "  -5.76825  -7.6675 ]\n",
      "Iteration 1, Results: {'top-100': 0.08}\n",
      "Iteration 2, Results: {'top-100': 0.1}\n",
      "Iteration 3, Results: {'top-100': 0.11}\n",
      "Iteration 4, Results: {'top-100': 0.11}\n",
      "Iteration 5, Results: {'top-100': 0.11}\n",
      "Iteration 6, Results: {'top-100': 0.11}\n",
      "Iteration 7, Results: {'top-100': 0.11}\n",
      "Iteration 8, Results: {'top-100': 0.11}\n",
      "Iteration 9, Results: {'top-100': 0.12}\n",
      "Iteration 10, Results: {'top-100': 0.13}\n",
      "Running Experiment Exp01 replicate 5\n",
      "y values of starting points [-4.28312 -8.24177 -9.23354 -9.61804 -6.73555 -6.58266 -9.33828 -8.83291\n",
      " -8.56128 -8.6397  -8.57718 -9.2894  -7.17275 -7.29854 -8.81056 -9.21848\n",
      " -7.96235 -8.43666 -9.09223 -8.45928 -8.50388 -8.40514 -8.78131 -6.37802\n",
      " -9.59776 -8.91347 -7.95454 -7.52781 -8.89818 -2.28993]\n",
      "Iteration 1, Results: {'top-100': 0.01}\n",
      "Iteration 2, Results: {'top-100': 0.02}\n",
      "Iteration 3, Results: {'top-100': 0.08}\n",
      "Iteration 4, Results: {'top-100': 0.06}\n",
      "Iteration 5, Results: {'top-100': 0.07}\n",
      "Iteration 6, Results: {'top-100': 0.06}\n",
      "Iteration 7, Results: {'top-100': 0.08}\n",
      "Iteration 8, Results: {'top-100': 0.11}\n",
      "Iteration 9, Results: {'top-100': 0.13}\n",
      "Iteration 10, Results: {'top-100': 0.14}\n"
     ]
    },
    {
     "ename": "AttributeError",
     "evalue": "Can't get attribute 'Dataset' on <module '__main__'>",
     "output_type": "error",
     "traceback": [
      "\u001b[1;31m---------------------------------------------------------------------------\u001b[0m",
      "\u001b[1;31mAttributeError\u001b[0m                            Traceback (most recent call last)",
      "\u001b[1;32mc:\\Users\\xsj110\\Development\\MDRMF\\dev_test_seeds.ipynb Cell 3\u001b[0m line \u001b[0;36m1\n\u001b[1;32m----> <a href='vscode-notebook-cell:/c%3A/Users/xsj110/Development/MDRMF/dev_test_seeds.ipynb#W2sZmlsZQ%3D%3D?line=0'>1</a>\u001b[0m experiment\u001b[39m.\u001b[39;49mconduct_all_experiments()\n",
      "File \u001b[1;32mc:\\Users\\xsj110\\Development\\MDRMF\\MDRMF\\experimenter.py:73\u001b[0m, in \u001b[0;36mExperimenter.conduct_all_experiments\u001b[1;34m(self)\u001b[0m\n\u001b[0;32m     71\u001b[0m key, value \u001b[39m=\u001b[39m \u001b[39mlist\u001b[39m(experiment\u001b[39m.\u001b[39mitems())[\u001b[39m0\u001b[39m]\n\u001b[0;32m     72\u001b[0m \u001b[39mif\u001b[39;00m key \u001b[39m==\u001b[39m \u001b[39m'\u001b[39m\u001b[39mExperiment\u001b[39m\u001b[39m'\u001b[39m:\n\u001b[1;32m---> 73\u001b[0m     \u001b[39mself\u001b[39;49m\u001b[39m.\u001b[39;49mconduct_experiment(value)\n\u001b[0;32m     74\u001b[0m \u001b[39mif\u001b[39;00m key \u001b[39m==\u001b[39m \u001b[39m'\u001b[39m\u001b[39mDataset\u001b[39m\u001b[39m'\u001b[39m:\n\u001b[0;32m     75\u001b[0m     \u001b[39m# Call self.make_dataset(value)\u001b[39;00m\n\u001b[0;32m     76\u001b[0m     \u001b[39mpass\u001b[39;00m\n",
      "File \u001b[1;32mc:\\Users\\xsj110\\Development\\MDRMF\\MDRMF\\experimenter.py:107\u001b[0m, in \u001b[0;36mExperimenter.conduct_experiment\u001b[1;34m(self, exp_config)\u001b[0m\n\u001b[0;32m    105\u001b[0m \u001b[39mif\u001b[39;00m \u001b[39m'\u001b[39m\u001b[39mdataset\u001b[39m\u001b[39m'\u001b[39m \u001b[39min\u001b[39;00m exp_config:\n\u001b[0;32m    106\u001b[0m     dataset_file \u001b[39m=\u001b[39m exp_config[\u001b[39m'\u001b[39m\u001b[39mdataset\u001b[39m\u001b[39m'\u001b[39m]\n\u001b[1;32m--> 107\u001b[0m     dataset_model \u001b[39m=\u001b[39m Dataset\u001b[39m.\u001b[39;49mload(dataset_file)\n\u001b[0;32m    108\u001b[0m \u001b[39melif\u001b[39;00m \u001b[39m'\u001b[39m\u001b[39mdata\u001b[39m\u001b[39m'\u001b[39m \u001b[39min\u001b[39;00m exp_config:\n\u001b[0;32m    109\u001b[0m     \u001b[39m# Load data\u001b[39;00m\n\u001b[0;32m    110\u001b[0m     data_conf \u001b[39m=\u001b[39m exp_config[\u001b[39m'\u001b[39m\u001b[39mdata\u001b[39m\u001b[39m'\u001b[39m]\n",
      "File \u001b[1;32mc:\\Users\\xsj110\\Development\\MDRMF\\MDRMF\\dataset.py:40\u001b[0m, in \u001b[0;36mDataset.load\u001b[1;34m(filename)\u001b[0m\n\u001b[0;32m     37\u001b[0m \u001b[39m@staticmethod\u001b[39m\n\u001b[0;32m     38\u001b[0m \u001b[39mdef\u001b[39;00m \u001b[39mload\u001b[39m(filename):\n\u001b[0;32m     39\u001b[0m     \u001b[39mwith\u001b[39;00m \u001b[39mopen\u001b[39m(filename, \u001b[39m\"\u001b[39m\u001b[39mrb\u001b[39m\u001b[39m\"\u001b[39m) \u001b[39mas\u001b[39;00m f:\n\u001b[1;32m---> 40\u001b[0m         \u001b[39mreturn\u001b[39;00m pickle\u001b[39m.\u001b[39;49mload(f)\n",
      "\u001b[1;31mAttributeError\u001b[0m: Can't get attribute 'Dataset' on <module '__main__'>"
     ]
    }
   ],
   "source": [
    "experiment.conduct_all_experiments()"
   ]
  }
 ],
 "metadata": {
  "kernelspec": {
   "display_name": "Python 3",
   "language": "python",
   "name": "python3"
  },
  "language_info": {
   "codemirror_mode": {
    "name": "ipython",
    "version": 3
   },
   "file_extension": ".py",
   "mimetype": "text/x-python",
   "name": "python",
   "nbconvert_exporter": "python",
   "pygments_lexer": "ipython3",
   "version": "3.8.10"
  },
  "orig_nbformat": 4
 },
 "nbformat": 4,
 "nbformat_minor": 2
}

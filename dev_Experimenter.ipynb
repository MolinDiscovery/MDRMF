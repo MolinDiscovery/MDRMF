{
 "cells": [
  {
   "cell_type": "code",
   "execution_count": 3,
   "metadata": {},
   "outputs": [],
   "source": [
    "import MDRMF as mf\n",
    "from MDRMF.models import RFModeller\n",
    "from matplotlib import pyplot as plt"
   ]
  },
  {
   "cell_type": "code",
   "execution_count": 4,
   "metadata": {},
   "outputs": [],
   "source": [
    "data = mf.MoleculeLoader(datafile=\"10K.csv\", smi_col=\"SMILES\", scores_col=\"r_i_docking_score\").df\n",
    "feat = mf.Featurizer(data)\n",
    "features = feat.featurize(\"morgan\", radius=2, nBits=256)"
   ]
  },
  {
   "cell_type": "code",
   "execution_count": 5,
   "metadata": {},
   "outputs": [
    {
     "data": {
      "text/plain": [
       "<Dataset X.shape: (9898, 256), y.shape: (9898,), w.shape: (9898,), ids: ['C[C@@H](NC(=O)N1C[C@H](c2ccccc2)[C@H]2COCC[C@H]21)c1ccc(NC(=O)NC2CC2)cc1'\n",
       " 'O=C(Nc1cccc(C(=O)N2CCC(c3c[nH]c4ncccc34)CC2)c1)[C@@H]1Cc2ccccc2O1'\n",
       " 'Cc1nn(-c2ccccc2)c2nc(C(=O)N3CCC([C@H]4C(=O)Nc5ccccc54)CC3)ccc12' ...\n",
       " 'Cn1cccc(C(=O)N2CCN(C3CC3)c3ccc(Cl)cc32)c1=O'\n",
       " 'O=C([O-])[C@H]1CC[C@@H](C(=O)N2CCCc3ccccc32)CC1'\n",
       " 'CCNS(=O)(=O)c1cc(NCCOC)ccn1']>"
      ]
     },
     "execution_count": 5,
     "metadata": {},
     "output_type": "execute_result"
    }
   ],
   "source": [
    "X = features\n",
    "y = data['scores']\n",
    "ids = data['SMILES']\n",
    "\n",
    "dataset = mf.Dataset(X=X, y=y, ids=ids)\n",
    "dataset_model = mf.Dataset(X=X, y=y, ids=ids)\n",
    "dataset"
   ]
  },
  {
   "cell_type": "code",
   "execution_count": 6,
   "metadata": {},
   "outputs": [],
   "source": [
    "from MDRMF import Dataset\n",
    "from MDRMF.models import Modeller\n",
    "\n",
    "class Model:\n",
    "    def __init__(self, model: Modeller) -> None:\n",
    "        self.model = model\n",
    "\n",
    "    def train(self):\n",
    "        self.model.fit()\n",
    "\n",
    "    def predict(self, dataset: Dataset):\n",
    "        return self.model.predict(dataset)"
   ]
  },
  {
   "cell_type": "code",
   "execution_count": 23,
   "metadata": {},
   "outputs": [],
   "source": [
    "import numpy as np\n",
    "from sklearn.metrics import r2_score\n",
    "import copy\n",
    "\n",
    "class Evaluator:\n",
    "    def __init__(self, original_dataset, metrics, k_values):\n",
    "        self.dataset = copy.deepcopy(original_dataset)\n",
    "        self.metrics = metrics\n",
    "        self.k_values = [int(k) for k in k_values]\n",
    "\n",
    "    def evaluate(self, model, model_dataset):\n",
    "        results = {}\n",
    "        for metric in self.metrics:\n",
    "            if metric == \"R2_model\":\n",
    "                results[metric] = self.r2_model(model, model_dataset)\n",
    "            else:\n",
    "                for k in self.k_values:\n",
    "                    if metric == \"top-k\":\n",
    "                        results[f\"top-{k}\"] = self.top_n_correct(k, model)\n",
    "                    elif metric == \"R2_k\":\n",
    "                        results[f\"R2_k-{k}\"] = self.r2_n(k, model)\n",
    "        return results\n",
    "\n",
    "    def top_n_correct(self, n, model):\n",
    "        model_predictions = model.predict(self.dataset)\n",
    "        correct_preds_indices = np.argsort(model_predictions)[:n]\n",
    "        top_n_real_indices = np.argsort(self.dataset.y)[:n]\n",
    "        return np.mean(np.isin(correct_preds_indices, top_n_real_indices))\n",
    "\n",
    "\n",
    "    def r2_model(self, model, model_dataset):\n",
    "        '''\n",
    "        Returns the R2 value of the internal model\n",
    "        '''\n",
    "\n",
    "        # Find missing points in the model_dataset\n",
    "        training_points = self.dataset.missing_points(self.dataset, model_dataset)\n",
    "\n",
    "        y_true = training_points.y\n",
    "        y_pred = model.predict(training_points)\n",
    "\n",
    "        return r2_score(y_true, y_pred)\n",
    "   \n",
    "    # def r2_n(self, k, model):\n",
    "    #     '''\n",
    "    #     Returns the R2 value of the top k molecules\n",
    "    #     '''\n",
    "    #     # Find top k molecules\n",
    "    #     top_k_indices = np.argsort(self.dataset.y)[:k]\n",
    "\n",
    "    #     y_true = self.dataset.y[top_k_indices]\n",
    "    #     y_pred = model.predict(self.dataset.X[top_k_indices])\n",
    "\n",
    "    #     return r2_score(y_true, y_pred)\n",
    "    \n",
    "    def r2_n(self, n, model):\n",
    "        # Similar to top_n_correct but here we calculate the r2 score for the top n points\n",
    "        model_predictions = model.predict(self.dataset)\n",
    "        top_n_pred_indices = np.argsort(model_predictions)[:n]\n",
    "\n",
    "        y_true = self.dataset.y[top_n_pred_indices]\n",
    "        #y_true = np.sort(y_true)\n",
    "        #y_true = self.dataset.y[:n]\n",
    "        y_pred = model_predictions[top_n_pred_indices]\n",
    "\n",
    "        return r2_score(y_true, y_pred)\n"
   ]
  },
  {
   "cell_type": "code",
   "execution_count": 46,
   "metadata": {},
   "outputs": [],
   "source": [
    "metrics = ['top-k', 'R2_k']\n",
    "k_values = ['100']\n",
    "eval = Evaluator(dataset, metrics, k_values)"
   ]
  },
  {
   "cell_type": "code",
   "execution_count": 47,
   "metadata": {},
   "outputs": [],
   "source": [
    "dataset_model = mf.Dataset(X=X, y=y, ids=ids)\n",
    "rf_model = RFModeller(\n",
    "    dataset=dataset_model,\n",
    "    evaluator=eval,\n",
    "    iterations=60,\n",
    "    initial_sample_size=10,\n",
    "    acquisition_size=30,\n",
    "    acquisition_method=\"greedy\",\n",
    "    n_estimators=50\n",
    ")"
   ]
  },
  {
   "cell_type": "code",
   "execution_count": 48,
   "metadata": {},
   "outputs": [
    {
     "name": "stdout",
     "output_type": "stream",
     "text": [
      "Iteration 0, Results: {'top-100': 0.06, 'R2_k-100': -0.34909869647378233}\n",
      "Iteration 1, Results: {'top-100': 0.08, 'R2_k-100': 0.016969324172466216}\n",
      "Iteration 2, Results: {'top-100': 0.1, 'R2_k-100': 0.037561603888990436}\n",
      "Iteration 3, Results: {'top-100': 0.11, 'R2_k-100': 0.2990995846066038}\n",
      "Iteration 4, Results: {'top-100': 0.12, 'R2_k-100': 0.2639636246926038}\n",
      "Iteration 5, Results: {'top-100': 0.14, 'R2_k-100': 0.2490473401685288}\n",
      "Iteration 6, Results: {'top-100': 0.17, 'R2_k-100': 0.3862686985939574}\n",
      "Iteration 7, Results: {'top-100': 0.17, 'R2_k-100': 0.4486889072718677}\n",
      "Iteration 8, Results: {'top-100': 0.17, 'R2_k-100': 0.5289878225193672}\n",
      "Iteration 9, Results: {'top-100': 0.17, 'R2_k-100': 0.370937300535244}\n",
      "Iteration 10, Results: {'top-100': 0.17, 'R2_k-100': 0.4800593159440937}\n",
      "Iteration 11, Results: {'top-100': 0.2, 'R2_k-100': 0.42472092149334517}\n",
      "Iteration 12, Results: {'top-100': 0.22, 'R2_k-100': 0.3569998977580985}\n",
      "Iteration 13, Results: {'top-100': 0.24, 'R2_k-100': 0.2402509482132219}\n",
      "Iteration 14, Results: {'top-100': 0.24, 'R2_k-100': 0.17667412043750552}\n",
      "Iteration 15, Results: {'top-100': 0.25, 'R2_k-100': 0.047526993351686864}\n",
      "Iteration 16, Results: {'top-100': 0.26, 'R2_k-100': -0.04735668052678754}\n",
      "Iteration 17, Results: {'top-100': 0.26, 'R2_k-100': 0.12435300793161486}\n",
      "Iteration 18, Results: {'top-100': 0.29, 'R2_k-100': -0.02913697129751891}\n",
      "Iteration 19, Results: {'top-100': 0.3, 'R2_k-100': 0.010182895306269257}\n",
      "Iteration 20, Results: {'top-100': 0.32, 'R2_k-100': 0.1317377642594224}\n",
      "Iteration 21, Results: {'top-100': 0.33, 'R2_k-100': 0.009142650972422062}\n",
      "Iteration 22, Results: {'top-100': 0.35, 'R2_k-100': 0.10278789029342617}\n",
      "Iteration 23, Results: {'top-100': 0.41, 'R2_k-100': -0.06179309331411642}\n",
      "Iteration 24, Results: {'top-100': 0.43, 'R2_k-100': -0.004279391150578737}\n",
      "Iteration 25, Results: {'top-100': 0.48, 'R2_k-100': -0.06473255905988773}\n",
      "Iteration 26, Results: {'top-100': 0.47, 'R2_k-100': 0.003901587193261169}\n",
      "Iteration 27, Results: {'top-100': 0.49, 'R2_k-100': -0.18817548914405413}\n",
      "Iteration 28, Results: {'top-100': 0.49, 'R2_k-100': -0.032908003893676874}\n",
      "Iteration 29, Results: {'top-100': 0.49, 'R2_k-100': -0.22748446703849035}\n",
      "Iteration 30, Results: {'top-100': 0.5, 'R2_k-100': -0.07893279661379138}\n",
      "Iteration 31, Results: {'top-100': 0.47, 'R2_k-100': -0.25348008374660846}\n",
      "Iteration 32, Results: {'top-100': 0.48, 'R2_k-100': -0.22272677234060123}\n",
      "Iteration 33, Results: {'top-100': 0.5, 'R2_k-100': -0.4330941564826034}\n",
      "Iteration 34, Results: {'top-100': 0.5, 'R2_k-100': -0.2358729391748251}\n",
      "Iteration 35, Results: {'top-100': 0.5, 'R2_k-100': -0.09722720939593077}\n",
      "Iteration 36, Results: {'top-100': 0.54, 'R2_k-100': -0.14535149125486768}\n",
      "Iteration 37, Results: {'top-100': 0.54, 'R2_k-100': -0.321403419527178}\n",
      "Iteration 38, Results: {'top-100': 0.53, 'R2_k-100': -0.4488281382485191}\n",
      "Iteration 39, Results: {'top-100': 0.53, 'R2_k-100': -0.34073584383699673}\n",
      "Iteration 40, Results: {'top-100': 0.53, 'R2_k-100': -0.34860799911216866}\n",
      "Iteration 41, Results: {'top-100': 0.54, 'R2_k-100': -0.5996261960942315}\n",
      "Iteration 42, Results: {'top-100': 0.54, 'R2_k-100': -0.3989797747195054}\n",
      "Iteration 43, Results: {'top-100': 0.55, 'R2_k-100': -0.4471697300912203}\n",
      "Iteration 44, Results: {'top-100': 0.54, 'R2_k-100': -0.4489390944354297}\n",
      "Iteration 45, Results: {'top-100': 0.57, 'R2_k-100': -0.5147934920433448}\n",
      "Iteration 46, Results: {'top-100': 0.57, 'R2_k-100': -0.4291712920865418}\n",
      "Iteration 47, Results: {'top-100': 0.56, 'R2_k-100': -0.4101968250495349}\n",
      "Iteration 48, Results: {'top-100': 0.55, 'R2_k-100': -0.4952817652820489}\n",
      "Iteration 49, Results: {'top-100': 0.54, 'R2_k-100': -0.5726570975562384}\n",
      "Iteration 50, Results: {'top-100': 0.56, 'R2_k-100': -0.5591401878569717}\n",
      "Iteration 51, Results: {'top-100': 0.56, 'R2_k-100': -0.31561930011882544}\n",
      "Iteration 52, Results: {'top-100': 0.57, 'R2_k-100': -0.31192595630231557}\n",
      "Iteration 53, Results: {'top-100': 0.55, 'R2_k-100': -0.450599223798285}\n",
      "Iteration 54, Results: {'top-100': 0.56, 'R2_k-100': -0.5499496248818605}\n",
      "Iteration 55, Results: {'top-100': 0.59, 'R2_k-100': -0.45528533046497466}\n",
      "Iteration 56, Results: {'top-100': 0.58, 'R2_k-100': -0.5184805805105683}\n",
      "Iteration 57, Results: {'top-100': 0.54, 'R2_k-100': -0.5018825968717853}\n",
      "Iteration 58, Results: {'top-100': 0.58, 'R2_k-100': -0.47939679076807806}\n",
      "Iteration 59, Results: {'top-100': 0.56, 'R2_k-100': -0.5017880921887934}\n"
     ]
    }
   ],
   "source": [
    "model = Model(model=rf_model)\n",
    "model.train()"
   ]
  },
  {
   "cell_type": "code",
   "execution_count": 49,
   "metadata": {},
   "outputs": [
    {
     "data": {
      "text/plain": [
       "{0: {'top-100': 0.06, 'R2_k-100': -0.34909869647378233},\n",
       " 1: {'top-100': 0.08, 'R2_k-100': 0.016969324172466216},\n",
       " 2: {'top-100': 0.1, 'R2_k-100': 0.037561603888990436},\n",
       " 3: {'top-100': 0.11, 'R2_k-100': 0.2990995846066038},\n",
       " 4: {'top-100': 0.12, 'R2_k-100': 0.2639636246926038},\n",
       " 5: {'top-100': 0.14, 'R2_k-100': 0.2490473401685288},\n",
       " 6: {'top-100': 0.17, 'R2_k-100': 0.3862686985939574},\n",
       " 7: {'top-100': 0.17, 'R2_k-100': 0.4486889072718677},\n",
       " 8: {'top-100': 0.17, 'R2_k-100': 0.5289878225193672},\n",
       " 9: {'top-100': 0.17, 'R2_k-100': 0.370937300535244},\n",
       " 10: {'top-100': 0.17, 'R2_k-100': 0.4800593159440937},\n",
       " 11: {'top-100': 0.2, 'R2_k-100': 0.42472092149334517},\n",
       " 12: {'top-100': 0.22, 'R2_k-100': 0.3569998977580985},\n",
       " 13: {'top-100': 0.24, 'R2_k-100': 0.2402509482132219},\n",
       " 14: {'top-100': 0.24, 'R2_k-100': 0.17667412043750552},\n",
       " 15: {'top-100': 0.25, 'R2_k-100': 0.047526993351686864},\n",
       " 16: {'top-100': 0.26, 'R2_k-100': -0.04735668052678754},\n",
       " 17: {'top-100': 0.26, 'R2_k-100': 0.12435300793161486},\n",
       " 18: {'top-100': 0.29, 'R2_k-100': -0.02913697129751891},\n",
       " 19: {'top-100': 0.3, 'R2_k-100': 0.010182895306269257},\n",
       " 20: {'top-100': 0.32, 'R2_k-100': 0.1317377642594224},\n",
       " 21: {'top-100': 0.33, 'R2_k-100': 0.009142650972422062},\n",
       " 22: {'top-100': 0.35, 'R2_k-100': 0.10278789029342617},\n",
       " 23: {'top-100': 0.41, 'R2_k-100': -0.06179309331411642},\n",
       " 24: {'top-100': 0.43, 'R2_k-100': -0.004279391150578737},\n",
       " 25: {'top-100': 0.48, 'R2_k-100': -0.06473255905988773},\n",
       " 26: {'top-100': 0.47, 'R2_k-100': 0.003901587193261169},\n",
       " 27: {'top-100': 0.49, 'R2_k-100': -0.18817548914405413},\n",
       " 28: {'top-100': 0.49, 'R2_k-100': -0.032908003893676874},\n",
       " 29: {'top-100': 0.49, 'R2_k-100': -0.22748446703849035},\n",
       " 30: {'top-100': 0.5, 'R2_k-100': -0.07893279661379138},\n",
       " 31: {'top-100': 0.47, 'R2_k-100': -0.25348008374660846},\n",
       " 32: {'top-100': 0.48, 'R2_k-100': -0.22272677234060123},\n",
       " 33: {'top-100': 0.5, 'R2_k-100': -0.4330941564826034},\n",
       " 34: {'top-100': 0.5, 'R2_k-100': -0.2358729391748251},\n",
       " 35: {'top-100': 0.5, 'R2_k-100': -0.09722720939593077},\n",
       " 36: {'top-100': 0.54, 'R2_k-100': -0.14535149125486768},\n",
       " 37: {'top-100': 0.54, 'R2_k-100': -0.321403419527178},\n",
       " 38: {'top-100': 0.53, 'R2_k-100': -0.4488281382485191},\n",
       " 39: {'top-100': 0.53, 'R2_k-100': -0.34073584383699673},\n",
       " 40: {'top-100': 0.53, 'R2_k-100': -0.34860799911216866},\n",
       " 41: {'top-100': 0.54, 'R2_k-100': -0.5996261960942315},\n",
       " 42: {'top-100': 0.54, 'R2_k-100': -0.3989797747195054},\n",
       " 43: {'top-100': 0.55, 'R2_k-100': -0.4471697300912203},\n",
       " 44: {'top-100': 0.54, 'R2_k-100': -0.4489390944354297},\n",
       " 45: {'top-100': 0.57, 'R2_k-100': -0.5147934920433448},\n",
       " 46: {'top-100': 0.57, 'R2_k-100': -0.4291712920865418},\n",
       " 47: {'top-100': 0.56, 'R2_k-100': -0.4101968250495349},\n",
       " 48: {'top-100': 0.55, 'R2_k-100': -0.4952817652820489},\n",
       " 49: {'top-100': 0.54, 'R2_k-100': -0.5726570975562384},\n",
       " 50: {'top-100': 0.56, 'R2_k-100': -0.5591401878569717},\n",
       " 51: {'top-100': 0.56, 'R2_k-100': -0.31561930011882544},\n",
       " 52: {'top-100': 0.57, 'R2_k-100': -0.31192595630231557},\n",
       " 53: {'top-100': 0.55, 'R2_k-100': -0.450599223798285},\n",
       " 54: {'top-100': 0.56, 'R2_k-100': -0.5499496248818605},\n",
       " 55: {'top-100': 0.59, 'R2_k-100': -0.45528533046497466},\n",
       " 56: {'top-100': 0.58, 'R2_k-100': -0.5184805805105683},\n",
       " 57: {'top-100': 0.54, 'R2_k-100': -0.5018825968717853},\n",
       " 58: {'top-100': 0.58, 'R2_k-100': -0.47939679076807806},\n",
       " 59: {'top-100': 0.56, 'R2_k-100': -0.5017880921887934}}"
      ]
     },
     "execution_count": 49,
     "metadata": {},
     "output_type": "execute_result"
    }
   ],
   "source": [
    "model.model.results"
   ]
  },
  {
   "cell_type": "code",
   "execution_count": 50,
   "metadata": {},
   "outputs": [
    {
     "data": {
      "text/plain": [
       "<matplotlib.legend.Legend at 0x251eb4804c0>"
      ]
     },
     "execution_count": 50,
     "metadata": {},
     "output_type": "execute_result"
    },
    {
     "data": {
      "image/png": "[encoded data removed]",
      "text/plain": [
       "<Figure size 640x480 with 1 Axes>"
      ]
     },
     "metadata": {},
     "output_type": "display_data"
    }
   ],
   "source": [
    "predictions = model.predict(dataset)\n",
    "\n",
    "plt.plot(dataset.y, dataset.y, label=\"True values\")\n",
    "plt.scatter(dataset.y, predictions, marker=\".\", label=\"Predictions\")\n",
    "plt.gca().set(xlabel='True', ylabel='Predicted', title='Predictions')\n",
    "plt.legend()"
   ]
  },
  {
   "cell_type": "code",
   "execution_count": null,
   "metadata": {},
   "outputs": [],
   "source": []
  }
 ],
 "metadata": {
  "kernelspec": {
   "display_name": "Python 3",
   "language": "python",
   "name": "python3"
  },
  "language_info": {
   "codemirror_mode": {
    "name": "ipython",
    "version": 3
   },
   "file_extension": ".py",
   "mimetype": "text/x-python",
   "name": "python",
   "nbconvert_exporter": "python",
   "pygments_lexer": "ipython3",
   "version": "3.8.10"
  },
  "orig_nbformat": 4
 },
 "nbformat": 4,
 "nbformat_minor": 2
}

{
 "cells": [
  {
   "cell_type": "code",
   "execution_count": 15,
   "metadata": {},
   "outputs": [],
   "source": [
    "from typing import List\n",
    "import yaml\n",
    "from MDRMF import Dataset, MoleculeLoader, Featurizer\n",
    "\n",
    "class Experimenter:\n",
    "\n",
    "    def __init__(self, config_file: str):\n",
    "        self.config_file = config_file\n",
    "        self.experiments = self._load_config()\n",
    "    \n",
    "    def _load_config(self) -> List[dict]:\n",
    "        with open(self.config_file, 'r') as stream:\n",
    "            try:\n",
    "                config = yaml.safe_load(stream)\n",
    "            except yaml.YAMLError as exc:\n",
    "                print(exc)\n",
    "                return []\n",
    "\n",
    "        # If there is only one experiment, make it into a list\n",
    "        if isinstance(config, dict):\n",
    "            config = [config]\n",
    "\n",
    "        return [config]\n",
    "    \n",
    "    def conduct_all_experiments(self):\n",
    "        for config in self.experiments:\n",
    "            for experiment in config:\n",
    "                key, value = list(experiment.items())[0]\n",
    "                if key == 'Experiment':\n",
    "                    self.conduct_experiment(value)\n",
    "                elif key == 'Dataset':\n",
    "                    # add your code here to handle 'Dataset' cases\n",
    "                    pass\n",
    "                elif key == 'Parallelize_experiments':\n",
    "                    # add your code here to handle 'Parallelize_experiments' cases\n",
    "                    pass\n",
    "    \n",
    "    def conduct_experiment(self, exp_config: dict):\n",
    "        # If there is a dataset use this\n",
    "        if 'dataset' in exp_config:\n",
    "            dataset_file = exp_config['dataset']\n",
    "            dataset_model = Dataset.load(dataset_file)\n",
    "            dataset_eval = Dataset.load(dataset_file)\n",
    "        elif 'data' in exp_config:\n",
    "            # Load data\n",
    "            data_conf = exp_config['data']\n",
    "\n",
    "            datafile = data_conf['datafile']\n",
    "            SMILES = data_conf['SMILES_col']\n",
    "            scores = data_conf['scores_col']\n",
    "            ids = data_conf['ids_col']\n",
    "\n",
    "            data = MoleculeLoader(datafile, SMILES, scores).df\n",
    "\n",
    "            # Featurize\n",
    "            feat = Featurizer(data)\n",
    "            feat_config = exp_config['featurizer']\n",
    "\n",
    "            feat_type = feat_config['name']\n",
    "            feat_params = feat_config.copy()\n",
    "            del feat_params['name']\n",
    "\n",
    "            features = feat.featurize(feat_type, **feat_params)\n",
    "\n",
    "            # Get data\n",
    "            X = data[SMILES]\n",
    "            y = data[scores]\n",
    "            ids_data = data[ids]\n",
    "\n",
    "            # Make datasets\n",
    "            dataset_model = Dataset(X=X, y=y, ids=ids_data)\n",
    "            dataset_eval = Dataset(X=X, y=y, ids=ids_data)\n",
    "\n",
    "            # Save the dataset\n",
    "            dataset_model.save(\"dataset_\" + exp_config['name']+\".pkl\")\n",
    "\n",
    "        for i in range(exp_config['replicate']):\n",
    "            print(f\"Running Experiment {exp_config['name']} replicate {i+1}\")\n",
    "            "
   ]
  },
  {
   "cell_type": "code",
   "execution_count": 18,
   "metadata": {},
   "outputs": [],
   "source": [
    "exp = Experimenter(\"test.yaml\")"
   ]
  },
  {
   "cell_type": "code",
   "execution_count": 20,
   "metadata": {},
   "outputs": [
    {
     "name": "stdout",
     "output_type": "stream",
     "text": [
      "Running Experiment Exp01 replicate 1\n",
      "Running Experiment Exp01 replicate 2\n",
      "Running Experiment Exp01 replicate 3\n",
      "Running Experiment Exp01 replicate 4\n",
      "Running Experiment Exp01 replicate 5\n",
      "Running Experiment Exp02 replicate 1\n",
      "Running Experiment Exp02 replicate 2\n",
      "Running Experiment Exp02 replicate 3\n",
      "Running Experiment Exp02 replicate 4\n",
      "Running Experiment Exp02 replicate 5\n"
     ]
    }
   ],
   "source": [
    "exp.conduct_all_experiments()"
   ]
  }
 ],
 "metadata": {
  "kernelspec": {
   "display_name": "Python 3",
   "language": "python",
   "name": "python3"
  },
  "language_info": {
   "codemirror_mode": {
    "name": "ipython",
    "version": 3
   },
   "file_extension": ".py",
   "mimetype": "text/x-python",
   "name": "python",
   "nbconvert_exporter": "python",
   "pygments_lexer": "ipython3",
   "version": "3.8.10"
  },
  "orig_nbformat": 4
 },
 "nbformat": 4,
 "nbformat_minor": 2
}

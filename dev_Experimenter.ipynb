{
 "cells": [
  {
   "cell_type": "code",
   "execution_count": 46,
   "metadata": {},
   "outputs": [],
   "source": [
    "from typing import List\n",
    "import yaml\n",
    "from MDRMF import Dataset, MoleculeLoader, Featurizer\n",
    "\n",
    "class Experimenter:\n",
    "\n",
    "    def __init__(self, config_file: str):\n",
    "        self.config_file = config_file\n",
    "        self.experiments = self._load_config()\n",
    "    \n",
    "    def _load_config(self) -> List[dict]:\n",
    "        with open(self.config_file, 'r') as stream:\n",
    "            try:\n",
    "                config = yaml.safe_load(stream)\n",
    "            except yaml.YAMLError as exc:\n",
    "                print(exc)\n",
    "                return []\n",
    "\n",
    "        # If there is only one experiment, make it into a list\n",
    "        if isinstance(config, dict):\n",
    "            config = [config]\n",
    "\n",
    "        return [config]\n",
    "    \n",
    "    def conduct_all_experiments(self):\n",
    "        for config in self.experiments:\n",
    "            if 'Experiment' in config:\n",
    "                exp_config = config['Experiment']\n",
    "                self.conduct_experiment(exp_config)\n",
    "    \n",
    "    def conduct_experiment(self, exp_config: dict):\n",
    "        # If there is a dataset use this\n",
    "        if 'dataset' in exp_config:\n",
    "            dataset_file = exp_config['dataset']\n",
    "            dataset_model = Dataset.load(dataset_file)\n",
    "            dataset_eval = Dataset.load(dataset_file)\n",
    "        elif 'data' in exp_config:\n",
    "            data_conf = exp_config['data']\n",
    "\n",
    "            datafile = data_conf['datafile']\n",
    "            SMILES = data_conf['SMILES_col']\n",
    "            scores = data_conf['scores_col']\n",
    "            ids = data_conf['ids_col']\n",
    "\n",
    "            data = MoleculeLoader(datafile, SMILES, scores)\n",
    "            feat = Featurizer(data)\n",
    "            "
   ]
  },
  {
   "cell_type": "code",
   "execution_count": 47,
   "metadata": {},
   "outputs": [],
   "source": [
    "exp = Experimenter(\"test.yaml\")"
   ]
  },
  {
   "cell_type": "code",
   "execution_count": 49,
   "metadata": {},
   "outputs": [
    {
     "data": {
      "text/plain": [
       "[[{'Experiment': {'name': 'Exp01',\n",
       "    'data': {'datafile': 'data10k.csv',\n",
       "     'SMILES': 'SMILES',\n",
       "     'scores': 'r_i_docking_score',\n",
       "     'ids': 'SMILES'},\n",
       "    'featurizer': {'name': 'morgan', 'nBits': 512, 'radius': 2},\n",
       "    'model': {'name': 'RFModeller',\n",
       "     'iterations': 60,\n",
       "     'initial_sample_size': 30,\n",
       "     'acquisition_size': 30,\n",
       "     'acquisition_method': 'greedy'},\n",
       "    'metrics': {'names': ['top-k', 'R2_k'], 'k': [100, 50]},\n",
       "    'repeat': 5}},\n",
       "  {'Experiment': {'name': 'Exp02',\n",
       "    'dataset': 'dataset.pkl',\n",
       "    'model': {'name': 'RFModel',\n",
       "     'iterations': 90,\n",
       "     'initial_sample_size': 20,\n",
       "     'acquisition_size': 20,\n",
       "     'acquisition_method': 'greedy'},\n",
       "    'metrics': {'names': ['top-k', 'R2_k'], 'k': [100, 50]},\n",
       "    'repeat': 5}},\n",
       "  {'Dataset': {'name': 'dataset01',\n",
       "    'featurizer': {'name': 'morgan', 'nBits': 256, 'radius': 2}}}]]"
      ]
     },
     "execution_count": 49,
     "metadata": {},
     "output_type": "execute_result"
    }
   ],
   "source": [
    "exp.experiments"
   ]
  }
 ],
 "metadata": {
  "kernelspec": {
   "display_name": "Python 3",
   "language": "python",
   "name": "python3"
  },
  "language_info": {
   "codemirror_mode": {
    "name": "ipython",
    "version": 3
   },
   "file_extension": ".py",
   "mimetype": "text/x-python",
   "name": "python",
   "nbconvert_exporter": "python",
   "pygments_lexer": "ipython3",
   "version": "3.8.10"
  },
  "orig_nbformat": 4
 },
 "nbformat": 4,
 "nbformat_minor": 2
}
